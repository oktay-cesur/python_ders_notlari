{
 "cells": [
  {
   "cell_type": "markdown",
   "metadata": {},
   "source": [
    "Burada sınav puanlaması, soruların cevaplanması vs gibi şeylerin yönergesi olacaktır. Sınavdan sınava değişir."
   ]
  }
 ],
 "metadata": {
  "language_info": {
   "name": "python"
  }
 },
 "nbformat": 4,
 "nbformat_minor": 2
}
