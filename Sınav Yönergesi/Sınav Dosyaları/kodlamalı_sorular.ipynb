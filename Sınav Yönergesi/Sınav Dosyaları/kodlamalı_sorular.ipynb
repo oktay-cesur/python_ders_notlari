{
 "cells": [
  {
   "cell_type": "markdown",
   "metadata": {
    "vscode": {
     "languageId": "plaintext"
    }
   },
   "source": [
    "### Soru 1(15p): \n",
    "İlk satıra 1 tane, ikinci satıra 2 tane, ... son satıra 10 tane \"-\" çıktısı veren programı yazın."
   ]
  },
  {
   "cell_type": "code",
   "execution_count": null,
   "metadata": {},
   "outputs": [],
   "source": []
  },
  {
   "cell_type": "markdown",
   "metadata": {},
   "source": [
    "### Soru 2(20p): \n",
    "`Veriler` klasöründeki `csv_dosyasi.csv` dosyasıni aşağıdaki şekilde işleyiniz. Her bir kod bloğu gerekli yüklemeler yapılmalı, kendi başına tutarlı şekilde çalışabilmelidir.\n"
   ]
  },
  {
   "cell_type": "markdown",
   "metadata": {},
   "source": [
    "A. `Sütun 1`' deki verilerin ortalamasını yazdırınız. (10p)"
   ]
  },
  {
   "cell_type": "code",
   "execution_count": null,
   "metadata": {},
   "outputs": [],
   "source": []
  },
  {
   "cell_type": "markdown",
   "metadata": {},
   "source": [
    "B. `Sütun 2`' denin maksimum değerini yazdırınız. (10p)"
   ]
  },
  {
   "cell_type": "code",
   "execution_count": null,
   "metadata": {},
   "outputs": [],
   "source": []
  },
  {
   "cell_type": "markdown",
   "metadata": {},
   "source": [
    "### Soru 3(15p):\n",
    "Aşağıda girilen bir sayının kaç basamaklı olduğunu hesaplayan kod yazılmıştır. Bu kodu detaylı açıklamalar ve anlamlı değişken isimlendirmeleriyle düzenleyiniz. Düzenlenmiş halini teslim edeceğiniz klasörün içine soru_3.py şeklinde bir Python dosyasına kaydedin. \n",
    "\n",
    "*Not: Bu soruda normalde yazılması gerekenden fazla açıklama yapabilirsiniz.*\n",
    "\n",
    "\n",
    "```python\n",
    "s = int(input(\"Bir sayı giriniz.\"))\n",
    "b = 0\n",
    "\n",
    "if s == 0:\n",
    "    b = 1\n",
    "else:\n",
    "    while s != 0:\n",
    "        s //= 10\n",
    "        b += 1\n",
    "print(b)\n",
    "```"
   ]
  }
 ],
 "metadata": {
  "kernelspec": {
   "display_name": "Python 3 (ipykernel)",
   "language": "python",
   "name": "python3"
  },
  "language_info": {
   "codemirror_mode": {
    "name": "ipython",
    "version": 3
   },
   "file_extension": ".py",
   "mimetype": "text/x-python",
   "name": "python",
   "nbconvert_exporter": "python",
   "pygments_lexer": "ipython3",
   "version": "3.12.3"
  }
 },
 "nbformat": 4,
 "nbformat_minor": 4
}
