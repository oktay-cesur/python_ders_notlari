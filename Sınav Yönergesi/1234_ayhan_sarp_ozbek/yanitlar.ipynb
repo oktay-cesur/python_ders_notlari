{
 "cells": [
  {
   "cell_type": "markdown",
   "metadata": {},
   "source": [
    "### Soru 1(5p): Python nedir? \n",
    "\n",
    "Cevap: İnsanın kendine yakışanı giymesidir"
   ]
  },
  {
   "cell_type": "markdown",
   "metadata": {
    "vscode": {
     "languageId": "plaintext"
    }
   },
   "source": [
    "### Soru 2(10p): \n",
    "İlk satıra 1 tane, ikinci satıra 2 tane, ... son satıra 10 tane \"-\" çıktısı veren programı yazın."
   ]
  },
  {
   "cell_type": "code",
   "execution_count": 1,
   "metadata": {},
   "outputs": [
    {
     "name": "stdout",
     "output_type": "stream",
     "text": [
      "\n",
      "*\n",
      "**\n",
      "***\n",
      "****\n",
      "*****\n",
      "******\n",
      "*******\n",
      "********\n",
      "*********\n"
     ]
    }
   ],
   "source": [
    "# İlk döngü satır satır yazdırma, işlemlerni ikinci döngü .\n",
    "# İkinci döngü her satırın içinde yan yana yazılacak yıldızları yazdırır.\n",
    "for satir in range(10):\n",
    "    for sutun in range(satir):\n",
    "        print(\"*\", end=\"\")\n",
    "    print()"
   ]
  },
  {
   "cell_type": "markdown",
   "metadata": {},
   "source": [
    "### Soru 3(15p):\n",
    "Aşağıda girilen bir sayının kaç basamaklı olduğunu hesaplayan kod yazılmıştır. Bu kodu detaylı açıklamalar ve anlamlı değişken isimlendirmeleriyle düzenleyiniz. Düzenlenmiş halini teslim edeceğiniz klasörün içine soru_3.py şeklinde bir Python dosyasına kaydedin. \n",
    "\n",
    "*Not: Bu soruda normalde yazılması gerekenden fazla açıklama yapabilirsiniz.*\n",
    "\n",
    "\n",
    "```python\n",
    "s = int(input(\"Bir sayı giriniz.\"))\n",
    "b = 0\n",
    "\n",
    "if s == 0:\n",
    "    b = 1\n",
    "else:\n",
    "    while s != 0:\n",
    "        s //= 10\n",
    "        b += 1\n",
    "print(b)\n",
    "```"
   ]
  }
 ],
 "metadata": {
  "kernelspec": {
   "display_name": "Python 3 (ipykernel)",
   "language": "python",
   "name": "python3"
  },
  "language_info": {
   "codemirror_mode": {
    "name": "ipython",
    "version": 3
   },
   "file_extension": ".py",
   "mimetype": "text/x-python",
   "name": "python",
   "nbconvert_exporter": "python",
   "pygments_lexer": "ipython3",
   "version": "3.11.7"
  }
 },
 "nbformat": 4,
 "nbformat_minor": 4
}
