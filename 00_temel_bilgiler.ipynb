{
 "cells": [
  {
   "cell_type": "markdown",
   "metadata": {},
   "source": [
    "# Temel Bilgiler\n"
   ]
  },
  {
   "cell_type": "markdown",
   "metadata": {},
   "source": [
    "## Temel fonksiyonlar"
   ]
  },
  {
   "cell_type": "markdown",
   "metadata": {},
   "source": [
    "### print()\n",
    "\n",
    "\n",
    "Terminal ekranında bir çıktı almak için kullanılır. Çoğunlukla hata ayıklama ve kodun çalışma mantığını kavramak için kullanılır.\n"
   ]
  },
  {
   "cell_type": "code",
   "execution_count": null,
   "metadata": {},
   "outputs": [],
   "source": [
    "print(\"Merhaba Dünya\")\n",
    "print(\"Python\")"
   ]
  },
  {
   "cell_type": "markdown",
   "metadata": {},
   "source": [
    "Notebook son satırda yapılan işlemi çıktı olarak gösterir. "
   ]
  },
  {
   "cell_type": "code",
   "execution_count": null,
   "metadata": {},
   "outputs": [],
   "source": [
    "3\n",
    "5\n",
    "\"Merhaba\"\n"
   ]
  },
  {
   "cell_type": "code",
   "execution_count": null,
   "metadata": {},
   "outputs": [],
   "source": [
    "# ; ile tek satırda birden fazla satır yazılabilir.\n",
    "print(\"a\");print(\"b\")"
   ]
  },
  {
   "cell_type": "code",
   "execution_count": null,
   "metadata": {},
   "outputs": [],
   "source": [
    "# print(3) print(5)"
   ]
  },
  {
   "cell_type": "markdown",
   "metadata": {},
   "source": [
    "#### Kaçış ifadeleri\n",
    "\n",
    "Metin içinde özel karakterleri kullanabilemek için kaçış ifadeleri kullanılır. \"\\\" ile kullanılır."
   ]
  },
  {
   "cell_type": "code",
   "execution_count": null,
   "metadata": {},
   "outputs": [],
   "source": [
    "# İstanbul' da \"Bulundum\"\n",
    "\n",
    "# print('İstanbul' da \"Bulundum\"') hata verdidef __i\n",
    "\n",
    "print(\"İstanbul' da \\\"Bulundum\\\"\")"
   ]
  },
  {
   "cell_type": "markdown",
   "metadata": {},
   "source": [
    "- \\n yeni paragraf oluşturur.\n",
    "- \\b backspace işlevi görür. \n",
    "- \\t tab ekler.\n",
    "- \\\\{ Parantez açar. (Format modunda)\n",
    "- \\\\} parantez kapatır."
   ]
  },
  {
   "cell_type": "code",
   "execution_count": null,
   "metadata": {},
   "outputs": [],
   "source": [
    "print(\"Merhaba\\nDünya\")\n",
    "print(\"--------------------------\")\n",
    "print()\n",
    "\n",
    "print(\"Merhaba\\bDünya\")\n",
    "print(\"--------------------------\")\n",
    "print()\n",
    "\n",
    "print(\"Merhaba \\tDünya\")\n",
    "print(\"--------------------------\")\n",
    "print()\n",
    "\n"
   ]
  },
  {
   "cell_type": "code",
   "execution_count": null,
   "metadata": {},
   "outputs": [],
   "source": [
    "sonuc = 5\n",
    "\n",
    "print(\"İşlem sonucunuz: \", sonuc)\n",
    "print(\"İşlem sonucunuz: %d\"% (sonuc))\n",
    "print(f\"İşlem sonucunuz: {sonuc}\")\n"
   ]
  },
  {
   "cell_type": "code",
   "execution_count": null,
   "metadata": {},
   "outputs": [],
   "source": [
    "x = 3\n",
    "y = 4\n",
    "print(\"x = %d, y = %d\"% (x,y))"
   ]
  },
  {
   "cell_type": "code",
   "execution_count": 2,
   "metadata": {},
   "outputs": [
    {
     "ename": "SyntaxError",
     "evalue": "(unicode error) 'unicodeescape' codec can't decode bytes in position 2-3: truncated \\UXXXXXXXX escape (3424061476.py, line 1)",
     "output_type": "error",
     "traceback": [
      "\u001b[1;36m  Cell \u001b[1;32mIn[2], line 1\u001b[1;36m\u001b[0m\n\u001b[1;33m    dosya_yolu = \"C:\\Users\\ocesur\\Desktop\\ilk.py\"\u001b[0m\n\u001b[1;37m                                                 ^\u001b[0m\n\u001b[1;31mSyntaxError\u001b[0m\u001b[1;31m:\u001b[0m (unicode error) 'unicodeescape' codec can't decode bytes in position 2-3: truncated \\UXXXXXXXX escape\n"
     ]
    }
   ],
   "source": [
    "dosya_yolu = \"C:\\Users\\ocesur\\Desktop\\ilk.py\"\n",
    "dosya_yolu_ciftli = \"C:\\\\Users\\\\ocesur\\\\Desktop\\\\ilk.py\"\n",
    "print(dosya_yolu_ciftli)"
   ]
  },
  {
   "cell_type": "markdown",
   "metadata": {},
   "source": [
    "### type()\n",
    "\n",
    "İçine girilen değişkenin tipini döndürür. Yazdırma işlemi yapmaz."
   ]
  },
  {
   "cell_type": "code",
   "execution_count": null,
   "metadata": {},
   "outputs": [],
   "source": [
    "type(\"ad\")\n",
    "type(3)"
   ]
  },
  {
   "cell_type": "code",
   "execution_count": null,
   "metadata": {},
   "outputs": [],
   "source": [
    "print(type(\"ad\"))\n",
    "print(type(3))\n",
    "print(type(5.2))\n",
    "print(type([5,7]))\n",
    "print(type((5,7)))\n"
   ]
  },
  {
   "cell_type": "markdown",
   "metadata": {},
   "source": [
    "### dir()\n",
    "\n",
    "İçine girilen nesnenin metodlarını listeler."
   ]
  },
  {
   "cell_type": "code",
   "execution_count": null,
   "metadata": {},
   "outputs": [],
   "source": [
    "dir(\"abc\")"
   ]
  },
  {
   "cell_type": "markdown",
   "metadata": {},
   "source": [
    "### help()\n",
    "\n",
    "İçine girilen nesnenin tanım ve temel yardım dosyasını verir."
   ]
  },
  {
   "cell_type": "code",
   "execution_count": null,
   "metadata": {},
   "outputs": [],
   "source": [
    "liste = [1, 2, \"a\"]\n",
    "help(liste)"
   ]
  },
  {
   "cell_type": "code",
   "execution_count": null,
   "metadata": {},
   "outputs": [],
   "source": [
    "import numpy\n",
    "help(numpy)"
   ]
  },
  {
   "cell_type": "markdown",
   "metadata": {},
   "source": [
    "### len()\n",
    "\n",
    "İçine girilen yapının uzunluğunu(hesaplanabiliyorsa) verir."
   ]
  },
  {
   "cell_type": "code",
   "execution_count": null,
   "metadata": {},
   "outputs": [],
   "source": [
    "print(\"len('abc'): \", len(\"abc\"))\n",
    "print(\"len(liste): \", len(liste))\n"
   ]
  },
  {
   "cell_type": "markdown",
   "metadata": {},
   "source": [
    "### isinstance( deger, tip)"
   ]
  },
  {
   "cell_type": "code",
   "execution_count": 7,
   "metadata": {},
   "outputs": [
    {
     "data": {
      "text/plain": [
       "True"
      ]
     },
     "execution_count": 7,
     "metadata": {},
     "output_type": "execute_result"
    }
   ],
   "source": [
    "sonuc = 3\n",
    "\n",
    "type(sonuc) == int"
   ]
  },
  {
   "cell_type": "code",
   "execution_count": 8,
   "metadata": {},
   "outputs": [
    {
     "data": {
      "text/plain": [
       "True"
      ]
     },
     "execution_count": 8,
     "metadata": {},
     "output_type": "execute_result"
    }
   ],
   "source": [
    "isinstance(sonuc, int)"
   ]
  },
  {
   "cell_type": "markdown",
   "metadata": {},
   "source": [
    "### random"
   ]
  },
  {
   "cell_type": "code",
   "execution_count": 13,
   "metadata": {},
   "outputs": [
    {
     "name": "stdout",
     "output_type": "stream",
     "text": [
      "2\n"
     ]
    }
   ],
   "source": [
    "import random \n",
    "\n",
    "sayi = random.randrange(1,15)\n",
    "print(sayi)"
   ]
  },
  {
   "cell_type": "markdown",
   "metadata": {},
   "source": [
    "## Basit işlemler"
   ]
  },
  {
   "cell_type": "markdown",
   "metadata": {},
   "source": [
    "### Yorumlar\n",
    "Yazdığınız kodun okunaklı olması için yorum satırları önemlidir. \n",
    "\n",
    "- Yorum satırı: \n",
    "- - \\# yorum\n",
    "- Yorum bloğu : \n",
    "- - \"\"\" \n",
    "- - yorum 1\n",
    "- - yorum 2\n",
    "- - \"\"\"\n",
    " "
   ]
  },
  {
   "cell_type": "code",
   "execution_count": null,
   "metadata": {},
   "outputs": [],
   "source": [
    "# Bu bir yorum satırıdır. \n",
    "# Yorum satırları işlenmez. \n",
    "\n",
    "print(1+1)\n",
    "\n",
    "\"\"\"Kod ile ilgili genel açıklama\n",
    "    Detaylı açıklama 1 \n",
    "    Detaylı açıklama 2\n",
    "\"\"\"\n",
    "\n",
    "print(\"Python\")"
   ]
  },
  {
   "cell_type": "code",
   "execution_count": null,
   "metadata": {},
   "outputs": [],
   "source": [
    "# Fonksiyon tanımlamarında yorum bloğu kullanılmalı.\n",
    "\n",
    "def us_alma(taban, us):\n",
    "    \"\"\"Taban ve üs verildiğinde ifadeyi üslü ifade olarak döndürür.\n",
    "\n",
    "    Args:\n",
    "        taban (int): _description_\n",
    "        us (int): _description_\n",
    "\n",
    "    Returns:\n",
    "        _type_: _description_\n",
    "    \"\"\"\n",
    "    return taban**us"
   ]
  },
  {
   "cell_type": "markdown",
   "metadata": {},
   "source": [
    "### Atamalar\n",
    "\n",
    "Python' da temel atama için \"=\" ifadesi kullanılır. Bir değişkene değer atarken ek bir tanımlamaya ihtiyaç yoktur. "
   ]
  },
  {
   "cell_type": "code",
   "execution_count": null,
   "metadata": {},
   "outputs": [],
   "source": [
    "a = 3\n",
    "b = 5\n",
    "ad = \"Oktay\""
   ]
  },
  {
   "cell_type": "markdown",
   "metadata": {},
   "source": [
    "#### Çoklu atama"
   ]
  },
  {
   "cell_type": "code",
   "execution_count": null,
   "metadata": {},
   "outputs": [],
   "source": [
    "sayi1, sayi2, sayi3 = 1, 2, 3\n",
    "\n",
    "print(\"sayi1: \",sayi1)\n",
    "print(\"sayi2: \",sayi2)\n",
    "print(\"sayi3: \",sayi3)\n"
   ]
  },
  {
   "cell_type": "code",
   "execution_count": null,
   "metadata": {},
   "outputs": [],
   "source": []
  },
  {
   "cell_type": "markdown",
   "metadata": {},
   "source": [
    "#### Silme\n",
    "\n",
    "Uzun kodlarda bir çok değişken kullanılır ve bunların takibi bir yerden sonra oldukça zor olmaya başlar ve sistemi yorar. Bunun için kullanılmayan değişkenler bellekten silinebilir"
   ]
  },
  {
   "cell_type": "code",
   "execution_count": null,
   "metadata": {},
   "outputs": [],
   "source": [
    "del a"
   ]
  },
  {
   "cell_type": "code",
   "execution_count": 1,
   "metadata": {},
   "outputs": [
    {
     "name": "stdout",
     "output_type": "stream",
     "text": [
      "id(a): 140736853898056\n",
      "id(a): 140736853898152\n",
      "id(a): 140736853898056\n"
     ]
    }
   ],
   "source": [
    "a=2\n",
    "b=5\n",
    "c=2\n",
    "\n",
    "print(\"id(a):\",id(a))\n",
    "print(\"id(a):\",id(b))\n",
    "print(\"id(a):\",id(c))"
   ]
  }
 ],
 "metadata": {
  "kernelspec": {
   "display_name": "Python 3",
   "language": "python",
   "name": "python3"
  },
  "language_info": {
   "codemirror_mode": {
    "name": "ipython",
    "version": 3
   },
   "file_extension": ".py",
   "mimetype": "text/x-python",
   "name": "python",
   "nbconvert_exporter": "python",
   "pygments_lexer": "ipython3",
   "version": "3.11.2"
  }
 },
 "nbformat": 4,
 "nbformat_minor": 2
}
