{
 "cells": [
  {
   "cell_type": "markdown",
   "metadata": {},
   "source": [
    "# Veritabanı İşlemleri\n",
    "\n",
    "Python ile birçok veritabanı kullanabiliriz. Burada SQLite kullanacağız.  SQLite özünde bir kütüphanedir.\n",
    "\n",
    "Tüm veritabanları gibi SQLite için de program içinde bir bağlantı açmamız gerekir.  Bunun için *sqlite3* paketi kullanılır."
   ]
  },
  {
   "cell_type": "code",
   "execution_count": 5,
   "metadata": {},
   "outputs": [],
   "source": [
    "import sqlite3 as lite\n",
    "\n",
    "\n",
    "conn = lite.connect(\"chinook.db\")\n",
    "cursor = conn.cursor()\n",
    "veri = cursor.execute(\"SELECT * FROM artists\").fetchall()\n",
    "conn.close()\n"
   ]
  },
  {
   "cell_type": "markdown",
   "metadata": {},
   "source": [
    "Temel Kodlar\n",
    "\n",
    "SELECT, DELETE, INSERT INTO, CREATE, UPDATE, ALTER TABLE, DROP TABLE"
   ]
  },
  {
   "cell_type": "code",
   "execution_count": 1,
   "metadata": {},
   "outputs": [],
   "source": [
    "import sqlite3\n",
    "\n",
    "#   Aşağıdaki kod \"ogrenci.db\" veritabanı ile bağlantıyı açar. Eğer böyle bir veritabanı yoksa oluşturur.\n",
    "ogrenci = sqlite3.connect(\"ogrenci.db\") # uzantı db3 sqlite\n",
    "\n",
    "#   Bağlantı açılan veritabanı ile işlem yapabilmek için bir imleç(cursor) oluşturmalıyız.\n",
    "imlec = ogrenci.cursor()\n",
    "\n",
    "#   SQL komutlarını oluşturabilmek için execute fonksiyonu kullanılır. execute() fonksiyonunun içine sql sorguları metin şeklinde yazılır.\n",
    "\n",
    "#   Aşağıdaki kodu ilk çalıştırmamızda tabloyu oluşturdu. SOnrasında tekrar çalıştırdığımızda \"Zaten bu tablo var\" hatası verdi.\n",
    "#  imlec.execute(\"CREATE TABLE bilgiler(isim, soyisim, numara, sınıf, şube)\")\n",
    "\n",
    "#   Tabloyu daha önceden oluşturulmamışsa oluşturmak için aşağıdaki kodları kullanırız.\n",
    "imlec.execute(\"CREATE TABLE IF NOT EXISTS bilgiler(isim TEXT, soyisim TEXT, numara INTEGER, sınıf INTEGER, şube TEXT)\")\n",
    "\n",
    "ogrenci.commit()\n",
    "ogrenci.close()"
   ]
  },
  {
   "cell_type": "code",
   "execution_count": 3,
   "metadata": {},
   "outputs": [],
   "source": [
    "import sqlite3 as lite\n",
    "\n",
    "conn = lite.connect(\"ogrenci.db\")\n",
    "\n",
    "cursor = conn.cursor()\n",
    "\n",
    "cursor.execute(\"INSERT INTO bilgiler(isim, soyisim, numara, sınıf, şube) VALUES (?,?,?,?,?)\", (\"Celi\", \"Kaya\", 123, 11, \"C\"))\n",
    "cursor.execute(\"INSERT INTO bilgiler(isim, soyisim, numara, sınıf, şube) VALUES (?,?,?,?,?)\", (\"Burak\", \"Can\", 5234, 11, \"C\"))\n",
    "cursor.execute('INSERT INTO bilgiler(isim, soyisim, numara, sınıf, şube) VALUES (?,?,?,?,?)',  (\"Deniz\", \"Buğra\", 8234, 11, \"C\"))\n",
    "\n",
    "conn.commit()\n",
    "conn.close()"
   ]
  },
  {
   "cell_type": "code",
   "execution_count": 5,
   "metadata": {},
   "outputs": [],
   "source": [
    "def veri_ekle(db_adi, tablo_adi, veri :dict, baglantı_kapat = True):\n",
    "    con = sqlite3.connect(db_adi)\n",
    "    cursor = con.cursor()\n",
    "    \n",
    "    # Sorguyu oluşturacak string işlemleri.\n",
    "    sutun = ', '.join(veri.keys())\n",
    "    soru_isaretleri = ', '.join(['?'] * len(veri))\n",
    "    sorgu = f\"INSERT INTO {tablo_adi} ({sutun}) VALUES ({soru_isaretleri})\"\n",
    "    \n",
    "    cursor.execute(sorgu, tuple(veri.values()))\n",
    "    con.commit()\n",
    "    if baglantı_kapat:\n",
    "        con.close()\n",
    "    "
   ]
  },
  {
   "cell_type": "code",
   "execution_count": 6,
   "metadata": {},
   "outputs": [],
   "source": [
    "ogrenci= {\n",
    "    'isim': \"Hasan\",\n",
    "    'soyisim': \"Soydan\",\n",
    "    'numara': 65,\n",
    "    'sınıf': 9,\n",
    "    'şube': \"D\",\n",
    "}\n",
    "\n",
    "veri_ekle(\"ogrenci.db\", \"bilgiler\", ogrenci)"
   ]
  }
 ],
 "metadata": {
  "kernelspec": {
   "display_name": "Python 3",
   "language": "python",
   "name": "python3"
  },
  "language_info": {
   "codemirror_mode": {
    "name": "ipython",
    "version": 3
   },
   "file_extension": ".py",
   "mimetype": "text/x-python",
   "name": "python",
   "nbconvert_exporter": "python",
   "pygments_lexer": "ipython3",
   "version": "3.11.7"
  }
 },
 "nbformat": 4,
 "nbformat_minor": 2
}
