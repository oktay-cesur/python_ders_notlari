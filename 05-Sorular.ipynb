{
 "cells": [
  {
   "cell_type": "markdown",
   "metadata": {},
   "source": [
    "## Sorular"
   ]
  },
  {
   "cell_type": "markdown",
   "metadata": {},
   "source": [
    "### 1- Kelime sayısı\n",
    " Bir cümle alan ve bu cümledeki kelime sayısını döndüren bir fonksiyon yazın."
   ]
  },
  {
   "cell_type": "markdown",
   "metadata": {},
   "source": [
    "### 2 - Harf sayısı\n",
    "Bir string ve bir harf alan, bu string içinde belirtilen harfin kaç kez geçtiğini büyük-küçük harf ayrımı yapmayacak şekilde döndüren bir fonksiyon yazın."
   ]
  },
  {
   "cell_type": "markdown",
   "metadata": {},
   "source": [
    "### 3 - EBOB\n",
    "\n",
    "İki sayı alan ve bu sayıların en büyük ortak bölenini (EBOB) hesaplayan bir fonksiyon yazın"
   ]
  },
  {
   "cell_type": "markdown",
   "metadata": {},
   "source": [
    "### 4 - Kelime frekansı analizi\n",
    "- Bir metin ve kelime listesi alan, bu metinde her kelimenin kaç kez geçtiğini sözlük yapısında döndüren bir fonksiyon yazın.\n",
    "- Noktalama işaretleri, birleşik kelimeler gibi tam eşleşmeyi engelleyen durumları filtreleyecek şekilde düzenleyelim."
   ]
  },
  {
   "cell_type": "markdown",
   "metadata": {},
   "source": [
    "### 5 - Öteleme şifreleme\n",
    "Bir string ve bir sayı (anahtar) alan, bu string'deki her karakteri alfabede belirtilen sayı kadar ileriye kaydırarak şifreleyen bir fonksiyon yazın.\n",
    "\n",
    "\n",
    "Metin girişi ve kaydırma miktarı ile şifre oluşturulacak."
   ]
  },
  {
   "cell_type": "markdown",
   "metadata": {},
   "source": [
    "### 6 - Anagram kontrolü\n",
    "İki string alan ve bu iki string'in anagram olup olmadığını kontrol eden bir fonksiyon yazın. (İki kelime birbirinin harf dizilimlerinin karıştırılmasıyla elde edilebiliyorsa anagramdır.)\n",
    "Boşlukları kaldırsın."
   ]
  },
  {
   "cell_type": "markdown",
   "metadata": {},
   "source": [
    "### 7 - Ortak harf kontrolü\n",
    "\n",
    "Verilen iki metin içerisindeki ortak harfleri ve bu harflarin metinler içinde ortak şekilde kaç defa geçtiğini bulan bir fonksiyon yazınız.\n",
    "\n",
    "çıktı harfler ve karşılığı sayı döndüren bir sözlük"
   ]
  },
  {
   "cell_type": "markdown",
   "metadata": {},
   "source": [
    "### 8 - Mors kodu çevirici\n",
    "Bir string alan ve bu string'i Mors koduna çeviren bir fonksiyon yazın."
   ]
  },
  {
   "cell_type": "markdown",
   "metadata": {},
   "source": [
    "### 9 - Zaman hesabı\n",
    "\n",
    "Daha önceden yazılmış bir fonksiyonu girdi olarak alan ve bu fonksiyonun çalışma süresini hesaplayan fonksiyonu yazınız."
   ]
  },
  {
   "cell_type": "markdown",
   "metadata": {},
   "source": [
    "### 10 - Çağrılma sayısı\n",
    "Elimizdeki bazı fonksiyonların her dakika kaç defa çalıştığını kontrol etmemiz gerektiği bir senaryomuz olsun. Düzenli olarak bu şekilde yeni fonksiyonlar ekleniyor olsun. Bu işlemi yaptıracak declarator yapısını oluşturun. (time örneğindeki gibi.)"
   ]
  },
  {
   "cell_type": "markdown",
   "metadata": {},
   "source": [
    "### 11 - Tic Tac Toe\n",
    "\n",
    "Terminal üzerinde çalışacak Tic-Tac-Toe oyunu yazınız. Program çalıştırıldığında iki oyuncunun isimlerini isteyecek ve oyuncular sıra ile hamlelerini girecekler. Çıktı aşağıdaki gibi olmalıdır.\n",
    "- Opsiyonel: Oyunu her hamlede terminale yeni satırlar eklemeden oluşturunuz. Terminalde tek bir oyun alanı gözüksün ve her hamlede yenilensin."
   ]
  },
  {
   "cell_type": "code",
   "execution_count": null,
   "metadata": {},
   "outputs": [],
   "source": [
    "\"\"\"     \n",
    "        1   2   3\n",
    "        \n",
    "    A   X | O | _\n",
    "        ---------\n",
    "    B   X | O | O\n",
    "        ---------\n",
    "    C   _ | O | X\n",
    "\n",
    "        \n",
    "\n",
    "\"\"\""
   ]
  },
  {
   "cell_type": "markdown",
   "metadata": {},
   "source": [
    "### 12 - Çarpan Ağacı\n",
    "\n",
    "Girilen bir sayı için çarpan ağacı oluşturacak programı yazınız. Çıkı aşağıdaki gibi olmalı."
   ]
  },
  {
   "cell_type": "code",
   "execution_count": null,
   "metadata": {},
   "outputs": [],
   "source": [
    "    \"\"\"\n",
    "                (12)\n",
    "                /  \\\n",
    "              (2)   (6) \n",
    "                    / \\\n",
    "                  (2) (3)\n",
    "\n",
    "    \"\"\"\n"
   ]
  },
  {
   "cell_type": "markdown",
   "metadata": {},
   "source": [
    "## Araştırma\n",
    "\n",
    "Aşağıda verilmiş olan sıralanma algoritmalarını inceleyip kodlarını oluşturunuz.\n",
    "\n",
    "- Bubble Sort (Kabarcık Sıralaması)\n",
    "- Selection Sort (Seçmeli Sıralama)\n",
    "- Insertion Sort (Ekleme Sıralaması)\n",
    "- Merge Sort (Birleştirme Sıralaması)\n",
    "- Quick Sort (Hızlı Sıralama)\n",
    "- Heap Sort (Yığın Sıralaması)\n"
   ]
  }
 ],
 "metadata": {
  "kernelspec": {
   "display_name": "Python 3",
   "language": "python",
   "name": "python3"
  },
  "language_info": {
   "codemirror_mode": {
    "name": "ipython",
    "version": 3
   },
   "file_extension": ".py",
   "mimetype": "text/x-python",
   "name": "python",
   "nbconvert_exporter": "python",
   "pygments_lexer": "ipython3",
   "version": "3.10.9"
  }
 },
 "nbformat": 4,
 "nbformat_minor": 2
}
