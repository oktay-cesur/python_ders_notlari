{
 "cells": [
  {
   "cell_type": "markdown",
   "metadata": {},
   "source": [
    "# Fonksiyonlar"
   ]
  },
  {
   "cell_type": "markdown",
   "metadata": {},
   "source": [
    "## Giriş"
   ]
  },
  {
   "attachments": {},
   "cell_type": "markdown",
   "metadata": {},
   "source": [
    "Fonksiyon kavramı matematiğin en önemli kavramlarından biridir. Programlamadaki fonksiyon kavramı da matematiktekine benzer olsa da arada bazı farklar vardır. \n",
    "\n",
    "Matematikteki fonksiyonlar tanım kümesindeki elemanları belirli şartlar ile değer kümesindeki elemanlar ile eşler. Burada yapılan şeyi değişkenlerden sonuca gitmek olarak adlandırıyoruz. Programlamadaki fonksiyonlar da bunu yapabilir. Girilen parametreler için sonuç döndürür. Bunun yanında programlamada belirli bir sonuç döndürmenin yanında bir işlem yapma görevi de olabilir. Bir sonuç döndürebilir, bir işlem yapabilir, parametre alabilir veya almayabilir.\n",
    "\n",
    "Programlama açısından fonksiyonlar özünde çok sık kullanılacak kod bloklarının paketlenmesini sağlar. Bu sayede aynı kodu birçok kez kopyala yapıştır yapmadan daha okunaklı kodlar yazabilmeye yardımcı olur. "
   ]
  },
  {
   "cell_type": "code",
   "execution_count": null,
   "metadata": {},
   "outputs": [],
   "source": [
    "print(\"Merhabalar Oktay\")\n",
    "print(\"Etkinliğimize katıldığın için teşekkür ederiz.\")\n",
    "print()\n",
    "\n",
    "print(\"Merhabalar Görkem\")\n",
    "print(\"Etkinliğimize katıldığın için teşekkür ederiz.\")\n",
    "print()\n",
    "\n",
    "print(\"Merhabalar Özgür\")\n",
    "print(\"Etkinliğimize katıldığın için teşekkür ederiz.\")\n",
    "print()\n",
    "\n",
    "print(\"Merhabalar İlker\")\n",
    "print(\"Etkinliğimize katıldığın için teşekkür ederiz.\")\n",
    "print()\n",
    "\n",
    "print(\"Merhabalar Banu\")\n",
    "print(\"Etkinliğimize katıldığın için teşekkür ederiz.\")\n",
    "print()\n",
    "\n",
    "print(\"Merhabalar Veysel\")\n",
    "print(\"Etkinliğimize katıldığın için teşekkür ederiz.\")\n",
    "print()"
   ]
  },
  {
   "cell_type": "code",
   "execution_count": null,
   "metadata": {},
   "outputs": [],
   "source": [
    "isimler = [\"Oktay\", \"Görkem\", \"Özgür\", \"İlker\", \"Banu\", \"Veysel\"]\n",
    "\n",
    "for isim in isimler:\n",
    "    print(\"Merhabalar \"+isim)\n",
    "    print(\"Etkinliğimize katıldığınız için teşekkür ederiz.\")\n",
    "    print()\n"
   ]
  },
  {
   "cell_type": "code",
   "execution_count": null,
   "metadata": {},
   "outputs": [],
   "source": [
    "def tesekkur_cikti(isim):\n",
    "    print(\"Merhabalar \"+isim)\n",
    "    print(\"Etkinliğimize katıldığın için teşekkür ederim.\")\n",
    "    print()\n"
   ]
  },
  {
   "cell_type": "code",
   "execution_count": null,
   "metadata": {},
   "outputs": [],
   "source": [
    "isimler = [\"Oktay\", \"Görkem\", \"Özgür\", \"İlker\", \"Banu\", \"Veysel\"]\n",
    "\n",
    "for isim in isimler:\n",
    "    tesekkur_cikti(isim)"
   ]
  },
  {
   "attachments": {},
   "cell_type": "markdown",
   "metadata": {},
   "source": [
    "Verilen bir dizinin içindeki bir elemanın ilk olarak kaçıncı sırada olduğunu bulan kodu yazınız. Sonrasında bu kodu fonksiyona çevirin."
   ]
  },
  {
   "cell_type": "code",
   "execution_count": null,
   "metadata": {},
   "outputs": [],
   "source": [
    "dizi = [11,22,33,44,55,66,77,88,99]\n",
    "\n",
    "deger = 55\n",
    "\n",
    "kosul = 0\n",
    "sayac = 0\n",
    "while kosul == 0:\n",
    "    if dizi[sayac] == deger:\n",
    "        print(f\"Aradığınız eleman {sayac}. sıradadır.\")\n",
    "        kosul = 1\n",
    "    sayac += 1\n",
    "    "
   ]
  },
  {
   "cell_type": "code",
   "execution_count": null,
   "metadata": {},
   "outputs": [],
   "source": [
    "def eleman_bul(dizi,eleman):\n",
    "\n",
    "    kosul = 0\n",
    "    sayac = 0\n",
    "    while kosul == 0:\n",
    "        if dizi[sayac] == eleman:\n",
    "            print(f\"Liste içinde {eleman} elemanı ilk kez {sayac}. sırada bulunmaktadır.\")\n",
    "            kosul = 1\n",
    "        sayac += 1"
   ]
  },
  {
   "cell_type": "code",
   "execution_count": null,
   "metadata": {},
   "outputs": [],
   "source": [
    "eleman_bul(dizi,dizi[0])"
   ]
  },
  {
   "attachments": {},
   "cell_type": "markdown",
   "metadata": {},
   "source": [
    "Kenar uzunlukları verilen bir dikdörtgenin alanını yazdıran fonksiyonu yazınız."
   ]
  },
  {
   "cell_type": "code",
   "execution_count": null,
   "metadata": {},
   "outputs": [],
   "source": [
    "\n",
    "\n",
    "def alan_yazdir(kisa, uzun):\n",
    "    alan = kisa*uzun\n",
    "    print(f\"Dikdörtgeninizin alanı {alan} birim karedir\")"
   ]
  },
  {
   "cell_type": "code",
   "execution_count": null,
   "metadata": {},
   "outputs": [],
   "source": [
    "alan_yazdir(7,1/2)"
   ]
  },
  {
   "attachments": {},
   "cell_type": "markdown",
   "metadata": {},
   "source": [
    "## return\n",
    "Fonksiyonların bir sonuç döndürmesi için kullanılan komuttur. *return* komutundan sonra gelen değeri fonksiyonun sonucu olarak döndürür. Bu değer bir değişkene atanabilir."
   ]
  },
  {
   "attachments": {},
   "cell_type": "markdown",
   "metadata": {},
   "source": [
    "Kenar uzunlukları verilen bir dikdörtgenin alanını veren fonksiyonu yazınız."
   ]
  },
  {
   "cell_type": "code",
   "execution_count": null,
   "metadata": {},
   "outputs": [],
   "source": [
    "def alan_hesap(kisa, uzun):\n",
    "    alan = kisa*uzun\n",
    "    return alan"
   ]
  },
  {
   "cell_type": "code",
   "execution_count": null,
   "metadata": {},
   "outputs": [],
   "source": [
    "type(alan_hesap(3,8))"
   ]
  },
  {
   "cell_type": "code",
   "execution_count": null,
   "metadata": {},
   "outputs": [],
   "source": [
    "hesap = alan_hesap(3,8)\n",
    "yazdir = alan_yazdir(3,8)\n",
    "\n"
   ]
  },
  {
   "attachments": {},
   "cell_type": "markdown",
   "metadata": {},
   "source": [
    "Verilen bir dizinin içindeki bir elemanın ilk olarak kaçıncı sırada olduğunu döndüren fonksiyonu yazınız. "
   ]
  },
  {
   "cell_type": "code",
   "execution_count": null,
   "metadata": {},
   "outputs": [],
   "source": [
    "def eleman_dondur(dizi,eleman):\n",
    "\n",
    "    kosul = 0\n",
    "    sayac = 0\n",
    "    while kosul == 0:\n",
    "        if dizi[sayac] == eleman:\n",
    "            return sayac\n",
    "        sayac += 1"
   ]
  },
  {
   "cell_type": "code",
   "execution_count": null,
   "metadata": {},
   "outputs": [],
   "source": [
    "eleman_dondur(dizi,33)"
   ]
  },
  {
   "attachments": {},
   "cell_type": "markdown",
   "metadata": {},
   "source": [
    "Verilen bir sayının karesini döndüren fonksiyonu yazınız."
   ]
  },
  {
   "cell_type": "code",
   "execution_count": null,
   "metadata": {},
   "outputs": [],
   "source": [
    "def kare(sayi):\n",
    "    sonuc = sayi**2\n",
    "    return sonuc"
   ]
  },
  {
   "cell_type": "code",
   "execution_count": null,
   "metadata": {},
   "outputs": [],
   "source": [
    "kare(15)"
   ]
  },
  {
   "attachments": {},
   "cell_type": "markdown",
   "metadata": {},
   "source": [
    "Verilen pozitif bir tam sayının pozitif tam bölenlerini bir liste şeklinde veren fonksiyonu yazınız."
   ]
  },
  {
   "cell_type": "code",
   "execution_count": null,
   "metadata": {},
   "outputs": [],
   "source": [
    "# Önce bölenleri yazdıran kodu yazdık.\n",
    "\n",
    "sayi = 20\n",
    "\n",
    "for bolen in range(1,21):\n",
    "    if sayi % bolen == 0:\n",
    "        print(bolen)\n"
   ]
  },
  {
   "cell_type": "code",
   "execution_count": null,
   "metadata": {},
   "outputs": [],
   "source": [
    "# Bir önceki kodun çıktısı olan sayıları bir diziye aktarmalıyız.\n",
    "\n",
    "sayi = 20\n",
    "bolen_list = []\n",
    "for bolen in range(1,21):\n",
    "    if sayi % bolen == 0:\n",
    "        bolen_list.append(bolen)\n",
    "        \n",
    "print(bolen_list)"
   ]
  },
  {
   "cell_type": "code",
   "execution_count": null,
   "metadata": {},
   "outputs": [],
   "source": [
    "# Artık çözümü bir fonksiyon olarak tanımlayabiliriz.\n",
    "\n",
    "def bolenler(sayi : int):\n",
    "    \"\"\"Bu fonksiyon verilen bir sayının tam bölenlerini liste olarak döndürür.\n",
    "\n",
    "    Args:\n",
    "        sayi (int): Bölenleri bulunacak sayı.\n",
    "\n",
    "    Returns:\n",
    "        list: bölenlerin listelendiği dizi.\n",
    "    \"\"\"\n",
    "    bolen_list = []\n",
    "    for bolen in range(1,sayi+1):\n",
    "        if sayi % bolen == 0:\n",
    "            bolen_list.append(bolen)\n",
    "            \n",
    "    return bolen_list"
   ]
  },
  {
   "cell_type": "code",
   "execution_count": null,
   "metadata": {},
   "outputs": [],
   "source": [
    "bolenler(100)"
   ]
  },
  {
   "attachments": {},
   "cell_type": "markdown",
   "metadata": {},
   "source": [
    "Verilen bir pozitif tam sayı asal ise True, değil ise False sonucu döndüren fonksiyonu yazınız."
   ]
  },
  {
   "cell_type": "code",
   "execution_count": null,
   "metadata": {},
   "outputs": [],
   "source": [
    "# Sadece iki tane pozitif tam böleni olan doğal sayılara asal sayı denir.\n",
    "\n",
    "def asallik_kontrol(sayi : int):\n",
    "    kontrol=False\n",
    "    \n",
    "    # bolen_sayi değişkeni verilen sayının bölenlerinin bir üstteki fonksiyon yardımıyla hesaplanmış halidir.\n",
    "    bolen_sayi = len(bolenler(sayi))\n",
    "    \n",
    "    if bolen_sayi==2:\n",
    "        kontrol = True    \n",
    "    return kontrol"
   ]
  },
  {
   "cell_type": "code",
   "execution_count": null,
   "metadata": {},
   "outputs": [],
   "source": [
    "asallik_kontrol(100)"
   ]
  },
  {
   "attachments": {},
   "cell_type": "markdown",
   "metadata": {},
   "source": [
    "Verilen iki sayı arasında kalan sayıların toplamını döndüren fonksiyonu yazınız."
   ]
  },
  {
   "cell_type": "code",
   "execution_count": null,
   "metadata": {},
   "outputs": [],
   "source": [
    "alt = 5\n",
    "üst = 10\n",
    "\n",
    "toplam = 0\n",
    "for sayi in range(alt+1, üst):\n",
    "    toplam += sayi\n",
    "    # print(sayi, toplam)\n",
    "    # Buradaki print komutu kodların doğru çalıştığını kontrol için konuldu.\n",
    "    \n"
   ]
  },
  {
   "cell_type": "code",
   "execution_count": null,
   "metadata": {},
   "outputs": [],
   "source": [
    "def aralik_toplam(alt, üst):\n",
    "    toplam = 0\n",
    "    for sayi in range(alt+1, üst):\n",
    "        toplam += sayi\n",
    "    return toplam"
   ]
  },
  {
   "cell_type": "code",
   "execution_count": null,
   "metadata": {},
   "outputs": [],
   "source": [
    "aralik_toplam(20,25)"
   ]
  },
  {
   "attachments": {},
   "cell_type": "markdown",
   "metadata": {},
   "source": [
    "Verilen bir dizinin en büyük elemanını döndüren fonksiyonu yazınız."
   ]
  },
  {
   "cell_type": "code",
   "execution_count": null,
   "metadata": {},
   "outputs": [],
   "source": [
    "dizi = [11,5,45,72,42]\n",
    "\n",
    "# Başlangıç atamasını dizinin ilk elemanı olarak yaptık.\n",
    "# Sonraki adımlarda bu değişebilir.\n",
    "en_buyuk = dizi[0]\n",
    "\n",
    "for eleman in dizi:\n",
    "    if eleman > en_buyuk:\n",
    "        # O ana kadar olan en büyük sayıdan büyük bir elemanım varsa yeni üst sınırım bu elemandır.\n",
    "        en_buyuk = eleman\n",
    "\n",
    "print(en_buyuk)"
   ]
  },
  {
   "cell_type": "code",
   "execution_count": null,
   "metadata": {},
   "outputs": [],
   "source": [
    "def buyuk_eleman(dizi):\n",
    "    en_buyuk = dizi[0]\n",
    "\n",
    "    for eleman in dizi:\n",
    "        if eleman > en_buyuk:\n",
    "            # O ana kadar olan en büyük sayıdan büyük bir elemanım varsa yeni üst sınırım bu elemandır.\n",
    "            en_buyuk = eleman\n",
    "\n",
    "    return en_buyuk"
   ]
  },
  {
   "cell_type": "markdown",
   "metadata": {},
   "source": [
    "## Argümanlar"
   ]
  },
  {
   "cell_type": "code",
   "execution_count": null,
   "metadata": {},
   "outputs": [],
   "source": [
    "# Fonksiyonların genel yapısı aşağıdaki gibidir.\n",
    "\n",
    "def fonksiyon_ismi (argüman):\n",
    "    \"\"\"Açıklama\n",
    "\n",
    "    Args:\n",
    "        arg (_type_): _description_\n",
    "    \"\"\"\n",
    "    # Yapılacak işlemler.\n",
    "    \n",
    "    print(\"Çıktı\")\n",
    "    return \"Çıktı\""
   ]
  },
  {
   "cell_type": "code",
   "execution_count": null,
   "metadata": {},
   "outputs": [],
   "source": [
    "def kare_al(karesi_alinacak_sayi):\n",
    "    kare = karesi_alinacak_sayi**2\n",
    "    return kare\n",
    "\n",
    "\n",
    "kare_al(4)"
   ]
  },
  {
   "cell_type": "code",
   "execution_count": null,
   "metadata": {},
   "outputs": [],
   "source": [
    "def us_hesapla(taban, üs):\n",
    "    sonuc = taban**üs\n",
    "    return sonuc\n",
    "\n",
    "\n",
    "us_hesapla(3,4)"
   ]
  },
  {
   "cell_type": "code",
   "execution_count": null,
   "metadata": {},
   "outputs": [],
   "source": [
    "# İki argümanlı bir fonksiyona tek argüman girersek hata verir.\n",
    "# bütün argümanların girilmesi lazım.\n",
    "us_hesapla(3)"
   ]
  },
  {
   "cell_type": "code",
   "execution_count": null,
   "metadata": {},
   "outputs": [],
   "source": [
    "def us_hesapla_uclu(taban, üs, fark):\n",
    "    sonuc = taban**üs\n",
    "    return sonuc\n",
    "\n",
    "\n",
    "us_hesapla_uclu(3,4)"
   ]
  },
  {
   "cell_type": "code",
   "execution_count": null,
   "metadata": {},
   "outputs": [],
   "source": [
    "us_hesapla(\"a\",3)"
   ]
  },
  {
   "cell_type": "code",
   "execution_count": null,
   "metadata": {},
   "outputs": [],
   "source": [
    "def us_hesapla(taban, üs):\n",
    "    for i in range(100):\n",
    "        time.sleep(0.1)\n",
    "    \n",
    "    sonuc = taban**üs\n",
    "    return sonuc\n",
    "\n",
    "\n",
    "def us_hesapla_tanimli(taban: int, us: int):\n",
    "    \"\"\" Girilen <taban> degerinin <us> dereceden kuvvetini hesaplar\n",
    "\n",
    "    Args:\n",
    "        taban (int): Kuvveti alınacak sayı\n",
    "        us    (int): Hesaplanacak kuvver\n",
    "\n",
    "    Returns:\n",
    "        _type_: hesaplanmış değer\n",
    "    \"\"\"\n",
    "\n",
    "    sonuc = taban**us\n",
    "    return sonuc\n"
   ]
  },
  {
   "cell_type": "code",
   "execution_count": null,
   "metadata": {},
   "outputs": [],
   "source": [
    "us_hesapla_tanimli(\"a\",3)"
   ]
  },
  {
   "cell_type": "code",
   "execution_count": null,
   "metadata": {},
   "outputs": [],
   "source": [
    "us_hesapla(\"a\",3)"
   ]
  },
  {
   "cell_type": "code",
   "execution_count": null,
   "metadata": {},
   "outputs": [],
   "source": [
    "def metin_tekrarla(metin , sayi):\n",
    "    # sayı üzerinde nümerik işlem yapıldı.\n",
    "    tekrar_sayisi = sayi ** 2\n",
    "    print(metin*tekrar_sayisi)\n",
    "    \n",
    "metin_tekrarla(\"ab \", 3)"
   ]
  },
  {
   "cell_type": "code",
   "execution_count": null,
   "metadata": {},
   "outputs": [],
   "source": [
    "metin_tekrarla(3, \"ab\")"
   ]
  },
  {
   "cell_type": "code",
   "execution_count": null,
   "metadata": {},
   "outputs": [],
   "source": [
    "# Argüman sırasını değiştirmek için <arg= deger> şeklinde giriş yapılır.\n",
    "metin_tekrarla(sayi= 3, metin= \"ab \")"
   ]
  },
  {
   "cell_type": "markdown",
   "metadata": {},
   "source": [
    "Girilen taban sayısının üssünü hesaplayacak fonksiyonu yazalım. Üs sayısı girilmediğinde otomatik olarak kare alsın."
   ]
  },
  {
   "cell_type": "code",
   "execution_count": null,
   "metadata": {},
   "outputs": [],
   "source": [
    "def us_hesapla(deger,us= 2):\n",
    "    return(deger ** us)\n",
    "\n",
    "us_hesapla(4)"
   ]
  },
  {
   "cell_type": "code",
   "execution_count": null,
   "metadata": {},
   "outputs": [],
   "source": [
    "us_hesapla(5, 3)"
   ]
  },
  {
   "cell_type": "code",
   "execution_count": null,
   "metadata": {},
   "outputs": [],
   "source": [
    "# Bir argümanın öntanımlı olmasını isteyebiliriz.\n",
    "# Bu durumda (<arg> = <değer>) formatında tanımlanır.\n",
    "# Kullanılırken <arg> değeri girilmek zornda değildir.\n",
    "# Fonksiyon kullanılırken <arg> değeri girilmezse <değer> ifadesini döndürür.\n",
    "# Default argümanlar son kısımda tanımlanır.\n",
    "\n",
    "def sayi_yazdir(sayi= 10):\n",
    "    print(sayi)\n",
    "\n",
    "print(\"*** sayi_yazdir()\")    \n",
    "sayi_yazdir()\n",
    "\n",
    "print(\"\\n*** sayi_yazdir(15)\")      \n",
    "sayi_yazdir(15)\n"
   ]
  },
  {
   "cell_type": "code",
   "execution_count": null,
   "metadata": {},
   "outputs": [],
   "source": [
    "def us_hesapla(deger,us= 2):\n",
    "    return(deger ** us)\n",
    "\n",
    "us_hesapla(4)"
   ]
  },
  {
   "cell_type": "code",
   "execution_count": null,
   "metadata": {},
   "outputs": [],
   "source": [
    "us_hesapla(5, 3)"
   ]
  },
  {
   "cell_type": "code",
   "execution_count": null,
   "metadata": {},
   "outputs": [],
   "source": [
    "def metin_islem(metin1, metin2, metin1_tekrar= 2, metin2_tekrar= 2):\n",
    "    print(\"metin1: \"+ metin1*metin1_tekrar)\n",
    "    print(\"metin2: \"+ metin2*metin2_tekrar)"
   ]
  },
  {
   "cell_type": "code",
   "execution_count": null,
   "metadata": {},
   "outputs": [],
   "source": [
    "metin_islem(\"a \",\"b \")"
   ]
  },
  {
   "cell_type": "code",
   "execution_count": null,
   "metadata": {},
   "outputs": [],
   "source": [
    "# Default argümanlar okunurken sıra ile gidilir. \n",
    "# İlk girilen değer ilk agümana atanır.\n",
    "metin_islem(\"a \",\"b \",4)"
   ]
  },
  {
   "cell_type": "code",
   "execution_count": null,
   "metadata": {},
   "outputs": [],
   "source": [
    "metin_islem(\"a \",\"b \", metin2_tekrar= 4)"
   ]
  },
  {
   "cell_type": "markdown",
   "metadata": {},
   "source": [
    "Kullanıcının adını-soyadını  yazdıran fonksiyon"
   ]
  },
  {
   "cell_type": "code",
   "execution_count": null,
   "metadata": {},
   "outputs": [],
   "source": [
    "def isim_yazdir (ad, soyad):\n",
    "    print(\"Kullanıcı adı: \" + ad + \" \" + soyad)"
   ]
  },
  {
   "cell_type": "code",
   "execution_count": null,
   "metadata": {},
   "outputs": [],
   "source": [
    "isim_yazdir(\"Oktay\", \"Cesur\")"
   ]
  },
  {
   "cell_type": "markdown",
   "metadata": {},
   "source": [
    "Kullanıcının 2 adı varsa ne yapılır?"
   ]
  },
  {
   "cell_type": "code",
   "execution_count": null,
   "metadata": {},
   "outputs": [],
   "source": [
    "def isim_yazdir_coklu (isim_liste : list, soyad):\n",
    "    ad = \"\"\n",
    "    for i in isim_liste:\n",
    "        ad += \" \" + i\n",
    "     \n",
    "    print(\"Kullanıcı adı: \" + ad + \" \" + soyad)"
   ]
  },
  {
   "cell_type": "code",
   "execution_count": null,
   "metadata": {},
   "outputs": [],
   "source": [
    "# Liste oluştur\n",
    "\n",
    "isim_yazdir_coklu([\"Oktay\", \"Hasan\"], \"Cesur\")"
   ]
  },
  {
   "cell_type": "code",
   "execution_count": null,
   "metadata": {},
   "outputs": [],
   "source": []
  },
  {
   "cell_type": "markdown",
   "metadata": {},
   "source": [
    "### *args - **kwargs Kullanımı"
   ]
  },
  {
   "cell_type": "code",
   "execution_count": null,
   "metadata": {},
   "outputs": [],
   "source": [
    "def toplama(*args):\n",
    "    sonuc = 0\n",
    "    for sayi in args:\n",
    "        sonuc += sayi\n",
    "    return sonuc\n"
   ]
  },
  {
   "cell_type": "code",
   "execution_count": null,
   "metadata": {},
   "outputs": [],
   "source": [
    "\n",
    "print(toplama(1, 2, 3))  # 6 döner\n",
    "print(toplama(1, 3))  # 15 döner"
   ]
  },
  {
   "cell_type": "code",
   "execution_count": null,
   "metadata": {},
   "outputs": [],
   "source": [
    "isim_liste = [\"Oktay\", \"Cesur\", \"Python\"]\n",
    "\n",
    "\" \".join(isim_liste)"
   ]
  },
  {
   "cell_type": "code",
   "execution_count": null,
   "metadata": {},
   "outputs": [],
   "source": [
    "def isim_yazdir_coklu (*args):\n",
    "    ad = \" \".join([*args])\n",
    "     \n",
    "    print(ad)\n",
    "    \n",
    "isim_yazdir_coklu(\"Oktay\", \"Hasan\", \"Cesur\")"
   ]
  },
  {
   "cell_type": "code",
   "execution_count": null,
   "metadata": {},
   "outputs": [],
   "source": [
    "def isim_yazdir_coklu (*args, soyad):\n",
    "    ad = \" \".join([*args])\n",
    "     \n",
    "    print(ad, soyad)\n",
    "    \n",
    "isim_yazdir_coklu(\"Oktay\", \"Hasan\", soyad= \"Cesur\")"
   ]
  },
  {
   "cell_type": "code",
   "execution_count": null,
   "metadata": {},
   "outputs": [],
   "source": [
    "sozluk = {\"isim\" : \"Ahmet\", \"soyisim\" : \"Yılmaz\", \"yas\":30}"
   ]
  },
  {
   "cell_type": "code",
   "execution_count": null,
   "metadata": {},
   "outputs": [],
   "source": [
    "def kisi_bilgileri(**kwargs):\n",
    "    for anahtar, deger in kwargs.items():\n",
    "        print(f\"{anahtar}: {deger}\")\n",
    "\n",
    "kisi_bilgileri(ad=\"Ahmet\", Soyad= \"Yılmaz\", Yas=30, Şehir= \"İstanbul\")\n"
   ]
  },
  {
   "cell_type": "code",
   "execution_count": null,
   "metadata": {},
   "outputs": [],
   "source": [
    "def ornek_fonksiyon(normal_degisken, *args, **kwargs):\n",
    "    \n",
    "    print(\"\\033[4m\" + \"Normal:\" + \"\\033[0m\\n\", normal_degisken )\n",
    "    \n",
    "    print(\"\\033[4m\" + \"arg:\" + \"\\033[0m\")\n",
    "    for arg in args:\n",
    "        print(arg)\n",
    "        \n",
    "    print(\"\\033[4m\" + \"kwarg:\" + \"\\033[0m\")\n",
    "    for key, value in kwargs.items():\n",
    "        print(f\"{key}: {value}\")\n"
   ]
  },
  {
   "cell_type": "code",
   "execution_count": null,
   "metadata": {},
   "outputs": [],
   "source": [
    "ornek_fonksiyon(\"abc\", 2, \"x\",4,5,6, isim=\"Ali\", yas=25)"
   ]
  },
  {
   "cell_type": "markdown",
   "metadata": {},
   "source": [
    "*kare_al()* fonksiyonu tanımlandı. Bu fonksiyonu kullanarak bir listedeki sayıların karelerini hesaplayın."
   ]
  },
  {
   "cell_type": "code",
   "execution_count": null,
   "metadata": {},
   "outputs": [],
   "source": []
  },
  {
   "cell_type": "code",
   "execution_count": null,
   "metadata": {},
   "outputs": [],
   "source": [
    "def kare_al(sayi):\n",
    "    return sayi**2\n",
    "\n",
    "\n",
    "def liste_karele(kareler_listesi):\n",
    "    \n",
    "    sonuc_listesi = []\n",
    "    \n",
    "    for sayi in kareler_listesi:\n",
    "        kare = kare_al(sayi)\n",
    "        sonuc_listesi.append(kare)\n",
    "        \n",
    "    return sonuc_listesi"
   ]
  },
  {
   "cell_type": "code",
   "execution_count": null,
   "metadata": {},
   "outputs": [],
   "source": [
    "liste = liste_karele([1,2,3,4,5])\n",
    "\n",
    "print(liste)"
   ]
  },
  {
   "cell_type": "markdown",
   "metadata": {},
   "source": [
    "### map\n",
    "\n",
    "Bir fonksiyonu ya da işlevi tekrarlı şekilde basit olarak kullanmayı sağlar."
   ]
  },
  {
   "cell_type": "markdown",
   "metadata": {},
   "source": [
    "Girilen bir sayı dizisinin elemanlarının tek tek karesini alıp liste şeklinde döndüren fonksionu yazınız."
   ]
  },
  {
   "cell_type": "code",
   "execution_count": null,
   "metadata": {},
   "outputs": [],
   "source": [
    "def kare_al(sayi):\n",
    "    return sayi**2"
   ]
  },
  {
   "cell_type": "code",
   "execution_count": null,
   "metadata": {},
   "outputs": [],
   "source": [
    "kare_al(5)"
   ]
  },
  {
   "cell_type": "code",
   "execution_count": null,
   "metadata": {},
   "outputs": [],
   "source": [
    "x = range(5)\n",
    "\n"
   ]
  },
  {
   "cell_type": "code",
   "execution_count": null,
   "metadata": {},
   "outputs": [],
   "source": [
    "liste = []\n",
    "for i in x:\n",
    "    liste.append(i)"
   ]
  },
  {
   "cell_type": "code",
   "execution_count": null,
   "metadata": {},
   "outputs": [],
   "source": [
    "[*x]"
   ]
  },
  {
   "cell_type": "code",
   "execution_count": null,
   "metadata": {},
   "outputs": [],
   "source": [
    "map_nesne = [*map(kare_al, [1,2,3,4,5])]"
   ]
  },
  {
   "cell_type": "markdown",
   "metadata": {},
   "source": [
    "### lambda\n",
    "\n",
    "Python'da lambda ifadesi, anonim (isimsiz) fonksiyonlar oluşturmak için kullanılır. Anonim fonksiyonlar, adlandırılmış fonksiyonlara benzer şekilde çalışır, ancak isimleri yoktur ve genellikle sadece kısa süreli kullanım için tasarlanmıştır. lambda ifadesinin temel avantajlarından biri, kodun okunabilirliğini ve kompaktlığını artırmasıdır. lambda fonksiyonları genellikle başka fonksiyonlara argüman olarak geçirilir veya kısa süreli, tek kullanımlık işlevler için kullanılır."
   ]
  },
  {
   "cell_type": "code",
   "execution_count": null,
   "metadata": {},
   "outputs": [],
   "source": [
    "karesini_al = lambda x: x ** 2\n",
    "\n",
    "\n",
    "print(karesini_al(5))  # 25 çıktısını verir"
   ]
  },
  {
   "cell_type": "code",
   "execution_count": null,
   "metadata": {},
   "outputs": [],
   "source": [
    "# verilen iki sayının kareleri toplamını hesaplayın"
   ]
  },
  {
   "cell_type": "code",
   "execution_count": null,
   "metadata": {},
   "outputs": [],
   "source": [
    "def kareler_toplamı( x, y):\n",
    "    return x**2 + y**2"
   ]
  },
  {
   "cell_type": "code",
   "execution_count": null,
   "metadata": {},
   "outputs": [],
   "source": [
    "# Çeşitli işlemler\n",
    "\n",
    "kareler_toplamı_lambda = lambda x,y: x**2 + y**2\n",
    "\n",
    "kareler_toplamı_lambda ( 3,4)"
   ]
  },
  {
   "cell_type": "code",
   "execution_count": null,
   "metadata": {},
   "outputs": [],
   "source": [
    "kareler_listesi = [*map(lambda x: x ** 2, [1,2,3,4,5])]"
   ]
  },
  {
   "cell_type": "code",
   "execution_count": null,
   "metadata": {},
   "outputs": [],
   "source": [
    "toplam = lambda x, y: x + y\n",
    "print(toplam(5, 3))  # 8 çıktısını verir\n"
   ]
  },
  {
   "cell_type": "code",
   "execution_count": null,
   "metadata": {},
   "outputs": [],
   "source": [
    "sayilar = [1,2,3,4,5]\n",
    "kareler = [*map(lambda x: x**2, sayilar)]"
   ]
  },
  {
   "cell_type": "markdown",
   "metadata": {},
   "source": [
    "Bir listenin içinden çift sayıları eleyen bir fonksiyon yazın."
   ]
  },
  {
   "cell_type": "code",
   "execution_count": null,
   "metadata": {},
   "outputs": [],
   "source": [
    "def tek_sayi(x):\n",
    "    return x if x%2 == 1 else False"
   ]
  },
  {
   "cell_type": "code",
   "execution_count": null,
   "metadata": {},
   "outputs": [],
   "source": [
    "def tek_sayi(x):\n",
    "  pass"
   ]
  },
  {
   "cell_type": "code",
   "execution_count": null,
   "metadata": {},
   "outputs": [],
   "source": [
    "liste = [1,2,3,45,5,6,7,8,855,654,63,53,5,254,5,7665,8,78,4]\n",
    "yeni_liste = []\n",
    "for sayi in liste:\n",
    "    if tek_sayi(sayi) != None:\n",
    "        yeni_liste.append(tek_sayi(sayi))"
   ]
  },
  {
   "cell_type": "code",
   "execution_count": null,
   "metadata": {},
   "outputs": [],
   "source": [
    "[*filter (tek_sayi, liste)]"
   ]
  },
  {
   "cell_type": "markdown",
   "metadata": {},
   "source": []
  },
  {
   "cell_type": "markdown",
   "metadata": {},
   "source": [
    "### İç Fonksiyon\n",
    "\n",
    "Python'da iç fonksiyon (inner function), başka bir fonksiyonun içinde tanımlanan fonksiyondur. İç fonksiyonlar, sarmalayıcı fonksiyonun (enclosing function) kapsamındaki değişkenlere erişebilir ve genellikle sarmalayıcı fonksiyonun işlevselliğini desteklemek için kullanılır. İç fonksiyonların kullanımı, kodun okunabilirliğini ve organizasyonunu iyileştirebilir ve bazı durumlarda kapsülleme ve dekoratörler gibi daha gelişmiş programlama tekniklerinde kullanılır."
   ]
  },
  {
   "cell_type": "code",
   "execution_count": null,
   "metadata": {},
   "outputs": [],
   "source": [
    "sayi = 6\n",
    "\n",
    "def degistir():\n",
    "    ic_sayi = 4\n",
    "    print(sayi)\n",
    "    \n",
    "degistir()\n",
    "print(ic_sayi)"
   ]
  },
  {
   "cell_type": "code",
   "execution_count": null,
   "metadata": {},
   "outputs": [],
   "source": [
    "sayi = 6  # Zorunlu bir atama değil. \n",
    "\n",
    "def degistir():\n",
    "    global sayi # Daha önceden tanımlanmamış olsa bile ilk tanımı burada yapıyor.\n",
    "    sayi = 4\n",
    "\n",
    "\n",
    "degistir()\n",
    "\n",
    "print(sayi)"
   ]
  },
  {
   "cell_type": "code",
   "execution_count": null,
   "metadata": {},
   "outputs": [],
   "source": [
    "sayi = 6\n",
    "\n",
    "def degistir():\n",
    "    sayi = 4\n",
    "\n",
    "    \n",
    "degistir()\n",
    "print(sayi)"
   ]
  },
  {
   "cell_type": "code",
   "execution_count": null,
   "metadata": {},
   "outputs": [],
   "source": [
    "def dis_fonksiyon():\n",
    "    print(\"Dış fonksiyon çalıştı\")\n",
    "    \n",
    "    # İç fonksiyon tanımı\n",
    "    def ic_fonksiyon():\n",
    "        print(\"İç fonksiyon çalıştı\")\n",
    "\n",
    "    # İç fonksiyonu çağır\n",
    "    ic_fonksiyon()\n"
   ]
  },
  {
   "cell_type": "code",
   "execution_count": null,
   "metadata": {},
   "outputs": [],
   "source": [
    "def dis_fonksiyon():\n",
    "    print(\"Dış fonksiyon çalıştı\")\n",
    "    \n",
    "    # İç fonksiyon tanımı\n",
    "    def ic_fonksiyon():\n",
    "        print(\"İç fonksiyon çalıştı\")\n",
    "\n",
    "    # İç fonksiyonu çağır\n",
    "    return ic_fonksiyon()\n"
   ]
  },
  {
   "cell_type": "code",
   "execution_count": null,
   "metadata": {},
   "outputs": [],
   "source": [
    "dis_fonksiyon"
   ]
  },
  {
   "cell_type": "code",
   "execution_count": null,
   "metadata": {},
   "outputs": [],
   "source": [
    "def kare_yazdir(sayi):    \n",
    "    print(\"Fonksiyon çağrıldığında çalışan kodlar\")\n",
    "    return sayi**2"
   ]
  },
  {
   "cell_type": "code",
   "execution_count": null,
   "metadata": {},
   "outputs": [],
   "source": [
    "kare1 = kare_yazdir # Burada kare1' i doğrudan fonksiyon olarak atadı\n",
    "                    # Bu kod aşağıdaki işlemi yaptırır.\n",
    "\n",
    "\"\"\"\n",
    "def kare1(sayi):    \n",
    "    print(\"Fonksiyon çağrıldığında çalışan kodlar\")\n",
    "    return sayi**2\n",
    "\"\"\"\n",
    "\n",
    "print(\"*\")\n",
    "\n",
    "kare2 = kare_yazdir(3) # Burada kare2' i kare_yazdir(3)' ün sonucunda elde edilen sayıya atadı.\n",
    "print(\"**\")\n",
    "\n",
    "print(\"kare1: \",type(kare1))\n",
    "print(\"kare2: \",type(kare2))"
   ]
  },
  {
   "cell_type": "code",
   "execution_count": null,
   "metadata": {},
   "outputs": [],
   "source": [
    "def topla(a, b):\n",
    "    return a + b\n",
    "\n",
    "\n",
    "def ortalama (a,b):\n",
    "    return topla(a,b)/2\n",
    "\n",
    "ortalama(5,8)"
   ]
  },
  {
   "cell_type": "markdown",
   "metadata": {},
   "source": [
    "#### Closure\n"
   ]
  },
  {
   "cell_type": "markdown",
   "metadata": {},
   "source": [
    "Durum Saklama (State Encapsulation): Closure'lar, bir fonksiyonun yerel durumunu saklamak ve bu durumu fonksiyon çağrıları arasında korumak için kullanılabilir. Bu, fonksiyonun önceki çağrılarının durumuna bağlı olarak farklı davranmasını sağlar.\n",
    "\n",
    "Veri Gizleme (Data Hiding): Closure'lar, belirli verileri veya durumları dış dünyadan gizlemek için kullanılabilir. Bu, verilerin yalnızca belirli fonksiyonlar tarafından erişilebilir olmasını sağlayarak, veri soyutlaması ve kapsülleme prensiplerine katkıda bulunur.\n",
    "\n",
    "Dekoratörler: Python'daki dekoratörler, genellikle closure'lar kullanılarak oluşturulur. Dekoratörler, bir fonksiyonu alıp onu değiştiren veya genişleten fonksiyonlardır ve closure'lar sayesinde orijinal fonksiyonun kapsamındaki değişkenleri \"hatırlayabilirler\".\n",
    "\n",
    "Fonksiyon Fabrikası (Function Factories): Benzer davranışlara sahip fonksiyonları üretmek için closure'lar kullanılabilir. Bu, fonksiyonların özelleştirilmiş versiyonlarını oluşturmak için yararlıdır, çünkü her closure kendi kapsamındaki değişkenleri hatırlar.\n",
    "\n",
    "Asenkron Programlama ve Callback Fonksiyonları: Asenkron programlamada veya callback fonksiyonlarında closure'lar, dış fonksiyonun kapsamındaki değişkenlere veya duruma erişim sağlar, bu da asenkron işlemler veya olay tabanlı programlama için kullanışlıdır.\n",
    "\n",
    "Özel Durumları İşleme: Belirli durumları veya konfigürasyonları işlemek için özelleştirilmiş fonksiyonlar oluşturmak amacıyla closure'lar kullanılabilir."
   ]
  },
  {
   "cell_type": "code",
   "execution_count": null,
   "metadata": {},
   "outputs": [],
   "source": [
    "def dis_fonksiyon(mesaj):\n",
    "    print(\"*************\")\n",
    "    print(\"Dış fonksiyon\")\n",
    "    print(\"*************\")\n",
    "    print()\n",
    "    metin = mesaj\n",
    "\n",
    "    # İç fonksiyon (closure)\n",
    "    def ic_fonksiyon():\n",
    "\n",
    "        print(\"*************\")\n",
    "        print(\"iç fonksiyon\")\n",
    "        print(metin)\n",
    "        print(\"*************\")\n",
    "        print()\n",
    "        return 3\n",
    "\n",
    "    return ic_fonksiyon\n",
    "\n",
    "# Closure oluştur\n",
    "closure_fonksiyonu = dis_fonksiyon(\"Merhaba Dünya\") # bu adımda <dis_fonksiyon(\"Merhaba Dünya\") = ic_fonksiyon>\n",
    "\n",
    "# Dış fonksiyonun kapsamı bitti, ama iç fonksiyon hala erişebilir\n",
    "closure_fonksiyonu()  \n",
    "closure_fonksiyonu() \n",
    "\n"
   ]
  },
  {
   "cell_type": "code",
   "execution_count": null,
   "metadata": {},
   "outputs": [],
   "source": [
    "def ic_fonksiyon(metin):\n",
    "\n",
    "    print(\"*************\")\n",
    "    print(\"iç fonksiyon\")\n",
    "    print(metin)\n",
    "    print(\"*************\")\n",
    "    print()\n",
    "    return 3"
   ]
  },
  {
   "cell_type": "code",
   "execution_count": null,
   "metadata": {},
   "outputs": [],
   "source": [
    "def dis_fonksiyon(mesaj):\n",
    "    print(\"*************\")\n",
    "    print(\"Dış fonksiyon\")\n",
    "    print(\"*************\")\n",
    "    print()\n",
    "    metin = mesaj\n",
    "    \n",
    "    return ic_fonksiyon()\n",
    "\n",
    "    # İç fonksiyon (closure)\n",
    "\n",
    "\n",
    "# Closure oluştur\n",
    "closure_fonksiyonu = dis_fonksiyon(\"Merhaba Dünya\") # bu adımda <dis_fonksiyon(\"Merhaba Dünya\") = ic_fonksiyon>\n",
    "\n",
    "# Dış fonksiyonun kapsamı bitti, ama iç fonksiyon hala erişebilir\n",
    "closure_fonksiyonu()  \n",
    "closure_fonksiyonu() \n"
   ]
  },
  {
   "cell_type": "code",
   "execution_count": null,
   "metadata": {},
   "outputs": [],
   "source": [
    "def ic_fonksiyon():\n",
    "\n",
    "    print(\"*************\")\n",
    "    print(\"iç fonksiyon\")\n",
    "    print(metin)\n",
    "    print(\"*************\")\n",
    "    print()\n",
    "    return 3\n",
    "\n",
    "ic_fonksiyon()"
   ]
  },
  {
   "cell_type": "code",
   "execution_count": null,
   "metadata": {},
   "outputs": [],
   "source": [
    "def ic_fonksiyon():\n",
    "    print(\"İç\")\n",
    "    return 3\n",
    "x = ic_fonksiyon()\n",
    "\n",
    "x"
   ]
  },
  {
   "cell_type": "code",
   "execution_count": null,
   "metadata": {},
   "outputs": [],
   "source": [
    "def dis_fonksiyon():\n",
    "    print(\"Dış\")\n",
    "\n",
    "\n",
    "    # İç fonksiyon (closure)\n",
    "    def ic_fonksiyon():\n",
    "        print(\"İç\")\n",
    "        return 3\n",
    "    \n",
    "    \n",
    "    \n",
    "    \n",
    "    return ic_fonksiyon()\n",
    "\n",
    "# Closure oluştur\n",
    "print(\"000000000000000\")\n",
    "closure_fonksiyonu = dis_fonksiyon\n",
    "\n",
    "print(\"1111111111111111\")\n",
    "closure_fonksiyonu()\n",
    "\n",
    "# İç fonksiyonu çağırın\n",
    "print(\"2222222222222222\")\n",
    "sonuc = closure_fonksiyonu()\n",
    "\n",
    "print(\"3333333333333333\")\n",
    "print(sonuc)  # Bu, iç fonksiyonun dönüş değerini yazdırır\n"
   ]
  },
  {
   "cell_type": "markdown",
   "metadata": {},
   "source": [
    "Aşağıda verilen iç içe fonksiyon ile i verilen iki sayının toplamı işlemini yaptırınız."
   ]
  },
  {
   "cell_type": "code",
   "execution_count": null,
   "metadata": {},
   "outputs": [],
   "source": [
    "def dış_fonksiyon(x): \n",
    "    def iç_fonksiyon(y):\n",
    "        return x + y\n",
    "    return iç_fonksiyon\n",
    "\n",
    "x = 5\n",
    "\n",
    "# x_ile_topla(y) \n",
    "# sonuç: x+y\n",
    "\n",
    "x_ile_topla = dış_fonksiyon(x)\n",
    "\n",
    "x_ile_topla(7)"
   ]
  },
  {
   "cell_type": "code",
   "execution_count": null,
   "metadata": {},
   "outputs": [],
   "source": [
    "def dis_fonksiyon(x):\n",
    "    def ic_fonksiyon(y):\n",
    "        return x + y\n",
    "    return ic_fonksiyon\n",
    "sayi1 = 50\n",
    " \n",
    "sonuc_fonksiyonu = dis_fonksiyon(sayi1)\n",
    "\n",
    "del sayi1\n",
    " \n",
    "sayi2 =75\n",
    " \n",
    "toplam = sonuc_fonksiyonu(sayi2)\n",
    " \n",
    "print(toplam)"
   ]
  },
  {
   "cell_type": "markdown",
   "metadata": {},
   "source": [
    "Aşağıda verilen iç içe fonksiyonları print fonksiyonlarının yanında yazan işlemleri yaptıracak şekilde düzenleyiniz."
   ]
  },
  {
   "cell_type": "code",
   "execution_count": null,
   "metadata": {},
   "outputs": [],
   "source": [
    "def ozellestir(sabit_parametre):\n",
    "    def islev(değişken_parametre):\n",
    "\n",
    "print(iki_ile_carp(5))  # 2 * 5 = 10\n",
    "print(uc_ile_carp(5))  # 3 * 5 = 15\n"
   ]
  },
  {
   "cell_type": "code",
   "execution_count": null,
   "metadata": {},
   "outputs": [],
   "source": [
    "def dis_fonk(x):\n",
    "    def ic_fonk(y):\n",
    "        return x*y\n",
    "    return ic_fonk \n",
    "\n",
    "x = 5\n",
    "\n",
    "iki_ile_carp = dis_fonk(2)\n",
    "uc_ile_carp = dis_fonk(3)\n",
    "\n",
    "print(iki_ile_carp(x))\n",
    "print(uc_ile_carp(x))"
   ]
  },
  {
   "cell_type": "markdown",
   "metadata": {},
   "source": [
    "Aşağıdaki yarım bırakılmış fonksiyonları kullanarak print(yaz_arttır()) komutu her yazdırıldığında sırayla sayıları yazdıran kodu oluşturunuz. İstenen çıktı aşağıdaki gibidir.\n",
    "\n",
    "> print(yaz_arttır())\n",
    "> \n",
    "> print(yaz_arttır())\n",
    "> \n",
    "> print(yaz_arttır())\n",
    "> > 1\n",
    "> >\n",
    "> > 2\n",
    "> >\n",
    "> > 3"
   ]
  },
  {
   "cell_type": "code",
   "execution_count": null,
   "metadata": {},
   "outputs": [],
   "source": [
    "def sayac():\n",
    "    \n",
    "    cagrilma_sayisi = 0\n",
    "    # ...\n",
    "    def artir():\n",
    "        nonlocal cagrilma_sayisi\n",
    "        cagrilma_sayisi += 1\n",
    "        \n",
    "        return cagrilma_sayisi\n",
    "    return artir\n",
    "\n",
    "yaz_arttır = sayac()\n",
    "\n",
    "\n",
    "print(yaz_arttır())  # 1\n",
    "print(yaz_arttır())  # 2\n",
    "print(yaz_arttır())  # 3\n"
   ]
  },
  {
   "cell_type": "markdown",
   "metadata": {},
   "source": [
    "# SORU"
   ]
  },
  {
   "cell_type": "markdown",
   "metadata": {},
   "source": [
    "Elimizdeki bazı fonksiyonların her dakika kaç defa çalıştığını kontrol etmemiz gerektiği bir senaryomuz olsun.\n",
    "Düzenli olarak bu şekilde yeni fonksiyonlar ekleniyor olsun."
   ]
  },
  {
   "cell_type": "code",
   "execution_count": null,
   "metadata": {},
   "outputs": [],
   "source": [
    "import time\n",
    "\n",
    "def liste_karele(kareler_listesi):\n",
    "    # başlangıç\n",
    "    baslangic = time.time()\n",
    "    \n",
    "    sonuc_listesi = []\n",
    "    \n",
    "    time.sleep(0.1)  # işlemler hızlı yapıldığı için yavaşlattık.\n",
    "    \n",
    "    for sayi in kareler_listesi:\n",
    "        kare = sayi**2\n",
    "        sonuc_listesi.append(kare)\n",
    "    bitis = time.time()\n",
    "    \n",
    "    sure = bitis - baslangic\n",
    "    # bitiş\n",
    "    print(\"Geçen süre:\", sure)\n",
    "    return sonuc_listesi"
   ]
  },
  {
   "cell_type": "code",
   "execution_count": null,
   "metadata": {},
   "outputs": [],
   "source": [
    "import time\n",
    "\n",
    "def sure_olcer(fonksiyon):\n",
    "    def wrapper(girdi):\n",
    "        baslangic = time.time()\n",
    "        \n",
    "        sonuc = fonksiyon(girdi)\n",
    "        \n",
    "        bitis = time.time()\n",
    "        sure = bitis - baslangic\n",
    "        print(\"Geçen süre:\", sure)\n",
    "        \n",
    "        return sonuc\n",
    "    return wrapper\n",
    "        \n",
    "        \n",
    "def liste_karele(kareler_listesi):  \n",
    "    sonuc_listesi = [] \n",
    "    for sayi in kareler_listesi:\n",
    "        time.sleep(.2)\n",
    "        kare = sayi**2\n",
    "        sonuc_listesi.append(kare)\n",
    "    return sonuc_listesi\n",
    "\n",
    "# girilen iki listeyi toplar\n",
    "def liste_katla(l1):\n",
    "    yeni_liste = []\n",
    "    time.sleep(.1)\n",
    "    for i in range(len(l1)):\n",
    "        yeni_liste.append(l1[i]*2)       \n",
    "    return yeni_liste\n",
    "\n"
   ]
  },
  {
   "cell_type": "code",
   "execution_count": null,
   "metadata": {},
   "outputs": [],
   "source": [
    "liste1 = [*range(20)]\n",
    "\n",
    "sureli_liste = sure_olcer(liste_katla)\n",
    "\n",
    "sureli_liste(liste1)"
   ]
  },
  {
   "cell_type": "code",
   "execution_count": null,
   "metadata": {},
   "outputs": [],
   "source": [
    "import time\n",
    "\n",
    "def sure_olcer(fonksiyon):\n",
    "    def wrapper(girdi):\n",
    "        baslangic = time.time()\n",
    "        \n",
    "        sonuc = fonksiyon(girdi)\n",
    "        \n",
    "        bitis = time.time()\n",
    "        sure = bitis - baslangic\n",
    "        print(\"Geçen süre:\", sure)\n",
    "        \n",
    "        return sonuc\n",
    "    return wrapper\n",
    "        \n",
    "@sure_olcer        \n",
    "def liste_karele(kareler_listesi):  \n",
    "    sonuc_listesi = [] \n",
    "    for sayi in kareler_listesi:\n",
    "        time.sleep(.2)\n",
    "        kare = sayi**2\n",
    "        sonuc_listesi.append(kare)\n",
    "    return sonuc_listesi\n",
    "\n",
    "@sure_olcer\n",
    "def liste_katla(l1):\n",
    "    yeni_liste = []\n",
    "    time.sleep(.1)\n",
    "    for i in range(len(l1)):\n",
    "        yeni_liste.append(l1[i]*2)       \n",
    "    return yeni_liste\n"
   ]
  },
  {
   "cell_type": "code",
   "execution_count": null,
   "metadata": {},
   "outputs": [],
   "source": [
    "liste_karele([*range(20)])"
   ]
  },
  {
   "cell_type": "markdown",
   "metadata": {},
   "source": [
    "### Özyinelemeli"
   ]
  },
  {
   "cell_type": "code",
   "execution_count": null,
   "metadata": {},
   "outputs": [],
   "source": [
    "import time\n",
    "\n",
    "def faktoriyel(n):\n",
    "    \n",
    "    if n == 1:\n",
    "        return 1\n",
    "    else:\n",
    "        time.sleep(0.01)\n",
    "        return n * faktoriyel(n - 1)\n",
    "\n",
    "sayi = 3.1\n",
    "\n",
    "sonuc = faktoriyel(sayi)\n",
    "print(f\"{sayi}! = {sonuc}\")"
   ]
  },
  {
   "cell_type": "code",
   "execution_count": null,
   "metadata": {},
   "outputs": [],
   "source": [
    "def faktoriyel(n):\n",
    "    if  n == 0 or n == 1:\n",
    "        return 1\n",
    "    else:\n",
    "        sonuc = 1\n",
    "        for i in range(2, n + 1):\n",
    "            time.sleep(0.01)\n",
    "            sonuc *= i\n",
    "        return sonuc\n",
    "\n",
    "sayi = 4.2\n",
    "sonuc = faktoriyel(sayi)\n",
    "print(f\"{sayi}! = {sonuc}\")"
   ]
  },
  {
   "cell_type": "code",
   "execution_count": null,
   "metadata": {},
   "outputs": [],
   "source": [
    "def us_alma(taban, us):\n",
    "    if us == 0:\n",
    "        return 1\n",
    "    elif us < 0:\n",
    "        return 1 / us_alma(taban, -us)\n",
    "    else:\n",
    "        return taban * us_alma(taban, us - 1)\n",
    "\n",
    "taban = 5\n",
    "us = 3\n",
    "\n",
    "sonuc = us_alma(taban, us)\n",
    "print(f\"{taban}^{us} = {sonuc}\")"
   ]
  },
  {
   "cell_type": "code",
   "execution_count": null,
   "metadata": {},
   "outputs": [],
   "source": [
    "import time\n",
    "\n",
    "def zaman_olcer(func):\n",
    "    def wrapper(*args, **kwargs):\n",
    "        baslangic = time.time()\n",
    "        sonuc = func(*args, **kwargs)\n",
    "        bitis = time.time()\n",
    "        print(f\"{func.__name__} fonksiyonunun çalışma süresi: {bitis - baslangic} saniye.\")\n",
    "        return sonuc\n",
    "    return wrapper\n",
    "\n",
    "@zaman_olcer\n",
    "def ornek_fonksiyon(sayi):\n",
    "    time.sleep(sayi)\n",
    "\n",
    "ornek_fonksiyon(2)\n"
   ]
  }
 ],
 "metadata": {
  "kernelspec": {
   "display_name": "Python 3",
   "language": "python",
   "name": "python3"
  },
  "language_info": {
   "codemirror_mode": {
    "name": "ipython",
    "version": 3
   },
   "file_extension": ".py",
   "mimetype": "text/x-python",
   "name": "python",
   "nbconvert_exporter": "python",
   "pygments_lexer": "ipython3",
   "version": "3.12.1"
  },
  "orig_nbformat": 4
 },
 "nbformat": 4,
 "nbformat_minor": 2
}
