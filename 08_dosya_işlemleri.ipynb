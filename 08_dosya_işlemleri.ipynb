{
 "cells": [
  {
   "cell_type": "markdown",
   "metadata": {},
   "source": [
    "4 farklı dosya modu bulunmakta.\n",
    "\n",
    "\"r\" -> read\n",
    "\"w\" -> write\n",
    "\"a\" -> append\n",
    "\"x\" -> write*"
   ]
  },
  {
   "cell_type": "code",
   "execution_count": null,
   "metadata": {},
   "outputs": [],
   "source": [
    "dosya = open(\"ornek.txt\", \"r\")\n",
    "metin =  dosya.read(5)\n",
    "print(metin)\n",
    "\n",
    "metin2 =  dosya.read(3)\n",
    "print(metin2)\n",
    "\n",
    "metin3 =  dosya.read(2)\n",
    "print(metin3)\n",
    "\n",
    "dosya.close()"
   ]
  },
  {
   "cell_type": "code",
   "execution_count": null,
   "metadata": {},
   "outputs": [],
   "source": [
    "dosya = open(\"ornek.txt\", \"r\")\n",
    "metin =  dosya.read(5)\n",
    "# 5 karakter okur ve imleci 5. karakterin ardına koyar.\n",
    "\n",
    "print(metin)\n",
    "print(dosya)\n",
    "print(type(dosya))\n",
    "\n",
    "dosya.close()\n",
    "# Dosyayı kapadığımızdan dolayı aşağıdaki satır hata verecek.\n",
    "\n",
    "print(type(dosya))\n",
    "print(dosya)\n",
    "\n",
    "#  Elimizde hala bir bağlantı var ama kapalı.\n",
    "metin2 =  dosya.read(3)\n",
    "\n",
    "\n",
    "\n",
    "print(metin2)"
   ]
  },
  {
   "cell_type": "code",
   "execution_count": null,
   "metadata": {},
   "outputs": [],
   "source": [
    "metin2 =  dosya.read(3)\n",
    "\n",
    "print(metin2)"
   ]
  },
  {
   "cell_type": "code",
   "execution_count": null,
   "metadata": {},
   "outputs": [],
   "source": [
    "open(\"ornek.txt\", \"r\").read()\n",
    "open(\"ornek.txt\", \"r\").close()"
   ]
  },
  {
   "cell_type": "code",
   "execution_count": null,
   "metadata": {},
   "outputs": [],
   "source": [
    "open(\"ornek.txt\", \"r\").read(4)\n",
    "open(\"ornek.txt\", \"r\").read(5)\n",
    "\n",
    "\n",
    "\n"
   ]
  },
  {
   "cell_type": "markdown",
   "metadata": {},
   "source": [
    "readline() satır satır okumayı sağlar."
   ]
  },
  {
   "cell_type": "code",
   "execution_count": null,
   "metadata": {},
   "outputs": [],
   "source": [
    "dosya = open(\"ornek.txt\", \"r\")\n",
    "\n",
    "metin1 = dosya.readline()\n",
    "print(metin1)\n",
    "\n",
    "metin2 = dosya.readline()\n",
    "print(metin2)\n",
    "\n",
    "metin3 = dosya.readline()\n",
    "print(metin3)\n",
    "\n",
    "dosya.close()"
   ]
  },
  {
   "cell_type": "code",
   "execution_count": null,
   "metadata": {},
   "outputs": [],
   "source": [
    "dosya = open(\"ornek.txt\", \"r\")\n",
    "\n",
    "metin = dosya.readlines()\n",
    "\n",
    "dosya.close()\n",
    "\n",
    "print(metin[1])\n"
   ]
  },
  {
   "cell_type": "code",
   "execution_count": null,
   "metadata": {},
   "outputs": [],
   "source": [
    "dosya = open(\"ornek.txt\", \"r\")\n",
    "\n",
    "metin =  dosya.read(5)\n",
    "var1 = dosya.tell() # imlecin konumunu verir.\n",
    "print(var1, metin)\n",
    "\n",
    "metin2 =  dosya.read(3)\n",
    "var2 = dosya.tell()\n",
    "print(var2, metin2)\n",
    "\n",
    "metin3 =  dosya.read(4)\n",
    "var3 = dosya.tell()\n",
    "print(var3, metin3)\n",
    "\n",
    "dosya.close()"
   ]
  },
  {
   "cell_type": "code",
   "execution_count": null,
   "metadata": {},
   "outputs": [],
   "source": [
    "dosya = open(\"ornek.txt\", \"r\")\n",
    "\n",
    "metin =  dosya.read(5)\n",
    "print(metin)\n",
    "\n",
    "dosya.seek(12)\n",
    "metin =  dosya.read(4)\n",
    "print(metin)\n",
    "\n",
    "\n",
    "\n",
    "dosya.close()"
   ]
  },
  {
   "cell_type": "markdown",
   "metadata": {},
   "source": [
    "Dosyadaki a. ve b. karakterler arasını okuyan kodu yazınız."
   ]
  },
  {
   "cell_type": "code",
   "execution_count": null,
   "metadata": {},
   "outputs": [],
   "source": [
    "def aralik_yazdir(dosya_yolu, alt_deger= 0, ust_deger= 0):\n",
    "    dosya = open(dosya_yolu, \"r\")\n",
    "\n",
    "    dosya.seek(alt_deger)\n",
    "    metin =  dosya.read(ust_deger-alt_deger-1)\n",
    "    print(metin)\n",
    "    dosya.close()\n",
    "    \n",
    "aralik_yazdir(\"ornek.txt\",10,15)"
   ]
  },
  {
   "cell_type": "code",
   "execution_count": null,
   "metadata": {},
   "outputs": [],
   "source": [
    "aralik_yazdir(\"ornek.txt\", ust_deger= 5)"
   ]
  },
  {
   "cell_type": "code",
   "execution_count": null,
   "metadata": {},
   "outputs": [],
   "source": [
    "def aralik_yazdir(dosya_yolu, alt_deger, ust_deger):\n",
    "    dosya = open(dosya_yolu, \"r\")\n",
    "    metin =  dosya.read()\n",
    "    print(metin[alt_deger:ust_deger])\n",
    "    dosya.close()\n",
    "    \n",
    "aralik_yazdir(\"ornek.txt\",10,15)"
   ]
  },
  {
   "cell_type": "code",
   "execution_count": null,
   "metadata": {},
   "outputs": [],
   "source": [
    "def bos():\n",
    "    return 5\n",
    "\n",
    "print(bos)\n",
    "print(bos())"
   ]
  },
  {
   "cell_type": "code",
   "execution_count": null,
   "metadata": {},
   "outputs": [],
   "source": [
    "dosya = open(r\"C:\\Users\\USER\\Desktop\\ornek_masaustu.txt\")\n",
    "print(dosya.readline())\n",
    "print(dosya.readline())\n",
    "print(dosya.readline())\n",
    "print(dosya.readline())\n",
    "print(dosya.readline())\n",
    "dosya.seek(5)\n",
    "print(dosya.readline())\n",
    "print(dosya.readline())\n",
    "print(dosya.readline())\n",
    "dosya.close()"
   ]
  },
  {
   "cell_type": "code",
   "execution_count": null,
   "metadata": {},
   "outputs": [],
   "source": [
    "dosya = open(\"bolum/ornek.txt\", \"r\")\n",
    "\n",
    "print(dosya.read())\n",
    "\n",
    "dosya.close()"
   ]
  },
  {
   "cell_type": "markdown",
   "metadata": {},
   "source": [
    "## Yazma İşlemleri\n"
   ]
  },
  {
   "cell_type": "code",
   "execution_count": null,
   "metadata": {},
   "outputs": [],
   "source": [
    "dosya = open(\"metinler.txt\", \"w\") # Dosyayı sıfırdan oluşturur.\n",
    "dosya.writelines([\"abc\\n\", \"efg\\n\"])\n",
    "\n",
    "dosya.close()\n",
    "\n"
   ]
  },
  {
   "cell_type": "markdown",
   "metadata": {},
   "source": [
    "## with komutu\n",
    "\n",
    "with komutu kapatma işlemini otomatik yapar."
   ]
  },
  {
   "cell_type": "code",
   "execution_count": null,
   "metadata": {},
   "outputs": [],
   "source": [
    "# metin işlemleri yapılacak kod bloğu\n",
    "metin = \"işlemler sonucu elde edilen metin\"\n",
    "with open(\"metinler.txt\", \"w\") as dosya:\n",
    "    dosya.write(metin)\n",
    "\n",
    "    "
   ]
  },
  {
   "cell_type": "code",
   "execution_count": null,
   "metadata": {},
   "outputs": [],
   "source": [
    "with open(\"bolum/ornek.txt\",\"r\") as dosya:\n",
    "    okunan_metin = dosya.read()\n",
    "\n",
    "okunan_metin += okunan_metin*10\n",
    "\n",
    "with open(\"ornek.txt\",\"w\") as dosya:\n",
    "    dosya.write(okunan_metin)"
   ]
  }
 ],
 "metadata": {
  "kernelspec": {
   "display_name": "base",
   "language": "python",
   "name": "python3"
  },
  "language_info": {
   "codemirror_mode": {
    "name": "ipython",
    "version": 3
   },
   "file_extension": ".py",
   "mimetype": "text/x-python",
   "name": "python",
   "nbconvert_exporter": "python",
   "pygments_lexer": "ipython3",
   "version": "3.10.9"
  }
 },
 "nbformat": 4,
 "nbformat_minor": 2
}
