{
 "cells": [
  {
   "cell_type": "markdown",
   "metadata": {},
   "source": [
    "# Numpy - Numerical Python\n",
    "NumPy, büyük, çok boyutlu diziler ve matrisler üzerinde yüksek performanslı işlemler gerçekleştirmek için tasarlanmış kapsamlı bir matematik kütüphanesidir. Python' ın bilimsel hesaplamalarda temel kütüphanelerindendir. \n",
    "\n",
    "NumPy dizileri, Python'un yerleşik liste türlerine göre daha az yer kaplar ve daha hızlı işlemler gerçekleştirir. Bu avantajlar, NumPy'nin dizileri verimli bir şekilde saklama ve işleme yöntemlerine dayanır. İşte bu avantajların temel nedenleri:\n",
    "\n",
    "* Homojen Veri Türü:\n",
    "  \n",
    "NumPy dizileri homojendir, yani tüm öğeler aynı veri türündendir. Bu, dizinin bellekte nasıl saklanacağını ve işleneceğini önceden bilmek için diziyi daha verimli bir şekilde yönetebilir anlamına gelir. Python listeleri ise heterojendir; yani, tek bir listede farklı veri türlerinden öğeler saklayabilirler. Bu verilerin işlenebilmesi için her bir veri il beraber verinin tipinin de ayrıca tutulması gerekmektedir. Bu da hafıza ve işlem kullanımını verimsiz hale getirir.\n",
    "\n",
    "* Düşük Seviye Bellek Kullanımı:\n",
    "\n",
    "NumPy, veri depolama ve işleme için optimize edilmiş düşük seviyeli programlama dilleri olan C ve Fortran'ı kullanır. Bu diller, bellek yönetiminde ve matematiksel işlemlerde yüksek verimlilik sağlar. Bu, NumPy dizilerinin Python listelerine göre çok daha verimli bir şekilde bellek kullanması ve işlemleri daha hızlı gerçekleştirmesi anlamına gelir.\n",
    "\n",
    "* Vektörleştirilmiş İşlemler: \n",
    "\n",
    "NumPy, birden fazla veri öğesi üzerinde aynı anda işlemler gerçekleştirebilen vektörleştirilmiş işlemleri destekler. Bu, döngüler kullanmadan veri üzerinde toplu işlemler yapılmasına olanak tanır ve işlem hızını önemli ölçüde artırır. Vektörleştirilmiş işlemler, işlemlerin C seviyesinde optimize edilmiş kodlar kullanılarak yapılmasını sağlar, bu da Python döngülerine göre çok daha hızlıdır."
   ]
  },
  {
   "cell_type": "code",
   "execution_count": null,
   "metadata": {},
   "outputs": [],
   "source": [
    "import numpy as np\n",
    "import sys\n",
    "\n",
    "dizi = [*range(11151231)]\n",
    "demet = tuple(dizi)\n",
    "array = np.array(dizi)\n",
    "print(sys.getsizeof(dizi))\n",
    "print(sys.getsizeof(demet))\n",
    "print(sys.getsizeof(array))\n"
   ]
  },
  {
   "cell_type": "markdown",
   "metadata": {},
   "source": [
    "## ndarray (N-dimensional array)\n",
    "\n",
    "Numpy kitiphanesinin çok boyutlu tek tip veri tutan temel liste yapısıdır. Pyton listeleri veya demetleri aracığı ile oluşturulabilirler. *numpy.array()* komutu ile (veya *np.array()*) oluşturulurlar."
   ]
  },
  {
   "cell_type": "markdown",
   "metadata": {},
   "source": [
    "### Oluşturma"
   ]
  },
  {
   "cell_type": "code",
   "execution_count": null,
   "metadata": {},
   "outputs": [],
   "source": [
    "# List veya demet veri tipi ile oluştururlabilirler\n",
    "import numpy as np\n",
    "\n",
    "liste = [1, 2, 3, 4, 5]\n",
    "demet = (1, 2, 3, 4, 5)\n",
    "arr_list = np.array(liste)\n",
    "arr_tuple = np.array(demet)\n",
    "\n",
    "print(\"*******************************\")\n",
    "print(\"arr_list :\", arr_list)\n",
    "print(\"type:    :\", type(arr_list))\n",
    "print(\"*******************************\")\n",
    "print(\"arr_tuple:\", arr_tuple)\n",
    "print(\"type:    :\", type(arr_tuple))\n",
    "print(\"*******************************\")"
   ]
  },
  {
   "cell_type": "markdown",
   "metadata": {},
   "source": [
    "ndarray yapısı ile çok boyutlu diziler oluşturulabilir. Bu şekilde vektörler, matrisler ve daha yüksek boyutlu veri yapıları ile çalışmak için uygun hale gelir."
   ]
  },
  {
   "cell_type": "markdown",
   "metadata": {},
   "source": [
    "#### 0-D array\n",
    "- Boyutsuz dizilerdir. \n",
    "- Tek bir değer tutarlar.\n",
    "- Skaler olarak kullanılırlar.\n",
    "- İşlemlerde sayı gibi kullanılabilirler.\n",
    "- Array işlemleri sonucu ortaya çıkabilirler. (1x3 - 3x1 matris çarpımı gibi.)"
   ]
  },
  {
   "cell_type": "code",
   "execution_count": null,
   "metadata": {},
   "outputs": [],
   "source": [
    "import numpy as np\n",
    "\n",
    "scalar = np.array(21)\n",
    "print(scalar)\n",
    "print(\"Dizi boyutu:\", scalar.ndim)"
   ]
  },
  {
   "cell_type": "markdown",
   "metadata": {},
   "source": [
    "#### 1-D array"
   ]
  },
  {
   "cell_type": "markdown",
   "metadata": {},
   "source": [
    "Tek boyutlu, standart Python içindeki listelere karşılık gelirler. Sayı, metin gibi farklı tipte veriler tutabilirler fakat sadece tek tip veri bulundurabilir."
   ]
  },
  {
   "cell_type": "code",
   "execution_count": null,
   "metadata": {},
   "outputs": [],
   "source": [
    "import numpy as np\n",
    "\n",
    "# Tam sayılardan oluşan 1D dizi\n",
    "array_int = np.array([1, None, 2, 3, 4, 5])\n",
    "\n",
    "# Ondalıklı sayılardan oluşan 1D dizi\n",
    "array_float = np.array([1.5, 2.5, 3.5, None])\n",
    "\n",
    "# Boolean değerlerden oluşan 1D dizi\n",
    "array_boolean = np.array([True, None, False, False])\n",
    "\n",
    "# String değerlerden oluşan 1D dizi\n",
    "array_str = np.array([\"a\", \"b\", \"c\", \"d\"])\n",
    "\n",
    "print(\"array_int  :\", array_int)\n",
    "print(\"array_float:\", array_float)\n",
    "print(\"array_bool :\", array_boolean)\n",
    "print(\"array_str  :\", array_str)\n"
   ]
  },
  {
   "cell_type": "markdown",
   "metadata": {},
   "source": [
    "#### Çok boyutlu diziler\n",
    "\n",
    "İki boyutlu dizilerdir ve matematikteki matrislere benzerler. Elemanları aynı uzunlukta 1D arraylardan oluşan dizidir.\n",
    "Üç boyutlu diziler ise küp yapısındadır."
   ]
  },
  {
   "cell_type": "code",
   "execution_count": null,
   "metadata": {},
   "outputs": [],
   "source": [
    "import numpy as np\n",
    "dizi2D = np.array([[\"00\", \"01\", \"02\", \"03\"], [\"10\", \"11\", \"12\", \"13\"]])\n",
    "print(\"dizi2D:\")\n",
    "print(dizi2D)\n",
    "print(\"***************************\")\n",
    "\n",
    "dizi3D = np.array([[[\"000\", \"001\", \"002\", \"003\"], [\"010\", \"011\", \"012\", \"013\"]],\n",
    "                 [[\"100\", \"101\", \"102\", \"103\"], [\"110\", \"111\", \"112\", \"113\"]]])\n",
    "print(\"dizi3D:\")\n",
    "print(dizi3D)\n",
    "print(\"***************************\")\n",
    "\n",
    "dizi4D = np.array([[[[\"0000\", \"0001\", \"0002\", \"0003\"], [\"0010\", \"0011\", \"0012\", \"0013\"]],\n",
    "                    [[\"0100\", \"0101\", \"0102\", \"0103\"], [\"0110\", \"0111\", \"0112\", \"0113\"]]],\n",
    "\n",
    "                 [[[\"1000\", \"1001\", \"1002\", \"1003\"], [\"1010\", \"1011\", \"1012\", \"1013\"]],\n",
    "                   [[\"1100\", \"1101\", \"1102\", \"1103\"], [\"1110\", \"1111\", \"1112\", \"1113\"]]],\n",
    "\n",
    "                 [[[\"2000\", \"2001\", \"2002\", \"2003\"], [\"010\", \"2011\", \"2012\", \"2013\"]],\n",
    "                   [[\"2100\", \"2101\", \"2102\", \"2103\"], [\"2110\", \"2111\", \"2112\", \"2113\"]]]])\n",
    "print(\"dizi4D:\")\n",
    "print(dizi4D)\n",
    "print(\"***************************\")"
   ]
  },
  {
   "cell_type": "markdown",
   "metadata": {},
   "source": [
    "#### Özel yöntemler"
   ]
  },
  {
   "cell_type": "code",
   "execution_count": null,
   "metadata": {},
   "outputs": [],
   "source": [
    "import numpy as np\n",
    "zeros_array = np.zeros((3, 4))  # 3x4 boyutunda sıfırlarla dolu bir dizi oluşturur\n",
    "ones_array = np.ones((2, 3))  # 2x3 boyutunda birlerle dolu bir dizi oluşturur\n",
    "full_array = np.full((2, 2), 7)  # 2x2 boyutunda her elemanı 7 olan bir dizi oluşturur\n",
    "identity_matrix = np.eye(4)  # 4x4 boyutunda bir birim matris oluşturur\n",
    "\n",
    "print(\"********************\")\n",
    "print(\"np.zeros((3, 4))\")\n",
    "print(zeros_array)\n",
    "print(\"********************\")\n",
    "print(\"np.ones((2, 3))\")\n",
    "print(ones_array)\n",
    "print(\"********************\")\n",
    "print(\"np.full((2, 2), 7)\")\n",
    "print(full_array)\n",
    "print(\"********************\")\n",
    "print(\"np.eye(4)\")\n",
    "print(identity_matrix)"
   ]
  },
  {
   "cell_type": "markdown",
   "metadata": {},
   "source": [
    "Belirli aralıkta dizi oluşturma."
   ]
  },
  {
   "cell_type": "code",
   "execution_count": 6,
   "metadata": {},
   "outputs": [
    {
     "name": "stdout",
     "output_type": "stream",
     "text": [
      "********************\n",
      "np.arange(10)\n",
      "[0 1 2 3 4 5 6 7 8 9]\n",
      "********************\n",
      "np.arange(0, 20, 2)\n",
      "[ 5  9 13 17]\n",
      "********************\n",
      "np.linspace(0, 1, 5)\n",
      "[0.   0.25 0.5  0.75 1.  ]\n",
      "********************\n",
      "np.random.random((3, 3))\n",
      "[[0.50171002 0.05722278 0.46617443]\n",
      " [0.89997046 0.48535999 0.04286572]\n",
      " [0.10104195 0.66431295 0.1829942 ]]\n",
      "********************\n",
      "np.random.normal(0, 1, (3, 3))\n",
      "[[ 0.07707859  1.56977445 -1.7630087 ]\n",
      " [ 0.07118951  0.36023221 -0.69735371]\n",
      " [-0.3786668   0.59100618 -0.55057387]]\n",
      "********************\n",
      "np.random.randint(0, 10, (3, 3))\n",
      "[[7 7 8]\n",
      " [7 0 6]\n",
      " [8 6 1]]\n"
     ]
    }
   ],
   "source": [
    "import numpy as np\n",
    "arange_array = np.arange(10)  # 0'ten (dahil) 10'a (hariç) kadar olan tam sayılar\n",
    "arange_array_step = np.arange(start=5, stop= 20, step=4)  # 5'ten 20'ye kadar 4'er 4'er artan sayılar\n",
    "linspace_array = np.linspace(0, 1, 5)  # 0 ile 1 arasında eşit aralıklı 5 sayı\n",
    "random_array = np.random.random((3, 3))  # 3x3 boyutunda rastgele değerlerle dolu bir dizi oluşturur\n",
    "normal_array = np.random.normal(0, 1, (3, 3))  # Ortalaması 0 ve standart sapması 1 olan normal dağılımlı rastgele değerler\n",
    "int_random_array = np.random.randint(0, 10, (3, 3))  # 0 ile 10 arasında rastgele tam sayılarla dolu 3x3'lük bir dizi\n",
    "\n",
    "print(\"********************\")\n",
    "print(\"np.arange(10)\")\n",
    "print(arange_array)\n",
    "print(\"********************\")\n",
    "print(\"np.arange(0, 20, 2)\")\n",
    "print(arange_array_step)\n",
    "print(\"********************\")\n",
    "print(\"np.linspace(0, 1, 5)\")\n",
    "print(linspace_array)\n",
    "print(\"********************\")\n",
    "print(\"np.random.random((3, 3))\")\n",
    "print(random_array)\n",
    "print(\"********************\")\n",
    "print(\"np.random.normal(0, 1, (3, 3))\")\n",
    "print(normal_array)\n",
    "print(\"********************\")\n",
    "print(\"np.random.randint(0, 10, (3, 3))\")\n",
    "print(int_random_array)\n"
   ]
  },
  {
   "cell_type": "markdown",
   "metadata": {},
   "source": [
    "### Eleman seçim"
   ]
  },
  {
   "cell_type": "code",
   "execution_count": null,
   "metadata": {},
   "outputs": [],
   "source": [
    "dizi = np.array([*range(15)])\n",
    "print(dizi)\n",
    "print(\"dizi[1]\")\n",
    "print(dizi[1])\n",
    "print(\"dizi[2]\")\n",
    "print(dizi[2])\n",
    "print(\"dizi[-2]\")\n",
    "print(dizi[-2])\n",
    "print(\"dizi[1:2]\")\n",
    "print(dizi[1:2])"
   ]
  },
  {
   "cell_type": "markdown",
   "metadata": {},
   "source": [
    "##### Soru:\n",
    "dizi[1:2] ile dizi[1] arasında ne fark var?"
   ]
  },
  {
   "cell_type": "code",
   "execution_count": null,
   "metadata": {},
   "outputs": [],
   "source": [
    "print(\"dizi[1]\")\n",
    "print(type(dizi[1]))\n",
    "\n",
    "print(\"dizi[1:2]\")\n",
    "print(type(dizi[1:2]))"
   ]
  },
  {
   "cell_type": "code",
   "execution_count": null,
   "metadata": {},
   "outputs": [],
   "source": [
    "print(\"dizi[1:10:2]\")\n",
    "print(dizi[1:10:2])\n",
    "\n",
    "print(\"dizi[5:]\")\n",
    "print(dizi[5:])\n",
    "\n",
    "print(\"dizi[:5]\")\n",
    "print(dizi[:5])"
   ]
  },
  {
   "cell_type": "code",
   "execution_count": null,
   "metadata": {},
   "outputs": [],
   "source": [
    "print(\"***************************\")\n",
    "print(\"dizi2D:\")\n",
    "print(dizi2D)\n",
    "print(\"***************************\")\n",
    "print(\"dizi2D[1]:\")\n",
    "print(dizi2D[1])\n",
    "print()\n",
    "print(\"dizi2D[:,1]:\")\n",
    "print(dizi2D[:,1])\n",
    "print()\n",
    "print(\"dizi2D[0,1]:\")\n",
    "print(dizi2D[0,1])\n",
    "print(\"***************************\")\n",
    "\n"
   ]
  },
  {
   "cell_type": "code",
   "execution_count": null,
   "metadata": {},
   "outputs": [],
   "source": [
    "print(\"***************************\")\n",
    "print(\"dizi3D:\")\n",
    "print(dizi3D)\n",
    "print(\"***************************\")\n",
    "print(\"dizi3D[0]:\")\n",
    "print(dizi3D[0])\n",
    "print()\n",
    "print(\"dizi3D[0,1]:\")\n",
    "print(dizi3D[0,1])\n",
    "print()\n",
    "print(\"dizi3D[0,1,2]:\")\n",
    "print(dizi3D[0,1,2])\n",
    "print()\n",
    "print(\"dizi3D[:,:,1]:\")\n",
    "print(dizi3D[:,:,1])\n",
    "print()\n",
    "print(\"dizi3D[:,:,0:3]\")\n",
    "print(dizi3D[:,:,0:3])\n",
    "print()\n",
    "print(\"***************************\")\n",
    "\n"
   ]
  },
  {
   "cell_type": "code",
   "execution_count": null,
   "metadata": {},
   "outputs": [],
   "source": [
    "dizi = np.array([*range(720)])\n",
    "\n",
    "dizi5D = dizi.reshape(2,3,4,5,6)\n",
    "\n",
    "print(dizi5D[1,1,1,1])\n",
    "print(dizi5D[1,1,1,1,2:5])"
   ]
  },
  {
   "cell_type": "markdown",
   "metadata": {},
   "source": [
    "### Koşullu seçim"
   ]
  },
  {
   "cell_type": "code",
   "execution_count": 23,
   "metadata": {},
   "outputs": [
    {
     "name": "stdout",
     "output_type": "stream",
     "text": [
      "[ 7 21 13  8  4]\n"
     ]
    }
   ],
   "source": [
    "dizi = np.random.randint(1,25,5)\n",
    "print(dizi)"
   ]
  },
  {
   "cell_type": "code",
   "execution_count": 26,
   "metadata": {},
   "outputs": [
    {
     "name": "stdout",
     "output_type": "stream",
     "text": [
      "[ 7 21 13  8  4]\n",
      "[False, True, True, False, True]\n",
      "[21 13  4]\n"
     ]
    }
   ],
   "source": [
    "mantıksal_dizi = [False, True, True, False, True]\n",
    "print(dizi)\n",
    "print(mantıksal_dizi)\n",
    "\n",
    "dizi_secim = dizi[mantıksal_dizi]\n",
    "print(dizi_secim)"
   ]
  },
  {
   "cell_type": "code",
   "execution_count": 27,
   "metadata": {},
   "outputs": [
    {
     "data": {
      "text/plain": [
       "array([False,  True,  True, False, False])"
      ]
     },
     "execution_count": 27,
     "metadata": {},
     "output_type": "execute_result"
    }
   ],
   "source": [
    "dizi > 12"
   ]
  },
  {
   "cell_type": "code",
   "execution_count": 28,
   "metadata": {},
   "outputs": [
    {
     "data": {
      "text/plain": [
       "array([21, 13])"
      ]
     },
     "execution_count": 28,
     "metadata": {},
     "output_type": "execute_result"
    }
   ],
   "source": [
    "dizi[dizi>12]"
   ]
  },
  {
   "cell_type": "markdown",
   "metadata": {},
   "source": [
    "## Veri Tipleri\n",
    "\n",
    "Tam Sayılar:\n",
    "\n",
    "- int8, int16, int32, int64: İşaretli tam sayılar için.\n",
    "- uint8, uint16, uint32, uint64: İşaretsiz tam sayılar için.\n",
    "\n",
    "Ondalıklı:\n",
    "- float16, float32, float64, float128: Farklı hassasiyetlere sahip kayan nokta sayıları için.\n",
    "\n",
    "\n",
    "Karmaşık Sayılar:\n",
    "- complex64, complex128, complex256: Gerçek ve sanal bileşenleri olan sayılar için.\n",
    "\n",
    "Boolean:\n",
    "- bool_: Mantıksal True (Doğru) veya False (Yanlış) değerlerini saklamak için.\n",
    "\n",
    "Stringler:\n",
    "- str_ veya unicode\n",
    "\n",
    "Zaman:\n",
    "\n",
    "- datetime64: Tarih ve zaman bilgilerini saklamak için.\n",
    "- timedelta64: İki tarih veya zaman arasındaki farkı saklamak için."
   ]
  },
  {
   "cell_type": "code",
   "execution_count": null,
   "metadata": {},
   "outputs": [],
   "source": [
    "import numpy as np\n",
    "import sys\n",
    "aralik = range(120)\n",
    "\n",
    "# int8:  -127:127 aralığı \n",
    "# 8 bit,1 byte\n",
    "dizi8 = np.array([*aralik],dtype= \"int8\") \n",
    "\n",
    "# int16: -32,768:32,767 aralığı \n",
    "# 16 bit, 2 byte\n",
    "dizi16 = np.array([*aralik],dtype= \"int16\")\n",
    "\n",
    "# int32: -2,147,483,648:2,147,483,647 aralığı\n",
    "# 32 bit, 4 byte\n",
    "dizi32 = np.array([*aralik],dtype= \"int32\")\n",
    "# int64 -9,223,372,036,854,775,808:9,223,372,036,854,775,807 aralığı\n",
    "# 64 bit, 8 byte\n",
    "dizi64 = np.array([*aralik],dtype= \"int64\")\n",
    "\n",
    "boyut8 = sys.getsizeof(dizi8)\n",
    "boyut16 = sys.getsizeof(dizi16)\n",
    "boyut32 = sys.getsizeof(dizi32)\n",
    "boyut64 = sys.getsizeof(dizi64)\n"
   ]
  },
  {
   "cell_type": "code",
   "execution_count": null,
   "metadata": {},
   "outputs": [],
   "source": [
    "print(dizi8)"
   ]
  },
  {
   "cell_type": "code",
   "execution_count": null,
   "metadata": {},
   "outputs": [],
   "source": [
    "import numpy as np\n",
    "import sys\n",
    "\n",
    "dizi1 = np.array([*map(lambda x:(x+1)*5, range(15))], dtype=\"i8\")\n",
    "dizi2 = np.array([*map(lambda x:(x+1)*122, range(15))])\n",
    "dizi3 = np.array([*map(lambda x:(x+1)*12245, range(15))])\n",
    "dizi4 = np.array([*map(lambda x:(x+1)*12245615, range(15))])\n",
    "dizi5 = np.array([*map(lambda x:(x+1)*122456122441455514, range(15))])\n",
    "\n",
    "print()\n",
    "\n",
    "boyut1 = sys.getsizeof(dizi1)\n",
    "boyut2 = sys.getsizeof(dizi2)\n",
    "boyut3 = sys.getsizeof(dizi3)\n",
    "boyut4 = sys.getsizeof(dizi4)\n",
    "boyut5 = sys.getsizeof(dizi5)\n",
    "\n",
    "dizi1.dtype"
   ]
  },
  {
   "cell_type": "code",
   "execution_count": null,
   "metadata": {},
   "outputs": [],
   "source": [
    "help(np.linspace)"
   ]
  },
  {
   "cell_type": "markdown",
   "metadata": {},
   "source": [
    "## Fonksiyon ve nitelikler"
   ]
  },
  {
   "cell_type": "markdown",
   "metadata": {},
   "source": [
    "### shape - reshape()\n",
    "\n",
    "- *dizi.shape* komutu dizimizin boyutlarını verir. \n",
    "- *dizi.reshape()* komutu diziyi yeniden boyutlandırmayı sağlar."
   ]
  },
  {
   "cell_type": "code",
   "execution_count": null,
   "metadata": {},
   "outputs": [],
   "source": [
    "print(\"dizi1.shape:\", dizi1.shape)\n",
    "\n",
    "yenidizi1 = dizi1.reshape(5,3)\n",
    "yenidizi2 = dizi1.reshape(3,5)\n",
    "print(\"***********************************\")\n",
    "print(\"yenidizi1.shape:\", yenidizi1.shape)\n",
    "print(\"yenidizi\")\n",
    "print(yenidizi1)\n",
    "print(\"***********************************\")\n",
    "print(\"yenidizi2.shape:\", yenidizi2.shape)\n",
    "print(\"yenidizi\")\n",
    "print(yenidizi2)"
   ]
  },
  {
   "cell_type": "code",
   "execution_count": null,
   "metadata": {},
   "outputs": [],
   "source": [
    "dizi1.reshape(4,3)"
   ]
  },
  {
   "cell_type": "markdown",
   "metadata": {},
   "source": [
    "### *copy()*\n",
    "\n",
    "Python listelerinde *copy()* fonksiyonu ile aynı mantıkla çalışır."
   ]
  },
  {
   "cell_type": "markdown",
   "metadata": {},
   "source": [
    "### *concatenate()*\n",
    "\n",
    "Dizileri birleştirmek için kullanılır."
   ]
  },
  {
   "cell_type": "code",
   "execution_count": null,
   "metadata": {},
   "outputs": [],
   "source": [
    "import numpy as np\n",
    "\n",
    "# 1D diziler\n",
    "a = np.array([1, 2, 3])\n",
    "b = np.array([4, 5, 6])\n",
    "\n",
    "# 1D dizileri birleştirme\n",
    "c = np.concatenate((a, b))\n",
    "print(c)  # [1 2 3 4 5 6]\n"
   ]
  },
  {
   "cell_type": "code",
   "execution_count": null,
   "metadata": {},
   "outputs": [],
   "source": [
    "# 2D diziler\n",
    "a = np.array([[1, 2], [3, 4]])\n",
    "b = np.array([[5, 6], [7, 8]])\n",
    "\n",
    "# Satır bazında (eksen 0) birleştirme\n",
    "c = np.concatenate((a, b), axis=0)\n",
    "print(c)\n",
    "# [[1 2]\n",
    "#  [3 4]\n",
    "#  [5 6]\n",
    "#  [7 8]]\n",
    "\n",
    "# Sütun bazında (eksen 1) birleştirme\n",
    "d = np.concatenate((a, b), axis=1)\n",
    "print(d)\n",
    "# [[1 2 5 6]\n",
    "#  [3 4 7 8]]\n"
   ]
  },
  {
   "cell_type": "markdown",
   "metadata": {},
   "source": [
    "### *stack()*"
   ]
  },
  {
   "cell_type": "code",
   "execution_count": 12,
   "metadata": {},
   "outputs": [
    {
     "name": "stdout",
     "output_type": "stream",
     "text": [
      "***********************\n",
      "dizi_stack\n",
      "[[1 2 3]\n",
      " [4 5 6]]\n",
      "***********************\n",
      "dizi_vstack\n",
      "[[1 2 3]\n",
      " [4 5 6]]\n",
      "***********************\n",
      "dizi_hstack\n",
      "[1 2 3 4 5 6]\n",
      "***********************\n",
      "dizi_dstack\n",
      "[[[1 4]\n",
      "  [2 5]\n",
      "  [3 6]]]\n"
     ]
    }
   ],
   "source": [
    "import numpy as np\n",
    "\n",
    "dizi1 = np.array([1, 2, 3])\n",
    "dizi2 = np.array([4, 5, 6])\n",
    "\n",
    "# Yeni bir eksen boyunca (varsayılan olarak en dışta) dizileri birleştirir\n",
    "dizi_stack = np.stack((dizi1, dizi2))\n",
    "dizi_vstack = np.vstack((dizi1, dizi2))\n",
    "dizi_hstack = np.hstack((dizi1, dizi2))\n",
    "dizi_dstack = np.dstack((dizi1, dizi2))\n",
    "print(\"***********************\")\n",
    "print(\"dizi_stack\")\n",
    "print(dizi_stack)\n",
    "print(\"***********************\")\n",
    "print(\"dizi_vstack\")\n",
    "print(dizi_vstack)\n",
    "print(\"***********************\")\n",
    "print(\"dizi_hstack\")\n",
    "print(dizi_hstack)\n",
    "print(\"***********************\")\n",
    "print(\"dizi_dstack\")\n",
    "print(dizi_dstack)\n"
   ]
  }
 ],
 "metadata": {
  "kernelspec": {
   "display_name": "Python 3",
   "language": "python",
   "name": "python3"
  },
  "language_info": {
   "codemirror_mode": {
    "name": "ipython",
    "version": 3
   },
   "file_extension": ".py",
   "mimetype": "text/x-python",
   "name": "python",
   "nbconvert_exporter": "python",
   "pygments_lexer": "ipython3",
   "version": "3.12.2"
  }
 },
 "nbformat": 4,
 "nbformat_minor": 2
}
