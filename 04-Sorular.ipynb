{
 "cells": [
  {
   "attachments": {},
   "cell_type": "markdown",
   "metadata": {},
   "source": [
    "### Soru 1\n",
    "1' den 100' e kadar olan sayıları yazdıran programı yazınız."
   ]
  },
  {
   "attachments": {},
   "cell_type": "markdown",
   "metadata": {},
   "source": [
    "### Soru 2\n",
    "80' den 100' e kadar olan sayıları yazdıran programı yazınız."
   ]
  },
  {
   "attachments": {},
   "cell_type": "markdown",
   "metadata": {},
   "source": [
    "### Soru 3\n",
    "1' den 20' ye kadar olan çift sayıları yazdırın."
   ]
  },
  {
   "attachments": {},
   "cell_type": "markdown",
   "metadata": {},
   "source": [
    "### Soru 4 \n",
    "1' den 200000000' e kadar olan sayılardan 1234 ile bölündüğünde 154 kalanını verenleri yazdırın."
   ]
  },
  {
   "cell_type": "code",
   "execution_count": null,
   "metadata": {},
   "outputs": [],
   "source": [
    "bolunen = 200000000\n",
    "bolen = 1234\n",
    "kalan = 154"
   ]
  },
  {
   "attachments": {},
   "cell_type": "markdown",
   "metadata": {},
   "source": [
    "### Soru 5 Asallık kontrolü\n",
    "\n",
    "Bir sayının asal olup olmadığını kontrol eden programı yazınız.\n"
   ]
  },
  {
   "attachments": {},
   "cell_type": "markdown",
   "metadata": {},
   "source": [
    "#### Çözüm\n",
    "\n",
    "Çözüm için öncelikle tanımlanmış bir sayının  asal olup olmadığını kontrol eden bir kod yazılacak.\n",
    "\n",
    "1. Girilen sayı kendine kadar olan sayılardan hangilerine bölünür hangilerine bölünmez.\n",
    "2. Girilen sayının kaç tane böleni olduğunu hesaplayacağız.\n",
    "3. Bölen sayısı 2 ise asal, değil ise asal değildir.\n"
   ]
  },
  {
   "attachments": {},
   "cell_type": "markdown",
   "metadata": {},
   "source": [
    "### Soru 6\n",
    "\n",
    "1 ile 100 arasında 3 ile bölündüğünde 2, 7 ile bölündüğünde 5 kalanını veren sayıları yazdırınız.\n"
   ]
  },
  {
   "attachments": {},
   "cell_type": "markdown",
   "metadata": {},
   "source": [
    "### Soru 7 Rastgele Sayı\n",
    "\n",
    "1 ile 20 arasında rastgele sayılardan oluşan ve 7 elemanlı bir liste oluşturunuz."
   ]
  },
  {
   "attachments": {},
   "cell_type": "markdown",
   "metadata": {},
   "source": [
    "### Soru 7\n",
    "\n",
    "5 ile 25 arasındaki rastgele tam sayılardan oluşan 20 elemanlı bir küme yazdırınız.  Daha sonradan bu kümenin elemanlarını 3 ile bölünenler ve bölünmeyenler şeklinde iki yeni liste oluşturunuz."
   ]
  },
  {
   "attachments": {},
   "cell_type": "markdown",
   "metadata": {},
   "source": [
    "#### Çözüm yolu \n",
    "\n",
    "1. İstenen diziyi oluştur.\n",
    "2. Dizinin elemanlarının 3 ile bölünüp bölünmediğini kontrol et."
   ]
  },
  {
   "attachments": {},
   "cell_type": "markdown",
   "metadata": {},
   "source": [
    "### Soru 8\n",
    "\n",
    "Verilen bir sayının kaç basamaklı olduğunu hesaplayan kodu yazınız."
   ]
  },
  {
   "attachments": {},
   "cell_type": "markdown",
   "metadata": {},
   "source": [
    "### Soru 9\n",
    "\n",
    "Baştan ve sondan yazılışı aynı olan sayılara \"palidron  sayı\" denir. 12321 sayısı palidron sayıdır.\n",
    "\n",
    "Verilen bir sayının palidron olup olmadığını kontrol eden ve buna göre True ya da False  sonucunu döndüren kodları yazınız."
   ]
  },
  {
   "attachments": {},
   "cell_type": "markdown",
   "metadata": {},
   "source": [
    "### Soru 10\n",
    "\n",
    "Baştan ve sondan yazılışı aynı olan kelimelere \"palidron  kelime\" denir.\n",
    "\n",
    "Verilen bir kelimenin palidron olup olmadığını kontrol eden ve buna göre True ya da False  sonucunu döndüren fonksiyonu yazınız."
   ]
  },
  {
   "attachments": {},
   "cell_type": "markdown",
   "metadata": {},
   "source": [
    "### Soru 11\n",
    "\n",
    "Sayılardan oluşan bir dizinin elemanlarını küçükten büyüğe sıralayan fonksiyonu yazınız."
   ]
  },
  {
   "attachments": {},
   "cell_type": "markdown",
   "metadata": {},
   "source": [
    "## Çözüm Yolu \n",
    "1. Önce dizinin en küçük elemanını bul. \n",
    "2. Bu sayıyı sıralı diziye ekle.\n",
    "3. Bu sayıyı ana diziden çıkart. \n",
    "4. 1. adıma dön"
   ]
  },
  {
   "attachments": {},
   "cell_type": "markdown",
   "metadata": {},
   "source": [
    "### Soru 12\n",
    "\n",
    "Verilen bir dizide en çok sayıda tekrar eden değeri ekrana yazdıran kodu yazınız."
   ]
  },
  {
   "attachments": {},
   "cell_type": "markdown",
   "metadata": {},
   "source": [
    "### Soru 13\n",
    "\n",
    "Çaprım tablosunu çıktı olarak veren kodları yazınız. \n",
    "\n"
   ]
  },
  {
   "attachments": {},
   "cell_type": "markdown",
   "metadata": {},
   "source": [
    "### Soru 14\n",
    "\n",
    "1 ile 20 arasında  tam sayılardan rastgele sayılardan oluşan 15 elemanlı bir dizi oluşturun. Sonra bu diziden rastgele bir eleman seçtiren kodları yazın."
   ]
  },
  {
   "attachments": {},
   "cell_type": "markdown",
   "metadata": {},
   "source": [
    "### Soru 15\n",
    "Tam sayılardan oluşan bir dizinin (dizi rastgele elemanlardan oluşabilir. 20-30 eleman arası olmalı) tek ve çift elemanlarını ayrı ayrı toplayıp bu toplamları ekrana yazdıran kodu yazınız."
   ]
  },
  {
   "attachments": {},
   "cell_type": "markdown",
   "metadata": {},
   "source": [
    "### Soru 16\n",
    "\n",
    "Programa 1 ile 50 arasında rastgele bir sayı oluşturtup bu sayıyı kullanıcıya tahmin ettirecek kodu yazınız. Kullanıcı bir tahminde bulunacak, program yukarı veya aşağı şeklinde tahmin edilmek istenen sayıya yönlendirme yapacak. Sayı tahmin edildiğinde ekrana yazdıracak."
   ]
  },
  {
   "attachments": {},
   "cell_type": "markdown",
   "metadata": {},
   "source": [
    "### Soru 17\n",
    "\n",
    "Girilen bir sayının rakamları toplamını döndüren fonksiyonu yazınız."
   ]
  },
  {
   "attachments": {},
   "cell_type": "markdown",
   "metadata": {},
   "source": [
    "### Soru 18\n",
    "Verilen  bir metnin içinde büyük-küçük harf, say ve özel karakter olup olmadığını kontrol eden kodu yazınız.\n",
    "\n",
    "- *isalpha()* - Harf olup olmamasını kontrol eder.\n",
    "- *islower()* - Küçük harf olup olmamasını kontrol eder.\n",
    "- *isupper()* - Büyük harf olup olmamasını kontrol eder.\n",
    "- *isdigit()* - Sayı olup olmamasını kontrol eder.\n"
   ]
  }
 ],
 "metadata": {
  "kernelspec": {
   "display_name": "Python 3",
   "language": "python",
   "name": "python3"
  },
  "language_info": {
   "codemirror_mode": {
    "name": "ipython",
    "version": 3
   },
   "file_extension": ".py",
   "mimetype": "text/x-python",
   "name": "python",
   "nbconvert_exporter": "python",
   "pygments_lexer": "ipython3",
   "version": "3.11.2"
  },
  "orig_nbformat": 4
 },
 "nbformat": 4,
 "nbformat_minor": 2
}
