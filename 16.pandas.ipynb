{
 "cells": [
  {
   "cell_type": "markdown",
   "metadata": {},
   "source": [
    "## Series"
   ]
  },
  {
   "cell_type": "markdown",
   "metadata": {},
   "source": [
    "Pandas serileri, temel veri yapılarından biridir. Bir Pandas serisi, tek boyutlu etiketli bir dizidir. Bu dizi her türlü veri türünü (tam sayılar, stringler, floating point sayılar, Python objeleri vb.) içerebilir ve her bir veri noktası bir indeks ile ilişkilendirilir. Bu indeks varsayılan olarak 0'dan başlayan sayısal indekslerdir, ancak zaman damgaları gibi özel indeksler veya stringler (dict yapısı) gibi başka türden etiketler de kullanılabilir."
   ]
  },
  {
   "cell_type": "code",
   "execution_count": null,
   "metadata": {},
   "outputs": [],
   "source": [
    "import pandas as pd\n",
    "\n",
    "\n",
    "std_list = [1, 2, 3, 4]\n",
    "\n",
    "pd_series = pd.Series(std_list)\n",
    "print(pd_series)"
   ]
  },
  {
   "cell_type": "code",
   "execution_count": null,
   "metadata": {},
   "outputs": [],
   "source": [
    "print(type(std_list))\n",
    "print(type(pd_series))\n",
    "\n",
    "pd_series[0]"
   ]
  },
  {
   "cell_type": "markdown",
   "metadata": {},
   "source": [
    "Pandas serileri sözlük yapısı şeklinde de kullanılabilir."
   ]
  },
  {
   "cell_type": "code",
   "execution_count": null,
   "metadata": {},
   "outputs": [],
   "source": [
    "import pandas as pd\n",
    "\n",
    "std_list = [1, 2, 3, 4]\n",
    "keys = [\"a\", \"b\", \"c\", \"d\"]\n",
    "\n",
    "pd_series = pd.Series(std_list, index=keys)\n",
    "\n",
    "print(pd_series)"
   ]
  },
  {
   "cell_type": "code",
   "execution_count": null,
   "metadata": {},
   "outputs": [],
   "source": [
    "import pandas as pd \n",
    "\n",
    "std_dict = {\"a\" : 1, \"b\" : 2, \"c\" : 3, \"d\": 4}\n",
    "pd_series = pd.Series(std_dict)\n",
    "\n",
    "print(pd_series)\n",
    "print()\n",
    "print(pd_series[\"a\"])"
   ]
  },
  {
   "cell_type": "code",
   "execution_count": null,
   "metadata": {},
   "outputs": [],
   "source": [
    "import pandas as pd\n",
    "\n",
    "\n",
    "std_list = [1, 2, 3, \"a\"]\n",
    "\n",
    "pd_series = pd.Series(std_list)\n",
    "print(pd_series)"
   ]
  },
  {
   "cell_type": "code",
   "execution_count": null,
   "metadata": {},
   "outputs": [],
   "source": [
    "import pandas as pd\n",
    "\n",
    "std_dict = {\"a\" : 1, \"b\" : 2, \"c\" : 3, \"d\": 4}\n",
    "\n",
    "pd_series = pd.Series(std_dict, index= [\"a\", \"c\"])\n",
    "\n",
    "print(pd_series)\n",
    "print(pd_series[\"a\"])"
   ]
  },
  {
   "cell_type": "markdown",
   "metadata": {},
   "source": [
    "### Fonksiyonlar"
   ]
  },
  {
   "cell_type": "markdown",
   "metadata": {},
   "source": [
    "Pandas serilerinde kullanılan bazı temel fonksiyonlar aşağıda verilmiştir.\n",
    "\n",
    "**Temel istatistikler**:\n",
    "   - `mean()`: Ortalama değeri hesaplar.\n",
    "   - `median()`: Medyan değeri hesaplar.\n",
    "   - `sum()`: Serideki değerlerin toplamını hesaplar.\n",
    "   - `max()`: Serideki maksimum değeri döner.\n",
    "   - `min()`: Serideki minimum değeri döner.\n",
    "   - `std()`: Standart sapmayı hesaplar.\n",
    "   - `var()`: Varyansı hesaplar.\n",
    "\n",
    "**Veri dönüştürme**:\n",
    "   - `abs()`: Serideki tüm değerlerin mutlak değerini hesaplar.\n",
    "   - `round()`: Serideki sayısal değerleri belirli bir basamağa kadar yuvarlar.\n",
    "   - `astype()`: Serinin veri tipini değiştirir.\n",
    "\n",
    "**Eleman işlemleri**:\n",
    "   - `map()`: Serinin her elemanına bir fonksiyon uygular.\n",
    "   - `apply()`: Serinin her elemanına daha karmaşık fonksiyonlar uygulamak için kullanılır.\n",
    "   - `drop()`: Belirtilen etiketlere sahip elemanları seriden çıkarır.\n",
    "\n",
    "**Filtreleme ve sorgulama**:\n",
    "   - `filter()`: Belirli koşulları karşılayan elemanları seriden seçmek için kullanılır.\n",
    "   - `where()`: Koşullara göre serideki değerleri filtreler, koşulu karşılamayanları belirli bir değer ile değiştirebilir.\n",
    "   - `isin()`: Serinin elemanlarının, belirli bir değer listesinde olup olmadığını döner.\n",
    "\n",
    "**Sıralama ve sıralı istatistikler**:\n",
    "   - `sort_values()`: Seriyi değerlerine göre sıralar.\n",
    "   - `rank()`: Serideki her bir elemana sıralamasına göre bir rütbe atar.\n",
    "\n",
    "**Birleştirme ve gruplama**:\n",
    "   - `append()`: İki seriyi uç uca ekler.\n",
    "   - `groupby()`: Karmaşık veri dönüşümleri için kullanılır, özellikle DataFrame'lerle birlikte.\n",
    "\n",
    "**Zaman sersi işlemleri**:\n",
    "   - `resample()`: Zaman serisi verilerini yeniden örnekleme yapar (örneğin, günlük verileri aylık verilere dönüştürmek için).\n",
    "   - `asfreq()`: Zaman serisi verilerini belirli bir frekansta doldurur.\n",
    "\n",
    "**Kümülatif işlemler**:\n",
    "   - `cumsum()`: Kümülatif toplamı hesaplar.\n",
    "   - `cumprod()`: Kümülatif çarpımı hesaplar.\n",
    "   - `cummax()`: Kümülatif maksimum değeri hesaplar.\n",
    "   - `cummin()`: Kümülatif minimum değeri hesaplar.\n",
    "\n",
    "Bu fonksiyonlar, veri analizlerinde oldukça yararlıdır ve Pandas'ın güçlü veri manipülasyon kabiliyetlerini temsil eder. Her fonksiyonun kullanımı, analiz yapmak istediğiniz veri yapısına ve ihtiyacınıza bağlı olarak değişiklik gösterebilir."
   ]
  },
  {
   "cell_type": "markdown",
   "metadata": {},
   "source": [
    "#### sort_values()"
   ]
  },
  {
   "cell_type": "code",
   "execution_count": null,
   "metadata": {},
   "outputs": [],
   "source": [
    "import pandas as pd\n",
    "\n",
    "data = {\"a\" : 4, \"b\" : 2, \"c\" : 3, \"ç\": None, \"d\": 1, \"e\":5}\n",
    "ps = pd.Series(data)\n",
    "print(ps)\n"
   ]
  },
  {
   "cell_type": "code",
   "execution_count": null,
   "metadata": {},
   "outputs": [],
   "source": [
    "ps.sort_values(\n",
    "    ascending=True, # Artan azalan sıralama\n",
    "    na_position=\"last\", # Boş değerler nereye yerleştirileceğini belirtir.\n",
    "    ignore_index= False, # İndekslemeyi yeniden yapar.\n",
    "    inplace=False, # Orijinal seriyi değitirme durumunu belirtir.\n",
    "    )"
   ]
  },
  {
   "cell_type": "code",
   "execution_count": null,
   "metadata": {},
   "outputs": [],
   "source": [
    "import pandas as pd\n",
    "\n",
    "data = [-1, -2, -4, 3]\n",
    "ps = pd.Series(data)\n",
    "print(ps.sort_values(key=lambda x: x**2))\n",
    "print(ps.sort_values())"
   ]
  },
  {
   "cell_type": "code",
   "execution_count": null,
   "metadata": {},
   "outputs": [],
   "source": [
    "import pandas as pd\n",
    "\n",
    "data = [\"Alpha\", \"beta\", \"Gamma\", \"delta\"]\n",
    "ps = pd.Series(data)\n",
    "sorted_ps = ps.sort_values(key=lambda x: x.str.lower())\n",
    "print(sorted_ps)\n"
   ]
  },
  {
   "cell_type": "markdown",
   "metadata": {},
   "source": [
    "#### filter()\n",
    "\n",
    "Pandas serilerinde `.filter()` fonksiyonu, serideki belirli indeksleri seçmek için kullanılır fakat DataFrame yapılarındaki kadar işlevsel değildir.  \n",
    "`.filter()` fonksiyonunun parametreleri:\n",
    "\n",
    "1. **items**: Seçmek istediğiniz indekslerin listesi. Bu, serideki belirli indeksleri belirtmek için kullanılır.\n",
    "2. **like**: İndeks isimlerinin içermesi gereken belirli bir string. Bu, indeks isimlerinde belirli bir deseni aramak için kullanılır.\n",
    "3. **regex**: İndeksleri seçmek için kullanılabilecek düzenli ifade (regex). Bu, indeks isimlerinde belirli bir desene uyanları seçmek için kullanılır.\n",
    "\n",
    "\n"
   ]
  },
  {
   "cell_type": "code",
   "execution_count": null,
   "metadata": {},
   "outputs": [],
   "source": [
    "# items parametresi\n",
    "import pandas as pd\n",
    "\n",
    "ps = pd.Series(range(10), index=['a', 'b', 'c', 'd', 'e', 'f', 'g', 'h', 'i', 'j'])\n",
    "filtered_ps = ps.filter(items=['a', 'c', 'g'])\n",
    "print(filtered_ps)\n"
   ]
  },
  {
   "cell_type": "code",
   "execution_count": null,
   "metadata": {},
   "outputs": [],
   "source": [
    "\n",
    "# like parametresi\n",
    "\n",
    "import pandas as pd\n",
    "\n",
    "ps = pd.Series(range(12), index=[\n",
    "    'ocak', 'şubat', 'mart', 'nisan', \n",
    "    'mayıs', 'haziran', 'temmuz', 'ağustos', \n",
    "    'eylül', 'ekim', \"kasım\", \"aralık\"\n",
    "    ])\n",
    "filtered_ps = ps.filter(like='e' or \"k\")\n",
    "print(filtered_ps)\n",
    "\n"
   ]
  },
  {
   "cell_type": "code",
   "execution_count": null,
   "metadata": {},
   "outputs": [],
   "source": [
    "# regex\n",
    "import pandas as pd\n",
    "\n",
    "ps = pd.Series(range(12), index=[\n",
    "    'ocak', 'şubat', 'mart', 'nisan', \n",
    "    'mayıs', 'haziran', 'temmuz', 'ağustos', \n",
    "    'eylül', 'ekim', \"kasım\", \"aralık\"\n",
    "    ])\n",
    "filtered_ps = ps.filter(regex=r'[mk]$') # m veya k harfiyle bitenleri filtrele.\n",
    "print(filtered_ps)\n"
   ]
  },
  {
   "cell_type": "code",
   "execution_count": null,
   "metadata": {},
   "outputs": [],
   "source": [
    "ps.argmax"
   ]
  },
  {
   "cell_type": "markdown",
   "metadata": {},
   "source": [
    "## Dataframe\n",
    "\n",
    "\n",
    "Birden fazla serinin yan yana gelerek oluşturduğu tablo tipi veri."
   ]
  },
  {
   "cell_type": "code",
   "execution_count": null,
   "metadata": {},
   "outputs": [],
   "source": [
    "import pandas as pd\n",
    "\n",
    "list1 = [1, 2, 3]\n",
    "list2 = [4, 5, 6]\n",
    "\n",
    "df = pd.DataFrame( {\"a\": list1, \"b\":list2}, index= [\"x\", \"y\", \"z\"])\n",
    "print(df)\n",
    "print(type(df))"
   ]
  },
  {
   "cell_type": "code",
   "execution_count": null,
   "metadata": {},
   "outputs": [],
   "source": [
    "ilk_sira = df.loc[\"x\"]\n",
    "print(ilk_sira)\n",
    "print(type(ilk_sira))"
   ]
  },
  {
   "cell_type": "code",
   "execution_count": null,
   "metadata": {},
   "outputs": [],
   "source": [
    "ilk_sira = df.iloc[0]\n",
    "\n",
    "\n",
    "print(ilk_sira)\n",
    "print(type(ilk_sira))"
   ]
  },
  {
   "cell_type": "code",
   "execution_count": null,
   "metadata": {},
   "outputs": [],
   "source": [
    "ilk = df.loc[ :, \"a\"]\n",
    "print(df)\n",
    "print(ilk)\n",
    "print(type(ilk))"
   ]
  },
  {
   "cell_type": "code",
   "execution_count": null,
   "metadata": {},
   "outputs": [],
   "source": [
    "df[\"c\"] = pd.Series([11,22,33], index= [\"x\", \"y\", \"z\"])\n",
    "print(df)"
   ]
  },
  {
   "cell_type": "code",
   "execution_count": null,
   "metadata": {},
   "outputs": [],
   "source": [
    "df.drop(\"c\", axis= 1)"
   ]
  },
  {
   "cell_type": "markdown",
   "metadata": {},
   "source": [
    "# Okuma"
   ]
  },
  {
   "cell_type": "code",
   "execution_count": null,
   "metadata": {},
   "outputs": [],
   "source": [
    "import pandas as pd\n",
    "df  = pd.read_csv(\"yeni/ford.csv\")\n",
    "\n",
    "print(df)"
   ]
  },
  {
   "cell_type": "code",
   "execution_count": null,
   "metadata": {},
   "outputs": [],
   "source": [
    "import pandas as pd\n",
    "df  = pd.read_excel(\"excel.xlsx\", \"Sheet2\")\n",
    "\n",
    "print(df)"
   ]
  },
  {
   "cell_type": "code",
   "execution_count": null,
   "metadata": {},
   "outputs": [],
   "source": [
    "dosya_yolu = r\"C:\\Users\\ocesur\\OneDrive\\Ivır Zıvır\\Dosyalar\\normalizasyon.xlsx\"\n",
    "\n",
    "import pandas as pd\n",
    "df  = pd.read_excel(dosya_yolu, \"Anormal\")\n",
    "\n",
    "\n"
   ]
  },
  {
   "cell_type": "code",
   "execution_count": null,
   "metadata": {},
   "outputs": [],
   "source": [
    "df.query('yil < 2018 and km > 120000')"
   ]
  },
  {
   "cell_type": "code",
   "execution_count": null,
   "metadata": {},
   "outputs": [],
   "source": [
    "import pandas as pd\n",
    "\n",
    "# Örnek DataFrame oluşturalım\n",
    "data = {'Name': ['Alice', 'Bob', 'Charlie', 'David'],\n",
    "        'Age': [25, 30, 35, 40],\n",
    "        'Team': ['X', 'Y', 'X', 'Z']}\n",
    "\n",
    "df = pd.DataFrame(data)\n",
    "\n",
    "# 'Team' sütunu 'X' veya 'Y' takımlarını içeren satırları filtrelemek\n",
    "teams = ['X', 'Y']\n",
    "filtered_df = df[df['Team'].isin(teams)]\n",
    "filtered_df"
   ]
  },
  {
   "cell_type": "code",
   "execution_count": null,
   "metadata": {},
   "outputs": [],
   "source": [
    "yil = [2017, 2015]\n",
    "\n",
    "ndf = df[df[\"yil\"].isin(yil)]\n",
    "ndf"
   ]
  },
  {
   "cell_type": "code",
   "execution_count": null,
   "metadata": {},
   "outputs": [],
   "source": [
    "df[\"yil\"].isin(yil)"
   ]
  },
  {
   "cell_type": "markdown",
   "metadata": {},
   "source": [
    "# Filtreleme\n",
    "Pandas'da filtreleme ve sorgulama işlemleri, veri setlerinden belirli koşulları karşılayan verileri seçmek için kullanılır. Bu işlemler, veri analizi sürecinde veri kümesini daraltmak, ilgili verileri çekmek ve istenmeyen verileri elemek için oldukça önemlidir. İşte Pandas'da kullanılan bazı temel filtreleme ve sorgulama yöntemleri:\n",
    "\n",
    "### 1. Boolean Indexing\n",
    "Bu yöntem, bir koşula bağlı olarak doğru (`True`) veya yanlış (`False`) değerler üreten bir boolean ifade kullanır. Sonuç olarak, doğru (`True`) değerleri karşılayan satırlar seçilir.\n",
    "\n",
    "```python\n",
    "# Örnek: 'Age' sütunu 30'dan büyük olan tüm satırları seç\n",
    "filtered_data = df[df['Age'] > 30]\n",
    "```\n",
    "\n",
    "### 2. `isin()` Metodu\n",
    "Bu metod, bir sütundaki değerlerin, belirli bir değer listesi içerisinde olup olmadığını kontrol eder. Listede yer alan değerler için `True`, diğer durumlar için `False` döner.\n",
    "\n",
    "```python\n",
    "# Örnek: 'Team' sütunu 'Team A' veya 'Team B' değerlerini içeren satırları seç\n",
    "teams = ['Team A', 'Team B']\n",
    "filtered_data = df[df['Team'].isin(teams)]\n",
    "```\n",
    "\n",
    "### 3. `filter()` Fonksiyonu\n",
    "Bu fonksiyon, sütun isimlerini filtrelemek için kullanılır. Özellikle sütun isimlerinin belirli bir string içermesi gibi durumlar için kullanışlıdır.\n",
    "\n",
    "```python\n",
    "# Örnek: İsimlerinde 'profit' kelimesi geçen sütunları filtrele\n",
    "filtered_columns = df.filter(like='profit')\n",
    "```\n",
    "\n",
    "### 4. `where()` Metodu\n",
    "`where()` metodu, koşulu karşılamayan tüm değerleri başka bir değerle (varsayılan olarak NaN) değiştirir. Bu, koşulu karşılayan değerleri korurken diğerlerini maskelemek için kullanılır.\n",
    "\n",
    "```python\n",
    "# Örnek: 'Age' sütunu 30'dan büyük olan değerleri koru, diğerlerini NaN yap\n",
    "masked_data = df['Age'].where(df['Age'] > 30)\n",
    "```\n",
    "\n",
    "### 5. `query()` Metodu\n",
    "Bu metod, veri çerçevesini filtrelemek için string ifadeler kullanmanızı sağlar. Bu, daha okunaklı ve daha az karmaşık sorgular yazmayı mümkün kılar.\n",
    "\n",
    "```python\n",
    "# Örnek: 'Age' 30'dan büyük ve 'Team' 'Team A' olan satırları seç\n",
    "filtered_data = df.query('Age > 30 and Team == \"Team A\"')\n",
    "```\n",
    "\n",
    "Bu yöntemler, veri setleriniz üzerinde etkili ve verimli bir şekilde filtreleme yapmanıza olanak tanır, böylece analizleriniz için sadece ilgili verilere odaklanabilirsiniz."
   ]
  },
  {
   "cell_type": "code",
   "execution_count": null,
   "metadata": {},
   "outputs": [],
   "source": [
    "masked_data = df['yil'].where(df['yil'] > 2017)\n",
    "masked_data"
   ]
  },
  {
   "cell_type": "code",
   "execution_count": 25,
   "metadata": {},
   "outputs": [
    {
     "name": "stdout",
     "output_type": "stream",
     "text": [
      "Empty DataFrame\n",
      "Columns: []\n",
      "Index: [0, 1, 2, 3, 4]\n",
      "   A1  B2  C1\n",
      "0   1  10  20\n",
      "1   2  11  21\n",
      "2   3  12  22\n",
      "3   4  13  23\n",
      "4   5  14  24\n"
     ]
    }
   ],
   "source": [
    "import pandas as pd\n",
    "\n",
    "df = pd.DataFrame({\n",
    "    'A1': range(1, 6),\n",
    "    'B2': range(10, 15),\n",
    "    'C1': range(20, 25),\n",
    "})\n",
    "# '_1' ile biten sütunları seç\n",
    "result = df.filter(regex='_1$')\n",
    "print(result)\n",
    "print(df)"
   ]
  },
  {
   "cell_type": "code",
   "execution_count": 28,
   "metadata": {},
   "outputs": [
    {
     "name": "stdout",
     "output_type": "stream",
     "text": [
      "            Name                    Email\n",
      "0    Alice Smith        alice@example.com\n",
      "1    Bob Johnson     bjohnson@example.net\n",
      "2  Charlie Brown  charexlie.brown@foo.com\n"
     ]
    }
   ],
   "source": [
    "import pandas as pd\n",
    "\n",
    "data = {'Name': ['Alice Smith', 'Bob Johnson', 'Charlie Brown', 'David Lee'],\n",
    "        'Email': ['alice@example.com', 'bjohnson@example.net', 'charexlie.brown@foo.com', 'david.lee@bar.org']}\n",
    "df = pd.DataFrame(data)\n",
    "\n",
    "# Email sütununda 'example' geçen satırları filtrele\n",
    "mask = df['Email'].str.contains('ex', regex=True)\n",
    "filtered_df = df[mask]\n",
    "print(filtered_df)\n"
   ]
  },
  {
   "cell_type": "code",
   "execution_count": 30,
   "metadata": {},
   "outputs": [
    {
     "data": {
      "text/html": [
       "<div>\n",
       "<style scoped>\n",
       "    .dataframe tbody tr th:only-of-type {\n",
       "        vertical-align: middle;\n",
       "    }\n",
       "\n",
       "    .dataframe tbody tr th {\n",
       "        vertical-align: top;\n",
       "    }\n",
       "\n",
       "    .dataframe thead th {\n",
       "        text-align: right;\n",
       "    }\n",
       "</style>\n",
       "<table border=\"1\" class=\"dataframe\">\n",
       "  <thead>\n",
       "    <tr style=\"text-align: right;\">\n",
       "      <th></th>\n",
       "      <th>Name</th>\n",
       "      <th>Email</th>\n",
       "    </tr>\n",
       "  </thead>\n",
       "  <tbody>\n",
       "    <tr>\n",
       "      <th>0</th>\n",
       "      <td>Alice Smith</td>\n",
       "      <td>alice@example.com</td>\n",
       "    </tr>\n",
       "    <tr>\n",
       "      <th>1</th>\n",
       "      <td>Bob Johnson</td>\n",
       "      <td>bjohnson@example.net</td>\n",
       "    </tr>\n",
       "    <tr>\n",
       "      <th>2</th>\n",
       "      <td>Charlie Brown</td>\n",
       "      <td>charexlie.brown@foo.com</td>\n",
       "    </tr>\n",
       "    <tr>\n",
       "      <th>3</th>\n",
       "      <td>David Lee</td>\n",
       "      <td>david.lee@bar.org</td>\n",
       "    </tr>\n",
       "  </tbody>\n",
       "</table>\n",
       "</div>"
      ],
      "text/plain": [
       "            Name                    Email\n",
       "0    Alice Smith        alice@example.com\n",
       "1    Bob Johnson     bjohnson@example.net\n",
       "2  Charlie Brown  charexlie.brown@foo.com\n",
       "3      David Lee        david.lee@bar.org"
      ]
     },
     "execution_count": 30,
     "metadata": {},
     "output_type": "execute_result"
    }
   ],
   "source": []
  }
 ],
 "metadata": {
  "kernelspec": {
   "display_name": "Python 3",
   "language": "python",
   "name": "python3"
  },
  "language_info": {
   "codemirror_mode": {
    "name": "ipython",
    "version": 3
   },
   "file_extension": ".py",
   "mimetype": "text/x-python",
   "name": "python",
   "nbconvert_exporter": "python",
   "pygments_lexer": "ipython3",
   "version": "3.11.7"
  }
 },
 "nbformat": 4,
 "nbformat_minor": 2
}
