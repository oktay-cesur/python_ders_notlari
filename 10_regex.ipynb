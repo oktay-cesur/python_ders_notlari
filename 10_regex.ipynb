{
 "cells": [
  {
   "cell_type": "code",
   "execution_count": null,
   "metadata": {},
   "outputs": [],
   "source": [
    "import re\n",
    "import csv\n",
    "import random\n",
    "from termcolor import colored # Çıktıları renklendirmek için kullanılmaktadır. \n",
    "import random\n",
    "\n",
    "def alfanum_listele():\n",
    "    with open(\"alfa_nümerik_karakterler.txt\", \"r\", encoding='utf-8') as dosya:\n",
    "        alfanumerik_kelime_listesi = dosya.readlines()\n",
    "    alfanumerik_kelime_listesi = [kelime.strip() for kelime in alfanumerik_kelime_listesi]\n",
    "    return alfanumerik_kelime_listesi\n",
    "\n",
    "\n",
    "\n",
    "def formatli_yazdir(eslesen_kelimeler):\n",
    "\n",
    "    print(\"Eşleşen İsimler:\")\n",
    "    print(colored( \"1|2|3|4|5 * 6|7|8|9|10\",color=\"black\", on_color=\"on_white\"))\n",
    "\n",
    "    if len(eslesen_kelimeler)>15:\n",
    "        rastgele_secim = sorted(random.sample(eslesen_kelimeler, 15), key= len,reverse=True)\n",
    "    else:\n",
    "        eslesen_kelimeler.sort(reverse=True)\n",
    "        rastgele_secim = eslesen_kelimeler\n",
    "    for kelime in rastgele_secim:\n",
    "        renkli_kelime = \"\"\n",
    "        for sira in range(len(kelime)):\n",
    "            if sira % 5 == 4:\n",
    "                ayrac = \"|*|\"\n",
    "            else:\n",
    "                ayrac = \" \"\n",
    "\n",
    "            renkli_kelime +=  colored(kelime[sira], \"white\") + ayrac\n",
    "        print(renkli_kelime)"
   ]
  },
  {
   "cell_type": "code",
   "execution_count": null,
   "metadata": {},
   "outputs": [],
   "source": [
    "metin = \"Regex (Düzenli İfadeler) içinde özel anlamlara sahip olan karakterlere meta karakterler denir. Bu karakterler, belirli türdeki karakterlerin eşleştirilmesi, sınırların belirlenmesi veya desenlerin tekrarlanması gibi işlemleri gerçekleştirmek için kullanılır. İşte en yaygın kullanılan bazı regex meta karakterleri ve anlamları:\"\n",
    "aranacak = \"Regex\"\n",
    "aranacak2 = \"regex\""
   ]
  },
  {
   "cell_type": "code",
   "execution_count": null,
   "metadata": {},
   "outputs": [],
   "source": [
    "for sira_metin in range(len(metin)):\n",
    "    metin_harfler = metin[sira_metin:sira_metin+len(aranacak)]\n",
    "    if metin_harfler == aranacak or metin_harfler == aranacak2:\n",
    "        print(\"Metni bulduk\")\n",
    "        print(metin_harfler)\n",
    "        print(\"Sıra: \", sira_metin)\n",
    "\n",
    "        "
   ]
  },
  {
   "cell_type": "code",
   "execution_count": null,
   "metadata": {},
   "outputs": [],
   "source": [
    "metin.startswith(aranacak)"
   ]
  },
  {
   "cell_type": "code",
   "execution_count": null,
   "metadata": {},
   "outputs": [],
   "source": [
    "import re\n",
    "\n",
    "eslesme = re.match(aranacak, metin)\n",
    "print(eslesme)"
   ]
  },
  {
   "cell_type": "markdown",
   "metadata": {},
   "source": [
    "# Metakarakterler\n",
    "\n",
    "Regex (Düzenli İfadeler) içinde özel anlamlara sahip olan karakterlere \"meta karakterler\" denir. Bu karakterler, belirli türdeki karakterlerin eşleştirilmesi, sınırların belirlenmesi veya desenlerin tekrarlanması gibi işlemleri gerçekleştirmek için kullanılır. İşte en yaygın kullanılan bazı regex meta karakterleri ve anlamları:\n",
    "\n",
    "- . (Nokta): Yeni satır karakteri hariç, herhangi bir tek karakterle eşleşir.\n",
    "- ^ (Başlangıç): Bir metin dizisinin başlangıcını belirtir.\n",
    "- $ (Son): Bir metin dizisinin sonunu belirtir.\n",
    "- \\* (Yıldız): Önceki karakterin sıfır veya daha fazla tekrarıyla eşleşir.\n",
    "- \\+ (Artı): Önceki karakterin bir veya daha fazla tekrarıyla eşleşir.\n",
    "- ? (Soru işareti): Önceki karakterin sıfır veya bir tekrarıyla eşleşir. Ayrıca, tembel eşleştirme (lazy matching) için de kullanılır.\n",
    "- [] (Karakter sınıfı): Köşeli parantezler içinde belirtilen karakterlerden herhangi biriyle eşleşir.\n",
    "- \\- (Aralık): Karakter sınıfları içinde kullanıldığında, belirli bir aralıktaki karakterlerle eşleşir (örn. [a-z] küçük harflerle eşleşir).\n",
    "- () (Gruplama): Parantezler içindeki ifadeleri bir grup olarak ele alır ve bu grup üzerinde işlemler yapılmasına olanak tanır.\n",
    "- | (Alternatif): \"veya\" anlamına gelir ve alternatifler arasında seçim yapar (örn. a|b, a veya b ile eşleşir).\n",
    "- \\ (Ters eğik çizgi): Özel karakterlerin önüne geldiğinde, bu karakterin özel anlamını iptal eder ve literal (gerçek) değeriyle eşleşmesini sağlar. Ayrıca, özel dizileri (örn. \\d rakamlarla eşleşir) temsil etmek için de kullanılır.\n",
    "- {} (Miktar belirleyici): Önceki karakterin belirli bir sayıda tekrarlanması gerektiğini belirtir (örn. a{3} tam olarak üç 'a' karakteriyle eşleşir)."
   ]
  },
  {
   "cell_type": "markdown",
   "metadata": {},
   "source": [
    "## \"[]\" Köşeli parantez\n",
    "\n",
    "[] karakterleri regex'te bir \"karakter sınıfı\" oluşturmak için kullanılır. Bir karakter sınıfı, belirtilen karakterlerden herhangi biriyle eşleşen bir deseni temsil eder. Karakter sınıfı içine yazılan karakterler, aranan metin içinde bu karakterlerden herhangi birinin bulunabileceği anlamına gelir. Örneğin, [abc] deseni \"a\", \"b\" veya \"c\" karakterlerinden herhangi biriyle eşleşir.\n",
    "\n",
    "Karakter sınıfları daha karmaşık karakter aralıklarını da tanımlayabilir. Örneğin:\n",
    "\n",
    "[a-z] deseni, küçük harf olan herhangi bir harfle eşleşir.\n",
    "[A-Z] deseni, büyük harf olan herhangi bir harfle eşleşir.\n",
    "[0-9] deseni, herhangi bir rakamla eşleşir.\n",
    "[a-zA-Z] deseni, büyük veya küçük harf olan herhangi bir harfle eşleşir.\n",
    "Bir karakter sınıfı içinde, özel karakterler (^, -, \\]) dışındaki karakterler genellikle özel anlamlarını yitirir. Örneğin, [.] deseni yalnızca bir nokta karakteri ile eşleşir ve noktanın \"herhangi bir karakter\" anlamı taşımaz.\n",
    "\n",
    "Karakter sınıflarının başına ^ işareti konduğunda, o karakter sınıfı içinde belirtilen karakterler dışındaki her karakterle eşleşme sağlanır. Bu, \"olumsuz karakter sınıfı\" olarak adlandırılır. Örneğin, [^a-z] deseni küçük harf dışındaki herhangi bir karakterle eşleşir.\n",
    "\n",
    "Tek Karakter Eşleşmesi:\n",
    "\n",
    "- [aeiou]: Bu desen, herhangi bir sesli harfi içeren bir karakterle eşleşir.\n",
    "Sayılar İçin Karakter Eşleşmesi:\n",
    "\n",
    "- [0-9]: Bu desen, herhangi bir rakamı içeren bir karakterle eşleşir.\n",
    "Harfler İçin Karakter Eşleşmesi:\n",
    "\n",
    "- [a-zA-Z]: Bu desen, herhangi bir küçük veya büyük harfi içeren bir karakterle eşleşir.\n",
    "Belirli Karakterlerin Eşleşmesi:\n",
    "\n",
    "- [aeiouAEIOU]: Bu desen, herhangi bir büyük veya küçük sesli harfi içeren bir karakterle eşleşir.\n",
    "Özel Karakterlerin Eşleşmesi:\n",
    "\n",
    "- [@#]: Bu desen, \"@\" , \"#\" karakterlerinden biri ile eşleşir.\n",
    "Karakter Aralığı İle Eşleşme:\n",
    "\n",
    "- [a-z]: Bu desen, küçük harf 'a' ile 'z' arasındaki herhangi bir harfle eşleşir.\n",
    "Negatif Karakter Grubu:\n",
    "\n",
    "- [^0-9]: Bu desen, rakam olmayan herhangi bir karakterle eşleşir.\n",
    "Özel Karakter İçeren Eşleşme:\n",
    "\n",
    "- [\\d\\s]: Bu desen, bir sayı (\\d) veya bir boşluk karakteri (\\s) ile eşleşir."
   ]
  },
  {
   "cell_type": "markdown",
   "metadata": {},
   "source": [
    "# Metodlar"
   ]
  },
  {
   "cell_type": "markdown",
   "metadata": {},
   "source": [
    "## Match-Search"
   ]
  },
  {
   "cell_type": "code",
   "execution_count": null,
   "metadata": {},
   "outputs": [],
   "source": [
    "import re\n",
    "\n",
    "ana_metin = \"Bu üzerinde arama yapılacak metindir.\"\n",
    "aranacak = \"Bu\"\n",
    "\n",
    "esleme = re.match(aranacak, ana_metin)  \n",
    "# re.match nesnesi\n",
    "# match nesnesi her zaman True değerine denktir. \n",
    "# Baştan itibaren sayar\n",
    "\n",
    "print(esleme)"
   ]
  },
  {
   "cell_type": "code",
   "execution_count": null,
   "metadata": {},
   "outputs": [],
   "source": [
    "ana_metin = \"Bu üzerinde arama yapılacak metindir.\"\n",
    "aranacak = \"u üzer\"\n",
    "\n",
    "esleme = re.match(aranacak, ana_metin)  \n",
    "# Eşleme yapılamazsa None değeri döndürür.\n",
    "# Metin içindeki herhangi bir kalıbı yakalamaz. Başlangıçtan itibaren sayar.\n",
    "print(esleme) "
   ]
  },
  {
   "cell_type": "code",
   "execution_count": null,
   "metadata": {},
   "outputs": [],
   "source": [
    "ana_metin = \"Bu üzerinde arama yapılacak metindir.\"\n",
    "aranacak = \"ara\"\n",
    "\n",
    "esleme = re.search(aranacak, ana_metin)  \n",
    "# search metodu metin içindeki herhangi bir noktada arama yapabilir.\n",
    "print(esleme) \n",
    "\n"
   ]
  },
  {
   "cell_type": "code",
   "execution_count": null,
   "metadata": {},
   "outputs": [],
   "source": [
    "esleme.span() \n",
    "# Eşlenen metnin aralığını verir.\n",
    "\n",
    "# başlama bitiş noktaları\n",
    "baslama = esleme.start()\n",
    "bitis = esleme.end()\n",
    "print(ana_metin[baslama:bitis])\n",
    "\n",
    "# Metin ifadesini döndürür.\n",
    "grup_nesnesi = esleme.group()  # varsayılan esleme.group(0)"
   ]
  },
  {
   "cell_type": "code",
   "execution_count": null,
   "metadata": {},
   "outputs": [],
   "source": [
    "metin = 'Düzenli ifadeler veya kurallı ifadeler, bilgisayar bilimlerinde ele alınan metindeki kimi katarların kısa yoldan ve esnek bir biçimde belirlenmesini sağlar. Bu katarlar belli karakterler, kelimeler veya karakter örüntüleri olabilir. Düzenli ifadeler, bir biçimsel dil kullanarak yazılır ve bir düzenli ifade işleyici tarafından yorumlanır. Bir düzenli ifade işleyicisi ya ayrıştırıcı olarak hizmet eden ya da metni inceleyip verilen tarife uygun kısımlarını belirleyen bir programdır.Aşağıda bir düzenli ifade ile ifade edilebilecek tariflere birkaç örnek görülebilir:herhangi bir yerde bulunan \"ara\" karakter dizisi; \"ara\", \"araba\", \"paravan\" gibi diğer karakterlerden yalıtılmış şekilde bulunan \"ara\" kelimesi kendisinden önce \"kısa\" veya \"uzun\" kelimesi geçen \"ara\" kelimesi bir veya daha fazla rakamdan sonra gelen \"TL\" karakter dizisi Düzenli ifadeler, hemen hemen tüm programlama dillerinde kütüphaneler olarak mevcuttur. Ancak bunlar her biçimsel dili ayırmak için yeterli değildir, bkz. Biçimsel dil kuramı. Pek çok programlama dili ve/veya programlama dilinde, bu işlem ayrıştırıcı yardımı ile otomatik üretilen bir programla yapılabilir.'\n",
    "\n",
    "\n",
    "#  b ile başlayıp herhangi bir karakterle devam eden ifadeleri bulalım\n",
    "aranacak_ifade = \"b.\" \n",
    "\n",
    "esleme = re.search(aranacak_ifade, metin)\n",
    "\n",
    "esleme.group(0)\n"
   ]
  },
  {
   "cell_type": "markdown",
   "metadata": {},
   "source": [
    "## Findall Finditer\n",
    "\n",
    "Findall metin içindeki bütün eşlemeleri sırayla str olarak kaydeder. finditer her bir eşlemeyi match nesnesi olarak kaydeder."
   ]
  },
  {
   "cell_type": "code",
   "execution_count": null,
   "metadata": {},
   "outputs": [],
   "source": [
    "metin = 'Düzenli ifadeler veya kurallı ifadeler, bilgisayar bilimlerinde ele alınan metindeki kimi katarların kısa yoldan ve esnek bir biçimde belirlenmesini sağlar. Bu katarlar belli karakterler, kelimeler veya karakter örüntüleri olabilir. Düzenli ifadeler, bir biçimsel dil kullanarak yazılır ve bir düzenli ifade işleyici tarafından yorumlanır. Bir düzenli ifade işleyicisi ya ayrıştırıcı olarak hizmet eden ya da metni inceleyip verilen tarife uygun kısımlarını belirleyen bir programdır.Aşağıda bir düzenli ifade ile ifade edilebilecek tariflere birkaç örnek görülebilir:herhangi bir yerde bulunan \"ara\" karakter dizisi; \"ara\", \"araba\", \"paravan\" gibi diğer karakterlerden yalıtılmış şekilde bulunan \"ara\" kelimesi kendisinden önce \"kısa\" veya \"uzun\" kelimesi geçen \"ara\" kelimesi bir veya daha fazla rakamdan sonra gelen \"TL\" karakter dizisi Düzenli ifadeler, hemen hemen tüm programlama dillerinde kütüphaneler olarak mevcuttur. Ancak bunlar her biçimsel dili ayırmak için yeterli değildir, bkz. Biçimsel dil kuramı. Pek çok programlama dili ve/veya programlama dilinde, bu işlem ayrıştırıcı yardımı ile otomatik üretilen bir programla yapılabilir.'\n",
    "\n",
    "\n",
    "#  b ile başlayıp herhangi bir karakterle devam eden ifadeleri bulalım\n",
    "aranacak_ifade = \"\\s[a-zğüşiöç]{3}\\s\"  # Boşluğu normal de yazabiliriz fakat \\s ile yazmak daha doğru.\n",
    "\n",
    "eslemeler = re.findall(aranacak_ifade, metin)\n",
    "\n",
    "for esleme in eslemeler:\n",
    "    print(esleme)\n"
   ]
  },
  {
   "cell_type": "code",
   "execution_count": null,
   "metadata": {},
   "outputs": [],
   "source": [
    "metin = 'Düzenli ifadeler veya kurallı ifadeler, bilgisayar bilimlerinde ele alınan metindeki kimi katarların kısa yoldan ve esnek bir biçimde belirlenmesini sağlar. Bu katarlar belli karakterler, kelimeler veya karakter örüntüleri olabilir. Düzenli ifadeler, bir biçimsel dil kullanarak yazılır ve bir düzenli ifade işleyici tarafından yorumlanır. Bir düzenli ifade işleyicisi ya ayrıştırıcı olarak hizmet eden ya da metni inceleyip verilen tarife uygun kısımlarını belirleyen bir programdır.Aşağıda bir düzenli ifade ile ifade edilebilecek tariflere birkaç örnek görülebilir:herhangi bir yerde bulunan \"ara\" karakter dizisi; \"ara\", \"araba\", \"paravan\" gibi diğer karakterlerden yalıtılmış şekilde bulunan \"ara\" kelimesi kendisinden önce \"kısa\" veya \"uzun\" kelimesi geçen \"ara\" kelimesi bir veya daha fazla rakamdan sonra gelen \"TL\" karakter dizisi Düzenli ifadeler, hemen hemen tüm programlama dillerinde kütüphaneler olarak mevcuttur. Ancak bunlar her biçimsel dili ayırmak için yeterli değildir, bkz. Biçimsel dil kuramı. Pek çok programlama dili ve/veya programlama dilinde, bu işlem ayrıştırıcı yardımı ile otomatik üretilen bir programla yapılabilir.'\n",
    "\n",
    "\n",
    "#  b ile başlayıp herhangi bir karakterle devam eden ifadeleri bulalım\n",
    "aranacak_ifade = \"\\s[a-zğüşiöç]{3}\\s\"  # Boşluğu normal de yazabiliriz fakat \\s ile yazmak daha doğru.\n",
    "\n",
    "eslemeler = re.finditer(aranacak_ifade, metin)\n",
    "\n",
    "for esleme in eslemeler:\n",
    "    print(esleme)\n",
    "    \n",
    "metin[63:68]"
   ]
  },
  {
   "cell_type": "code",
   "execution_count": null,
   "metadata": {},
   "outputs": [],
   "source": [
    "aranacak_ifade = \"[A-Hf-h][f-t]\" \n",
    "\n",
    "\n",
    "\n",
    "eslemeler = re.finditer(aranacak_ifade, metin)\n",
    "\n",
    "for esleme in eslemeler:\n",
    "    print(esleme)"
   ]
  },
  {
   "cell_type": "code",
   "execution_count": null,
   "metadata": {},
   "outputs": [],
   "source": [
    "eslesen_kelimeler = []\n",
    "kelimeler = alfanum_listele()\n",
    "\n",
    "for kelime in kelimeler:   \n",
    "    \n",
    "    ##################################\n",
    "    eslesme = re.search('^B[0-9]*z$', kelime)\n",
    "    ##################################\n",
    "    \n",
    "    if eslesme:\n",
    "        eslesen_kelimeler.append(kelime)\n",
    "\n",
    "formatli_yazdir(eslesen_kelimeler)"
   ]
  },
  {
   "cell_type": "code",
   "execution_count": null,
   "metadata": {},
   "outputs": [],
   "source": [
    "liste = [\"asdjb\",\"asdfghj\", \"B12z\"]\n",
    "\n",
    "for kelime in kelimeler:   \n",
    "    ilk = kelime[0]\n",
    "    son = kelime[-1]\n",
    "    silinmis_kelime = kelime [1:-1]\n",
    "    try:\n",
    "        donusmus = int(silinmis_kelime)\n",
    "        if ilk == \"B\" and son == \"z\":\n",
    "            print(kelime)\n",
    "    except:\n",
    "        pass\n"
   ]
  },
  {
   "cell_type": "markdown",
   "metadata": {},
   "source": [
    "\"altmetin\", \"Altmetin\", \"alt metin\" ve \"Alt metin\" kelimelerinin tamamını listeleyelim.\n",
    "\n",
    "Metnimiz:\n"
   ]
  },
  {
   "cell_type": "code",
   "execution_count": null,
   "metadata": {},
   "outputs": [],
   "source": [
    "\n",
    "metin = \"Python programlama dili oldukça popüler ve kullanıcı dostu bir dil olarak bilinir. Programcılar, Python'u geniş bir uygulama yelpazesi için kullanabilirler. Altmetin işlemleri, metin madenciliği ve doğal dil işleme gibi konularda Python'un yetenekleri oldukça etkilidir. Alt metin analizi, bir metin içindeki alt metin örüntülerini belirleme sürecini ifade eder. Alt metin analizi, bir metindeki belirli kelimeleri veya ifadeleri tanıma ve anlama amacıyla kullanılır. Altmetin kelimesi, bu tür bir analizde sıkça kullanılan bir terimdir. Ancak, dikkat edilmesi gereken bir husus vardır: Python regex, büyük-küçük harfe duyarlıdır. Yani Altmetin ve altmetin aynı değildir.\"\n",
    "\n",
    "esleme = re.finditer(\"[Aa]lt\\s?metin\", metin)\n",
    "\n",
    "for i in esleme:\n",
    "    print(i)\n"
   ]
  },
  {
   "cell_type": "markdown",
   "metadata": {},
   "source": [
    "## compile\n",
    "\n",
    "Yazdığınız regex ifadeyi derleyip daha hızlı çalışmasını sağlar."
   ]
  },
  {
   "cell_type": "code",
   "execution_count": null,
   "metadata": {},
   "outputs": [],
   "source": [
    "\n",
    "metin = \"Python programlama dili oldukça popüler ve kullanıcı dostu bir dil olarak bilinir. Programcılar, Python'u geniş bir uygulama yelpazesi için kullanabilirler. Altmetin işlemleri, metin madenciliği ve doğal dil işleme gibi konularda Python'un yetenekleri oldukça etkilidir. Alt metin analizi, bir metin içindeki alt metin örüntülerini belirleme sürecini ifade eder. Alt metin analizi, bir metindeki belirli kelimeleri veya ifadeleri tanıma ve anlama amacıyla kullanılır. Altmetin kelimesi, bu tür bir analizde sıkça kullanılan bir terimdir. Ancak, dikkat edilmesi gereken bir husus vardır: Python regex, büyük-küçük harfe duyarlıdır. Yani Altmetin ve altmetin aynı değildir.\"\n",
    "\n",
    "derle = re.compile(\"[Aa]lt\\s?metin\")\n",
    "# Yapılacak arma öncesi derleme işlemiyle çalışma zamanını düşürür.\n",
    "\n",
    "eslemeler = derle.finditer(metin)\n",
    "\n",
    "for i in eslemeler:\n",
    "    print(i)\n"
   ]
  },
  {
   "cell_type": "markdown",
   "metadata": {},
   "source": [
    "## Değişim\n",
    "\n"
   ]
  },
  {
   "cell_type": "code",
   "execution_count": null,
   "metadata": {},
   "outputs": [],
   "source": [
    "metin = \"Python programlama dili oldukça popüler ve kullanıcı dostu bir dil olarak bilinir. Programcılar, Python'u geniş bir uygulama yelpazesi için kullanabilirler.  Altmetin işlemleri, metin madenciliği ve doğal dil işleme gibi konularda Python'un yetenekleri oldukça etkilidir. Alt metin analizi, bir metin içindeki alt metin örüntülerini belirleme sürecini ifade eder. Alt metin analizi, bir metindeki belirli kelimeleri veya ifadeleri tanıma ve anlama amacıyla kullanılır. Altmetin kelimesi, bu tür bir analizde sıkça kullanılan bir terimdir. Ancak, dikkat edilmesi gereken bir husus vardır: Python regex, büyük-küçük harfe duyarlıdır. Yani Altmetin ve altmetin aynı değildir.\"\n"
   ]
  },
  {
   "cell_type": "code",
   "execution_count": null,
   "metadata": {},
   "outputs": [],
   "source": [
    "metin = \"Mail adresim oktay@cesur.com\"\n",
    "pattern = \"(\\w+)@(\\w+)\\.(\\w+)\"\n",
    "\n",
    "esleme =re.search(pattern, metin)\n",
    "for i in range(4):\n",
    "    print(i, esleme.group(i))"
   ]
  }
 ],
 "metadata": {
  "kernelspec": {
   "display_name": "Python 3",
   "language": "python",
   "name": "python3"
  },
  "language_info": {
   "codemirror_mode": {
    "name": "ipython",
    "version": 3
   },
   "file_extension": ".py",
   "mimetype": "text/x-python",
   "name": "python",
   "nbconvert_exporter": "python",
   "pygments_lexer": "ipython3",
   "version": "3.11.7"
  }
 },
 "nbformat": 4,
 "nbformat_minor": 2
}
