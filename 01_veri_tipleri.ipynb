{
 "cells": [
  {
   "attachments": {},
   "cell_type": "markdown",
   "metadata": {},
   "source": [
    "# Veri Yapıları\n",
    "Python dilinin C/C++ ve Java gibi dillerden ayrıldığı noktalardan birisi veri yapılarıdır. \"Python öğrenmesi kolay bir dil\" ifadesini daha önce duymuş olabilirsiniz. Python'un kolay öğrenilme sebeplerinden birisi veri yapıları kısmındaki farklılık olduğu söylenebilir. İlk kez programlama öğreniyorsanız bu söylenen bir anlam ifade etmeyecektir büyük ihtimal. Fakat daha önceden C/C++ ve Java gibi dillerden birisiyle çalıştıysanız veri yapısı tanımlamanın nasıl gerçekleştiğini biliyorsunuzdur. Aradaki farklara değineceğiz ama öncesinde genel olarak veri tiplerinden bahsedeceğiz.\n",
    "\n",
    "\n",
    "Daha önceki kısımlarda verilerin 01 dizileri ile tutulmasından bahsetmiştik. Bizim burada kullanacağımız veri yapıları tabii ki de yüksek düzey dillerin yapısına uygun olarak günlük dil içinde kullanımı kolay olacak şekilde olacaktır. Burada şunu düşünmeliyiz; \n",
    "> \"Bir algoritma tasarlarken hangi tip yapılara ihtiyacımız olabilir?\"\n",
    "\n",
    "Genel olarak algoritmaları düşündüğümüzde sayaçlar, çeşitli metin işlemleri, yapılan işlemlerin doğru/yanlış olma durumu, listeleme işlemleri ve eşlemeler gibi şeylere ihtiyacımız olacaktır. Tüm bunlar için temel yapılarımız değişkenler ve bu değişkenler üzerinde tanımlı işlemler olacaktır."
   ]
  },
  {
   "attachments": {},
   "cell_type": "markdown",
   "metadata": {},
   "source": [
    "\n",
    "### Değişken nedir?\n",
    "Genel haliyle uygulama esnasında çeşitli veriler kullanmamız gerekir. Bunlar önceden tamınlı ifadeler de uygulama esnasında hesaplanan veya oluşturulan değerler de olabilir. Örneğin bir kullanıcı formu oluşturduğumuzu düşünelim. Giriş yapan kişinin ad, soyad değeri ile kimlik numarası birbirinden farklı tiptedir fakat makine dili açısından hepsi 01 dizileri şeklinde bellekte tutulacak verilerdir. Yüksek seviyeli dillerde günlük kullanıma daha yakın olması için farklı ad-soyad \"metin\" şeklinde tutulurken kimlik no \"sayı\" olarak tutulur. Hemen hemen tüm programlama dillerinde en temel iki tip \"sayı\" ve \"metin\" türü verilerdir.\n",
    "\n",
    "Python' ın temel değişken tipleri aşağıdadır.\n",
    "\n",
    "1. Number\n",
    "2. String\n",
    "3. List\n",
    "4. Tupple\n",
    "5. Set\n",
    "6. Dictionary\n",
    "\n",
    "Bu tiplerin açıklamaları ayrı olarak yapılacaktır. Bu kısma geçmeden önce Python' nun diğer dillerden ayrıldığı noktaya gelelim."
   ]
  },
  {
   "attachments": {},
   "cell_type": "markdown",
   "metadata": {},
   "source": [
    "### Python' un farkı ne?\n",
    "Farklardan önce değişkenlere yönelik daha teknik bir açıklama yapacak olursak değişkenler kullanılacak olan değerleri tutumak için kullanılan bellek konumlarıdır. Bu şu anlama gelir; siz bir değişken oluşturduğunuzda bellekte bir ya da birkaç byte boyutunda bir 01 dizisi oluşturulur. SOnrasında bu veriyi kullanmak gerektiğinde ise bizim istediğimiz hale dönmesi gerekir. Örneğin bellekteki binary karşılığı 01100001 olan bir değişken oluşturduk. Bu değeri çevirdiğimizde 97 sayısı elde edilir.Bu değerin kullanımında sayı olarak mı yoksa ASCII karşılığı olan \"a\" harfi olarak mı  ele alınacağına göre bambaşka sonuçlar elde ederiz. Yani bir değişkenin bellekteki yerininde çağırırken bu verinin hangi tipte olduğunu bilmemiz önemlidir.\n",
    "\n",
    "C/C++ ve Java gibi dillerde bir değişken tanımlanmadan önce veri tipinin ne olduğunun tanıtılması gerekir ki bu sıkıntı yaşanmasın. Sonrasında ise verinin tipi değişmeden kalır. Python' un esnekliği bu noktada başlamaktadır. Python' da veriyi oluşturmadan önce tipini bildirmemiz gerekmemektedir. Python veri tipinin belirlenmesini ilk değere göre otomatik olarak bizim yerimize yapar.\n",
    "\n",
    "> \"Python Dilinde veri tipi belirlenmez\" ifadesi hatalıdır. Tip belirleme işlemi her dil için yapılması gerekir. Python bu işi bizim yerimize yapar ve değişimler konusunda esnektir.\n",
    "\n",
    "\n"
   ]
  },
  {
   "attachments": {},
   "cell_type": "markdown",
   "metadata": {},
   "source": [
    "*id()* fonksiyonu girilern değişkenin bellekte tutulduğu yeri verir. "
   ]
  },
  {
   "cell_type": "code",
   "execution_count": null,
   "metadata": {},
   "outputs": [],
   "source": [
    "a=2\n",
    "b=5\n",
    "c=2\n",
    "\n",
    "print(\"id(a):\",id(a))\n",
    "print(\"id(a):\",id(b))\n",
    "print(\"id(a):\",id(c))\n",
    "\n"
   ]
  },
  {
   "attachments": {},
   "cell_type": "markdown",
   "metadata": {},
   "source": [
    "Python' da aslolan değerlerdir. Hazfızada bu değerler **nesne olarak** tutulur ve bir atama yapıldığında yazılan değişken ismi bu değerin bir isimlendirmesi olarak düşünülür."
   ]
  },
  {
   "attachments": {},
   "cell_type": "markdown",
   "metadata": {},
   "source": [
    "# Veri Tipleri"
   ]
  },
  {
   "attachments": {},
   "cell_type": "markdown",
   "metadata": {},
   "source": [
    "## Sayılar\n",
    "\n",
    "Temelde üç çeşit sayımız vardır. Bunlar *int*, *float* ve *karmaşık (complex)* sayı tipleridir. Karmaşık sayı tipi için sanal birim olarak \"j\" kullanılır. "
   ]
  },
  {
   "cell_type": "code",
   "execution_count": null,
   "metadata": {},
   "outputs": [],
   "source": [
    "sayi_1 = 3\n",
    "print(type(sayi_1))"
   ]
  },
  {
   "cell_type": "code",
   "execution_count": null,
   "metadata": {},
   "outputs": [],
   "source": [
    "sayi_2 = 3.5\n",
    "print(type(sayi_2))"
   ]
  },
  {
   "cell_type": "code",
   "execution_count": null,
   "metadata": {},
   "outputs": [],
   "source": [
    "comp_1 = 3 + 5j\n",
    "print(type(comp_1))"
   ]
  },
  {
   "cell_type": "code",
   "execution_count": null,
   "metadata": {},
   "outputs": [],
   "source": [
    "comp_1 = 3 + 5j\n",
    "comp_2 = 3j + 4\n",
    "toplam = comp_1 + comp_2\n",
    "\n",
    "print(toplam)"
   ]
  },
  {
   "attachments": {},
   "cell_type": "markdown",
   "metadata": {},
   "source": [
    "*int* sayı tipleri ikili veya onaltılı tabanda yazılabilirler. İkili taban *0b* onaltılı taban *0x* ile başlar."
   ]
  },
  {
   "cell_type": "markdown",
   "metadata": {},
   "source": []
  },
  {
   "cell_type": "code",
   "execution_count": null,
   "metadata": {},
   "outputs": [],
   "source": [
    "ikili = 0b1010\n",
    "onalti = 0x13af"
   ]
  },
  {
   "cell_type": "code",
   "execution_count": null,
   "metadata": {},
   "outputs": [],
   "source": [
    "ikili == 10"
   ]
  },
  {
   "cell_type": "code",
   "execution_count": null,
   "metadata": {},
   "outputs": [],
   "source": [
    "5 + 0b1010"
   ]
  },
  {
   "attachments": {},
   "cell_type": "markdown",
   "metadata": {},
   "source": [
    "## String\n",
    "Metin değerleridir. En temel iki değişken tipinden biridir. \n",
    "Str değişkeni \" \"  veya ' ' arasında tanımlanır.  "
   ]
  },
  {
   "cell_type": "code",
   "execution_count": null,
   "metadata": {},
   "outputs": [],
   "source": [
    "str_1 = \"Merhaba Dünya\"\n",
    "str_2 = 'Merhaba Dünya'\n",
    "\n",
    "str_1 == str_2\n"
   ]
  },
  {
   "cell_type": "code",
   "execution_count": null,
   "metadata": {},
   "outputs": [],
   "source": [
    "# str verisi iki tırnak arasına yazıldığından tırnakların açılıp kapanması gerekir.\n",
    "str_3 = \"Merhaba Dünya'"
   ]
  },
  {
   "cell_type": "code",
   "execution_count": null,
   "metadata": {},
   "outputs": [],
   "source": [
    "str_3 = \"İstanbul' da\"\n",
    "\n",
    "# Tek tırnak başladı\n",
    "# Arada istanbul kelimesi yazıldı\n",
    "# Tek tırnak kapandı \n",
    "str_4 = 'İstanbul\\' da'\n",
    "\n",
    "# bu işlemi üç tane tırnak kullanarak yazabilmek için kaçış karakterlerine ihtiyacımız var."
   ]
  },
  {
   "attachments": {},
   "cell_type": "markdown",
   "metadata": {},
   "source": [
    "### Fonksiyonlar"
   ]
  },
  {
   "attachments": {},
   "cell_type": "markdown",
   "metadata": {},
   "source": [
    "#### *upper*-*lower*-*capoitalize*\n",
    "\n",
    "Metnin tüm harflerini büyük -küçük harfe çevirir, değişkeni etkilemez."
   ]
  },
  {
   "cell_type": "code",
   "execution_count": null,
   "metadata": {},
   "outputs": [],
   "source": [
    "str_up = \"Merhaba Dünya\"\n",
    "\n",
    "print(str_up.upper())\n",
    "print(str_up)"
   ]
  },
  {
   "cell_type": "code",
   "execution_count": null,
   "metadata": {},
   "outputs": [],
   "source": [
    "str_cap = \"Merhaba Dünya\"\n",
    "str_cap.capitalize()"
   ]
  },
  {
   "cell_type": "code",
   "execution_count": null,
   "metadata": {},
   "outputs": [],
   "source": [
    "str_cap.replace(\"a\", \"e\").upper()"
   ]
  },
  {
   "attachments": {},
   "cell_type": "markdown",
   "metadata": {},
   "source": [
    "#### *strip()*"
   ]
  },
  {
   "cell_type": "code",
   "execution_count": null,
   "metadata": {},
   "outputs": [],
   "source": [
    "# Bu fonksiyon metnin başında ve sonunda bulunan boşlukları siler.\n",
    "\n",
    "str_strip = \"  Merhaba Dünya  \"\n",
    "str_strip.strip()\n"
   ]
  },
  {
   "cell_type": "code",
   "execution_count": null,
   "metadata": {},
   "outputs": [],
   "source": [
    "# Bu fonksiyonla sadece bolşuklar silinmez.\n",
    "\n",
    "str_strip_1 = \"anakara\"\n",
    "str_strip_1.strip(\"an\")\n",
    "\n",
    "# kelimenin başında ve sonundaki a harflerini sildi."
   ]
  },
  {
   "cell_type": "code",
   "execution_count": null,
   "metadata": {},
   "outputs": [],
   "source": [
    "str_strip_2 = \"..,,,merhaba...,,,***\"\n",
    "print(\"'.,' yazıldığındaki sonuç ->\", str_strip_2.strip(\",.\"))\n",
    "print(\"'*,' yazıldığındaki sonuç ->\", str_strip_2.strip(\"*,\"))\n",
    "print(\"'.*,' yazıldığındaki sonuç ->\", str_strip_2.strip(\".*,\"))"
   ]
  },
  {
   "attachments": {},
   "cell_type": "markdown",
   "metadata": {},
   "source": [
    "## List\n",
    "\n",
    "*list* **sıralı** bir öğe dizisidir. Bir listedeki tüm öğelerin aynı türde olması gerekmez.\n",
    "\n",
    "Virgülle ayrılmış öğeler parantez [] içine alınır.\n",
    "\n",
    "**Diziler değişebilen veri yapılarıdır.**"
   ]
  },
  {
   "cell_type": "code",
   "execution_count": null,
   "metadata": {},
   "outputs": [],
   "source": [
    "liste_1 = [10,20,30,40,50,50]\n",
    "print(\"Veri tipi : \", type(liste_1))\n",
    "print(\"Dizi uzunluğu: \", len(liste_1))\n",
    "\n",
    "# dizinin bir elemanını çağırmak için dizi_adı[eleman_indisi] şeklinde yazılır.\n",
    "# Dizilerde indis 0' dan başlar.\n",
    "print(liste_1[3])"
   ]
  },
  {
   "attachments": {},
   "cell_type": "markdown",
   "metadata": {},
   "source": [
    "Dizilerde birden fazla veri tipi tutulabilir."
   ]
  },
  {
   "cell_type": "code",
   "execution_count": null,
   "metadata": {},
   "outputs": [],
   "source": [
    "karmasik_liste = [1, \"iki\", 3.0, [[4, 5], \"x\"], 1+3j]\n",
    "\n",
    "for eleman in karmasik_liste:\n",
    "    print(type(eleman))"
   ]
  },
  {
   "cell_type": "code",
   "execution_count": null,
   "metadata": {},
   "outputs": [],
   "source": [
    "# Listeden \"iki\" elemanını seçtirecek kod:\n",
    "\n",
    "print(karmasik_liste[1])"
   ]
  },
  {
   "cell_type": "code",
   "execution_count": null,
   "metadata": {},
   "outputs": [],
   "source": [
    "# Listeden \"x\" elemanını seçtirecek kod:\n",
    "\n",
    "print(karmasik_liste[3])\n",
    "\n",
    "ara_eleman = karmasik_liste[3]\n",
    "\n",
    "print(ara_eleman[1])\n"
   ]
  },
  {
   "cell_type": "code",
   "execution_count": null,
   "metadata": {},
   "outputs": [],
   "source": []
  },
  {
   "cell_type": "code",
   "execution_count": null,
   "metadata": {},
   "outputs": [],
   "source": [
    "print(karmasik_liste)\n",
    "print(karmasik_liste[3][1])"
   ]
  },
  {
   "cell_type": "code",
   "execution_count": null,
   "metadata": {},
   "outputs": [],
   "source": [
    "print(karmasik_liste)\n",
    "print(karmasik_liste[3])\n",
    "print(karmasik_liste[3][0])\n",
    "print(karmasik_liste[3][0][1])"
   ]
  },
  {
   "attachments": {},
   "cell_type": "markdown",
   "metadata": {},
   "source": [
    "### Fonksiyonlar"
   ]
  },
  {
   "cell_type": "code",
   "execution_count": null,
   "metadata": {},
   "outputs": [],
   "source": [
    "d1 = [1, 2 , 3]\n",
    "d2 = [1, 2 , 3]\n",
    "\n",
    "\n",
    "print(id(d1))\n",
    "print(id(d2))\n",
    "\n",
    "d1 == d2"
   ]
  },
  {
   "cell_type": "code",
   "execution_count": null,
   "metadata": {},
   "outputs": [],
   "source": [
    "dizi_fonk = [11, 22, 33, \"a\", 55, 66 , \"a\",88 ,99]\n",
    "print(\"Veri tipi : \", type(dizi_fonk))\n",
    "print(\"Dizi uzunluğu: \", len(dizi_fonk))"
   ]
  },
  {
   "attachments": {},
   "cell_type": "markdown",
   "metadata": {},
   "source": [
    "append()\n",
    "Diziye eleman eklemek için kullanılır"
   ]
  },
  {
   "cell_type": "code",
   "execution_count": null,
   "metadata": {},
   "outputs": [],
   "source": [
    "dizi_fonk.append(55)\n",
    "print(\"Dizi uzunluğu: \", len(dizi_fonk))\n",
    "print(\"Dizi id: \", id(dizi_fonk))"
   ]
  },
  {
   "attachments": {},
   "cell_type": "markdown",
   "metadata": {},
   "source": [
    "clear()\n",
    "Listedeki tüm elemanları temizler"
   ]
  },
  {
   "cell_type": "code",
   "execution_count": null,
   "metadata": {},
   "outputs": [],
   "source": [
    "dizi_fonk.clear()"
   ]
  },
  {
   "attachments": {},
   "cell_type": "markdown",
   "metadata": {},
   "source": [
    "*copy()*\n",
    "Listedeki elemanları bir değişkene atayabilmek için kopyalar."
   ]
  },
  {
   "cell_type": "code",
   "execution_count": null,
   "metadata": {},
   "outputs": [],
   "source": [
    "d1 = [1, 2 , 3]\n",
    "d2 = d1\n",
    "\n",
    "d1.append(4)\n",
    "\n",
    "print(id(d1))\n",
    "print(id(d2))\n",
    "\n",
    "d1 == d2"
   ]
  },
  {
   "cell_type": "markdown",
   "metadata": {},
   "source": [
    "d1 ve d2 başlangıçta aynı şekilde tanımlansın fakat üzerlerinde farklı işlemler yapılabilesin."
   ]
  },
  {
   "cell_type": "code",
   "execution_count": null,
   "metadata": {},
   "outputs": [],
   "source": [
    "d1 = [1, 2 , 3]\n",
    "d2 = d1.copy()\n",
    "\n",
    "print(id(d1))\n",
    "print(id(d2))"
   ]
  },
  {
   "attachments": {},
   "cell_type": "markdown",
   "metadata": {},
   "source": [
    "*extend()*\n",
    "Bir listeyi başka bir listenin sonuna ekler."
   ]
  },
  {
   "cell_type": "code",
   "execution_count": null,
   "metadata": {},
   "outputs": [],
   "source": [
    "d1 = [1]\n",
    "d2 = [\"a\"]\n"
   ]
  },
  {
   "cell_type": "code",
   "execution_count": null,
   "metadata": {},
   "outputs": [],
   "source": [
    "d2.extend(d1)\n",
    "d1.extend(d2)"
   ]
  },
  {
   "attachments": {},
   "cell_type": "markdown",
   "metadata": {},
   "source": [
    "\n",
    "*index()*\t\n",
    "\n",
    "Verilen elemanın dizide kaçıncı sırada oldğunu verir. (Dizide birden fazla aynı eleman varsa ilkinin indisini gösterir.)\n"
   ]
  },
  {
   "cell_type": "code",
   "execution_count": null,
   "metadata": {},
   "outputs": [],
   "source": [
    "# Dizimizde 33 elemanı kaçıncı sıradadır?\n",
    "dizi_fonk.index(33)"
   ]
  },
  {
   "cell_type": "code",
   "execution_count": null,
   "metadata": {},
   "outputs": [],
   "source": [
    "# Dizimizde \"a\" elemanı ilk kez kaçıncı sırada gözükür?\n",
    "dizi_fonk.index(\"a\")"
   ]
  },
  {
   "cell_type": "code",
   "execution_count": null,
   "metadata": {},
   "outputs": [],
   "source": [
    "print(dizi_fonk)\n",
    "# \"a\" değeri 8-12 arasında ilk kez kaçıncı elemanda gözükür?\n",
    "dizi_fonk.index(\"a\",4,8)"
   ]
  },
  {
   "attachments": {},
   "cell_type": "markdown",
   "metadata": {},
   "source": [
    "*insert() - pop()*\t\n",
    "\n",
    "Belirlenen pozisyona eleman ekleme *(insert)* çıkartma *(pop)* işlerini yaparlar.\n"
   ]
  },
  {
   "cell_type": "code",
   "execution_count": null,
   "metadata": {},
   "outputs": [],
   "source": [
    "#Dizimizden 3. sıradaki elemanı çıkaralım.\n",
    "\n",
    "dizi_fonk.pop(3)\n"
   ]
  },
  {
   "cell_type": "code",
   "execution_count": null,
   "metadata": {},
   "outputs": [],
   "source": [
    "dizi = [*range(15)]\n",
    "# Dizide 3. ve 4. elemanların arasına \"abc\" elemanı nasıl eklenir?\n",
    "\n",
    "dizi.insert(4,\"abc\")"
   ]
  },
  {
   "attachments": {},
   "cell_type": "markdown",
   "metadata": {},
   "source": [
    "*remove()*\t\n",
    "\n",
    "Verilen elemanı diziden kaldırır."
   ]
  },
  {
   "cell_type": "code",
   "execution_count": null,
   "metadata": {},
   "outputs": [],
   "source": [
    "# Diziden ilk gözüken \"b\" elemanını çaldıralım\n",
    "\n",
    "dizi_fonk.remove(\"abc\")"
   ]
  },
  {
   "attachments": {},
   "cell_type": "markdown",
   "metadata": {},
   "source": [
    "*reverse()*\n",
    "\n",
    "Listeyi tersine çevirir."
   ]
  },
  {
   "cell_type": "code",
   "execution_count": null,
   "metadata": {},
   "outputs": [],
   "source": [
    "dizi.reverse()"
   ]
  },
  {
   "attachments": {},
   "cell_type": "markdown",
   "metadata": {},
   "source": [
    "*sort()*\t\n",
    "\n",
    "Listedeki değerleri sıralar"
   ]
  },
  {
   "cell_type": "code",
   "execution_count": null,
   "metadata": {},
   "outputs": [],
   "source": [
    "dizi_sira = [1,4,3,16,3,1,6,7,32,1,4]\n",
    "\n"
   ]
  },
  {
   "cell_type": "code",
   "execution_count": null,
   "metadata": {},
   "outputs": [],
   "source": [
    "dizi_sira.sort(reverse= True)"
   ]
  },
  {
   "cell_type": "code",
   "execution_count": null,
   "metadata": {},
   "outputs": [],
   "source": [
    "dizi = [\"1\", \"5\",\"aa\",\"Ab\", \"!\", \"a\", \"[]\" ,\"z\", \"Z\", \"#\" ,\"ab\", \"@\", ]\n",
    "dizi.sort()\n",
    "print(dizi)"
   ]
  },
  {
   "cell_type": "code",
   "execution_count": null,
   "metadata": {},
   "outputs": [],
   "source": [
    "metin = \"Bu bir str ifadesidir.\"\n",
    "\n",
    "print(metin[0])\n",
    "\n"
   ]
  },
  {
   "attachments": {},
   "cell_type": "markdown",
   "metadata": {},
   "source": [
    "#### zip()"
   ]
  },
  {
   "cell_type": "code",
   "execution_count": null,
   "metadata": {},
   "outputs": [],
   "source": [
    "list_tr = [\"Sözlük\", \"Veri\", \"Yazmak\"]\n",
    "list_en = [\"Dictionary\", \"Data\", \"Write\", \"Come\"]\n",
    "list_sayi = [0,1,2]\n",
    "\n",
    "list_zip = zip(list_en,list_tr, list_sayi)\n",
    "\n",
    "print(tuple(list_zip))\n"
   ]
  },
  {
   "attachments": {},
   "cell_type": "markdown",
   "metadata": {},
   "source": [
    "## Tuple \n",
    "\n",
    "Değiştirilemez listelerdir. Değiştirilememe özellikleri sayesinde *list*  öğelerinden daha hızlı çalışır. Sözlük veri tipinde anahtar olarak kullanılır. Üzerlerinde sadece okuma işlemi yapılabilir."
   ]
  },
  {
   "cell_type": "code",
   "execution_count": null,
   "metadata": {},
   "outputs": [],
   "source": [
    "liste1 = [1,2,3]\n",
    "demet1 = (1,2,3)\n",
    "\n",
    "demet1 == liste1"
   ]
  },
  {
   "cell_type": "code",
   "execution_count": null,
   "metadata": {},
   "outputs": [],
   "source": [
    "demet = (1,2,3,3,4,22,1,2,3,4,4,5,6,7,1,7)"
   ]
  },
  {
   "cell_type": "code",
   "execution_count": null,
   "metadata": {},
   "outputs": [],
   "source": [
    "demet.count(1)\n",
    "demet[5]"
   ]
  },
  {
   "cell_type": "code",
   "execution_count": null,
   "metadata": {},
   "outputs": [],
   "source": [
    "# Demet içerisinde kaç tane 1 elemanı vardır.\n",
    "demet.count(1)"
   ]
  },
  {
   "cell_type": "code",
   "execution_count": null,
   "metadata": {},
   "outputs": [],
   "source": [
    "\n",
    "# Demet içerisinde 7 elemanı ilk kez kaçıncı sırada bulunur.\n",
    "demet.index(7)\n"
   ]
  },
  {
   "cell_type": "code",
   "execution_count": null,
   "metadata": {},
   "outputs": [],
   "source": [
    "\n",
    "tuple_to_list = list(demet)\n",
    "list_to_tuplet = tuple(dizi_fonk)"
   ]
  },
  {
   "attachments": {},
   "cell_type": "markdown",
   "metadata": {},
   "source": [
    "## Set (Küme)\n",
    "İndekslenmemiş, elemanlar tekrar etmeyen dizilerdir."
   ]
  },
  {
   "cell_type": "code",
   "execution_count": null,
   "metadata": {},
   "outputs": [],
   "source": [
    "list1 = [3,2,4,1]\n",
    "list2 = [1,2,3,4]\n",
    "\n",
    "list1 == list2"
   ]
  },
  {
   "attachments": {},
   "cell_type": "markdown",
   "metadata": {},
   "source": [
    "### Listeler ile kıyaslama"
   ]
  },
  {
   "cell_type": "code",
   "execution_count": null,
   "metadata": {},
   "outputs": [],
   "source": [
    "kume1 = {3,2,4,1}\n",
    "kume2 = {1,2,3,4}\n",
    "\n",
    "kume1==kume2"
   ]
  },
  {
   "cell_type": "code",
   "execution_count": null,
   "metadata": {},
   "outputs": [],
   "source": [
    "list1 = [3,2,4,1]\n",
    "list2 = [1,2,3,4]\n",
    "\n",
    "list1==list2"
   ]
  },
  {
   "attachments": {},
   "cell_type": "markdown",
   "metadata": {},
   "source": [
    "### Eleman ekleme"
   ]
  },
  {
   "cell_type": "code",
   "execution_count": null,
   "metadata": {},
   "outputs": [],
   "source": [
    "# kume1' e 5 elemanını ekleyelim.\n",
    "kume1.add(5)\n",
    "print(\"len(kume1):\", len(kume1))\n",
    "\n",
    "#list1' e 5 elemanını ekleyelim.\n",
    "list1.append(5)\n",
    "print(\"len(list1):\", len(list1))"
   ]
  },
  {
   "attachments": {},
   "cell_type": "markdown",
   "metadata": {},
   "source": [
    "### Frozen Set\n",
    "\n",
    "Kümeler değiştirilebilen elemanlardır. Değiştirilemez kümeler tasarlamak için *Frozenset* kullanmalıyız."
   ]
  },
  {
   "cell_type": "code",
   "execution_count": null,
   "metadata": {},
   "outputs": [],
   "source": [
    "kume_degisebilir = {11,22,33}\n",
    "kume_degismez = frozenset({11,22,33})\n",
    "\n",
    "kume_degisebilir == kume_degismez"
   ]
  },
  {
   "cell_type": "code",
   "execution_count": null,
   "metadata": {},
   "outputs": [],
   "source": [
    "kume_degisebilir.add(55)\n",
    "\n",
    "# Frozen setlerde add veya benzeri kümeyi değiştirebilecek fonksiyonlar yoktur.\n",
    "kume_degismez.add(15)\n"
   ]
  },
  {
   "cell_type": "code",
   "execution_count": null,
   "metadata": {},
   "outputs": [],
   "source": [
    "# a ve b değerleri değişken olarak atanıyor.\n",
    "# Toplamları sadece sonuç olarak veriliyor.\n",
    "\n",
    "a = 3\n",
    "b = 4\n",
    "\n",
    "a + b\n",
    "\n",
    "# Bu işlem normal kümelerde yapılan işlem gibidir. "
   ]
  },
  {
   "cell_type": "code",
   "execution_count": null,
   "metadata": {},
   "outputs": [],
   "source": [
    "# x ve x değerleri değişken olarak atanıyor.\n",
    "# Toplamları z değişkenine atanıyor..\n",
    "\n",
    "x = 3\n",
    "y = 4\n",
    "\n",
    "z = x + y\n",
    "print(z)\n",
    "\n",
    "# Bu işlem frozenset'lerde yapılan gibidir. İşlem sonucunda atama yapılır."
   ]
  },
  {
   "attachments": {},
   "cell_type": "markdown",
   "metadata": {},
   "source": [
    "### Fonksiyonlar\n",
    "Kümeler üzerinde matematikten bildiğimiz temel küme işlemleri yapılabilmektedir. Bu işlemlerde genellikle kümelerden biri seçilmekte ve bu küme için tanımlı bir fonksiyon aracılığıyla bu işlem yapılır. Bu işlem sonunda iki küme de aynı kalır yani okunabilir işlemlerdir. Kümelerden birinin değişmesini istiyorsak o fonksiyoun *_update()* şeklinde olan komutu çağrılır."
   ]
  },
  {
   "attachments": {},
   "cell_type": "markdown",
   "metadata": {},
   "source": [
    "#### Kesişim\n"
   ]
  },
  {
   "attachments": {},
   "cell_type": "markdown",
   "metadata": {},
   "source": [
    "Bu işlem için iki yöntem vardır. İlki kümelerde hiçbir değişiklik yapmadan sadece kesişimi veren yöntemdir."
   ]
  },
  {
   "cell_type": "code",
   "execution_count": null,
   "metadata": {},
   "outputs": [],
   "source": [
    "kume_kesisim_1 = {11,22,33,44}\n",
    "kume_kesisim_2 = frozenset({33,44,55,66})"
   ]
  },
  {
   "cell_type": "code",
   "execution_count": null,
   "metadata": {},
   "outputs": [],
   "source": [
    "kume_kesisim_1.intersection(kume_kesisim_2)"
   ]
  },
  {
   "cell_type": "markdown",
   "metadata": {},
   "source": []
  },
  {
   "cell_type": "code",
   "execution_count": null,
   "metadata": {},
   "outputs": [],
   "source": [
    "# Kesişim işlemi sıralı bir işlem değildir. \n",
    "# Dolayısıyla A.intersection(B) ile B.intersection(A) ifadeleri aynı sonucu verir.\n",
    "print( kume_kesisim_1.intersection(kume_kesisim_2) )\n",
    "print( kume_kesisim_2.intersection(kume_kesisim_1) )\n"
   ]
  },
  {
   "cell_type": "code",
   "execution_count": null,
   "metadata": {},
   "outputs": [],
   "source": [
    "\n",
    "a = kume_kesisim_1.intersection(kume_kesisim_2) \n",
    "b = kume_kesisim_2.intersection(kume_kesisim_1)\n",
    "a==b"
   ]
  },
  {
   "cell_type": "code",
   "execution_count": null,
   "metadata": {},
   "outputs": [],
   "source": [
    "kesisim_2_1 =  kume_kesisim_2 & kume_kesisim_1\n",
    "print(\"kesisim_2_1: \", kesisim_2_1)\n",
    "\n",
    "kesisim_1_2 =  kume_kesisim_1 & kume_kesisim_2\n",
    "print(\"kesisim_1_2\", kesisim_1_2)"
   ]
  },
  {
   "attachments": {},
   "cell_type": "markdown",
   "metadata": {},
   "source": [
    "İkinci yol ise kümelerden birisini değiştiren *_update* ekli halidir."
   ]
  },
  {
   "cell_type": "code",
   "execution_count": null,
   "metadata": {},
   "outputs": [],
   "source": [
    "# kume1 alınır.\n",
    "# kume2 ile ortak elemanlar bulunur.\n",
    "# Bulunan sonuç fonksiyonun çağrıldığı küme üzerine yazılır.\n",
    "# Aşağıdaki işleme denktir.\n",
    "# kume_kesisim_1 = kume_kesisim_1.intersecton(kume_kesisim_2)\n",
    "\n",
    "kume_kesisim_1.intersection_update(kume_kesisim_2)\n",
    "\n",
    "\n"
   ]
  },
  {
   "cell_type": "code",
   "execution_count": null,
   "metadata": {},
   "outputs": [],
   "source": [
    "\n",
    "kume_kesisim_2.intersection_update(kume_kesisim_1)\n"
   ]
  },
  {
   "cell_type": "markdown",
   "metadata": {},
   "source": []
  },
  {
   "cell_type": "code",
   "execution_count": null,
   "metadata": {},
   "outputs": [],
   "source": [
    "# Bu işlemlerin _update() şeklinde olmayanları frozenset üzerinde de çalışır.\n",
    "\n",
    "kume_kesisim_degismez_1 = frozenset({1,2,3,4})\n",
    "kume_kesisim_degismez_2 = frozenset({3,4,5,6})\n",
    "\n",
    "kume_kesisim_degismez = kume_kesisim_degismez_1 & kume_kesisim_degismez_2"
   ]
  },
  {
   "attachments": {},
   "cell_type": "markdown",
   "metadata": {},
   "source": [
    "#### Birleşim"
   ]
  },
  {
   "cell_type": "code",
   "execution_count": null,
   "metadata": {},
   "outputs": [],
   "source": [
    "kume_kesisim_1 = {11,22,33,44}\n",
    "kume_kesisim_2 = {33,44,55,66}"
   ]
  },
  {
   "cell_type": "code",
   "execution_count": null,
   "metadata": {},
   "outputs": [],
   "source": [
    "# Sadece iki kümenin birleşimini sonuç olarak verir.\n",
    "kume_kesisim_1.union(kume_kesisim_2) \n",
    "\n"
   ]
  },
  {
   "cell_type": "code",
   "execution_count": null,
   "metadata": {},
   "outputs": [],
   "source": [
    "# İlk kümeye diğer kümenin elemanlarını ekler\n",
    "# Ardından ilk kümeye atama yapar.\n",
    "# update() komutu union_update() gibi çalışır.\n",
    "kume_kesisim_1.update(kume_kesisim_2) \n"
   ]
  },
  {
   "cell_type": "code",
   "execution_count": null,
   "metadata": {},
   "outputs": [],
   "source": [
    "%reset"
   ]
  },
  {
   "attachments": {},
   "cell_type": "markdown",
   "metadata": {},
   "source": [
    "#### Fark"
   ]
  },
  {
   "cell_type": "code",
   "execution_count": null,
   "metadata": {},
   "outputs": [],
   "source": [
    "kume_fark_1 = {11,22,33,44}\n",
    "kume_fark_2 = {33,44,55,66}"
   ]
  },
  {
   "cell_type": "code",
   "execution_count": null,
   "metadata": {},
   "outputs": [],
   "source": [
    "# Sadece iki kümenin birleşimini sonuç olarak verir.\n",
    "kume_fark_1.difference(kume_fark_2)"
   ]
  },
  {
   "cell_type": "code",
   "execution_count": null,
   "metadata": {},
   "outputs": [],
   "source": [
    "kume_fark_1 - kume_fark_2"
   ]
  },
  {
   "cell_type": "code",
   "execution_count": null,
   "metadata": {},
   "outputs": [],
   "source": [
    "a = kume_fark_1 - kume_fark_2\n",
    "b = kume_fark_2 - kume_fark_1\n",
    "\n",
    "a == b"
   ]
  },
  {
   "cell_type": "code",
   "execution_count": null,
   "metadata": {},
   "outputs": [],
   "source": [
    "kume_fark_1.difference_update(kume_fark_2)"
   ]
  },
  {
   "cell_type": "code",
   "execution_count": null,
   "metadata": {},
   "outputs": [],
   "source": [
    "# Simetrik fark komutu iki kümenin birleşiminden kesişimi çıkarır\n",
    "kume_fark_1.symmetric_difference(kume_fark_2)"
   ]
  },
  {
   "cell_type": "code",
   "execution_count": null,
   "metadata": {},
   "outputs": [],
   "source": [
    "kume_fark_1.symmetric_difference_update(kume_fark_2)"
   ]
  },
  {
   "attachments": {},
   "cell_type": "markdown",
   "metadata": {},
   "source": [
    "#### Alt küme\n",
    "Bir kümenin başka bir kümenin alt kümesi olup olmadığını kontrol etmemizi sağlar."
   ]
  },
  {
   "cell_type": "code",
   "execution_count": null,
   "metadata": {},
   "outputs": [],
   "source": [
    "altkume_a = {1,2,3,4}\n",
    "altkume_b = {3,4,5,6}\n",
    "altkume_c = {3}\n",
    "altkume_d = {4,7}"
   ]
  },
  {
   "cell_type": "code",
   "execution_count": null,
   "metadata": {},
   "outputs": [],
   "source": [
    "print(\"C kümesi A' nın alt kümesi midir? ->\", altkume_c.issubset(altkume_a))\n",
    "print(\"C kümesi B' nın alt kümesi midir? ->\", altkume_c.issubset(altkume_b))\n",
    "print(\"C kümesi C' nın alt kümesi midir? ->\", altkume_c.issubset(altkume_c))\n",
    "print(\"C kümesi D' nın alt kümesi midir? ->\", altkume_c.issubset(altkume_d))\n",
    "print(\"D kümesi A' nın alt kümesi midir? ->\", altkume_d.issubset(altkume_a))"
   ]
  },
  {
   "attachments": {},
   "cell_type": "markdown",
   "metadata": {},
   "source": [
    "## Dictionary - Sözlük\n",
    "\n",
    "Dictionary(*dict*) tipi değişkenler aslında büyük ölçüde listelere benzer ve ortak çalışan birçok komutları vardır. Aralarındaki fark *list* tipi değişkenler sıralı iken *dict* tipi sıralar yerine anahtarlar vardır. Gerçekten de bir sözlük sistemiyle çalışırlar. Listelerde bir sıra değerinin karşısına gelen değerler varken burada bir anahtar değer (anlamına bakılan sözcük) ve bu değer karşısına gelen değer (sözcüğün açıklaması) bulunmaktadır.\n",
    "\n",
    "Python' un eski sürümlerinde *Dict* tipi değişkenler sıralı kabul edilirken güncel sürümlerde bu şekilde değildir."
   ]
  },
  {
   "attachments": {},
   "cell_type": "markdown",
   "metadata": {},
   "source": [
    "### Listeler ile karşılaştırma"
   ]
  },
  {
   "cell_type": "code",
   "execution_count": null,
   "metadata": {},
   "outputs": [],
   "source": [
    "list_dict_orn = [11,22,33,44]\n",
    "print(list_dict_orn)"
   ]
  },
  {
   "cell_type": "code",
   "execution_count": null,
   "metadata": {},
   "outputs": [],
   "source": [
    "dict_ilk = {\"birinci\" : 11, \"ikinci\" : 22, \"üçüncü\" : 33, 4: 44}\n",
    "print('dict_ilk[\"birinci\"]:', dict_ilk[\"birinci\"])\n",
    "print('dict_ilk[4]:', dict_ilk[4])"
   ]
  },
  {
   "attachments": {},
   "cell_type": "markdown",
   "metadata": {},
   "source": [
    "### Yeni veri girişi \n",
    "\n",
    "*Dict* tipi değişkenlerde anahtar değer ile yeni veri girişi yapılabilir."
   ]
  },
  {
   "cell_type": "code",
   "execution_count": null,
   "metadata": {},
   "outputs": [],
   "source": [
    "list_dict_orn.append(55)"
   ]
  },
  {
   "cell_type": "code",
   "execution_count": null,
   "metadata": {},
   "outputs": [],
   "source": [
    "dict_ilk[\"beşinci\"] = 55\n",
    "print(dict_ilk)"
   ]
  },
  {
   "cell_type": "code",
   "execution_count": 1,
   "metadata": {},
   "outputs": [
    {
     "data": {
      "text/plain": [
       "'Data'"
      ]
     },
     "execution_count": 1,
     "metadata": {},
     "output_type": "execute_result"
    }
   ],
   "source": [
    "tur_eng = {\"Sözlük\" : \"Dictionary\", \"Veri\" : \"Data\", \"Yazmak\" : \"Write\"}\n",
    "tur_eng[\"Veri\"]"
   ]
  },
  {
   "attachments": {},
   "cell_type": "markdown",
   "metadata": {},
   "source": [
    "*zip()* fonksiyonuyla oluşturma\n",
    "\n",
    "Sözlükleri listeler vasıtasıyla oluşturmamızı sağlar."
   ]
  },
  {
   "cell_type": "code",
   "execution_count": 2,
   "metadata": {},
   "outputs": [
    {
     "data": {
      "text/plain": [
       "True"
      ]
     },
     "execution_count": 2,
     "metadata": {},
     "output_type": "execute_result"
    }
   ],
   "source": [
    "list_tr = [\"Sözlük\", \"Veri\", \"Yazmak\"]\n",
    "list_en = [\"Dictionary\", \"Data\", \"Write\"]\n",
    "\n",
    "list_zip = zip(list_tr,list_en)\n",
    "\n",
    "list_to_dict = dict(list_zip)\n",
    "\n",
    "list_to_dict == tur_eng"
   ]
  },
  {
   "cell_type": "markdown",
   "metadata": {},
   "source": []
  }
 ],
 "metadata": {
  "kernelspec": {
   "display_name": "Python 3",
   "language": "python",
   "name": "python3"
  },
  "language_info": {
   "codemirror_mode": {
    "name": "ipython",
    "version": 3
   },
   "file_extension": ".py",
   "mimetype": "text/x-python",
   "name": "python",
   "nbconvert_exporter": "python",
   "pygments_lexer": "ipython3",
   "version": "3.11.2"
  },
  "orig_nbformat": 4,
  "vscode": {
   "interpreter": {
    "hash": "443b5bea793296d0c9ce6a8f6147f236a33568593a8ab3bf0e91e4133cea02b7"
   }
  }
 },
 "nbformat": 4,
 "nbformat_minor": 2
}
