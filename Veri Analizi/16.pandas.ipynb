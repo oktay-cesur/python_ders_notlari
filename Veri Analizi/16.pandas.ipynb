{
 "cells": [
  {
   "cell_type": "markdown",
   "metadata": {},
   "source": [
    "# Pandas' a Giriş\n",
    "\n",
    "Pandas öğrenmeye niyetlendiyseniz büyük ihtimal daha önce bir çok farklı veri (sayı, metin, liste, tablo,  resim) ve dosya tipi (xlsx, txt, csv, db, sav ... gibi uzantılar) tipi ile karşılaşmışsınızdır. Karşılaşmadıysanız da veri analizi sürecinde bunlarla sık sık karşılaşacağınızı ve bunların neler olduğunu temel seviyede bilmeniz gerektiğiniz bilmelisiniz. Dolayısıyla buradan sonra ilk bahsettiğim birisine anlatıyormuşum gibi devam ediyorum; Bu şekilde farklı tiplerle çalıştıysanız tablo ve dizi yapısının çok yoğun kullanıldığını da görmüşsünüzdür. İster Excel gibi bir kullanımı basit elektronik tablo programı, ister MySQL gibi bir ilişkisel veri tabanı ister SPSS gibi istatistik analiz programı ile haşır neşir olun satır-sütun yapısının kaçınılması zor bir yapı olduğunu görmüşsünüzdür. (NoSQL-GraphQl gibi yapılar ile kaçılabilir fakat şimdilik konumuz değil)\n",
    "\n",
    "Satır sütun yapısı hepsinde benzer şekildedir fakat içeriğine girildiğinde her birinin kendine has kullanım şekilleri vardır. Farklı dosya tipleri barındıran bir projede çalışıyorsanız devamlı programlar ve metodlar arası geçiş yapmak oldukça zorlayıcı olacaktır. Bu noktada tüm tablo işleme programlarına hükmedecek tek bir programa ihtiyacınız doğduğunu, en azından hepsini tek bir potada eritebileceğiniz bir yapıya ihtiyacınız olduğu gözünüze çarpmıştır. \n",
    "\n",
    "Şimdi içine dalış yapacağımız Python kütüphanesi tam da bu noktada ortaya çıkmıştır. Bir grup geliştirici veri dağlarının eteklerinde karanlıklar içinde (programcılar gece çalışmayı severler) Pandas kütüphanesini kodladılar. Bu kütüphane sayesinde tüm tablo tipi verileri Python dünyasının içine çekip tüm tablo verileri için aynı ve oldukça basit fonksiyonlar ile işleyebilmemizi sağlamaktadır.\n",
    "\n",
    "Karanlık diyarlardan uzaklaşıp biraz daha Pandas' ın yeteneklerini biraz daha açmak gerekirse veri setlerini sanki elle tutulur gibi işlemenizi sağlar: Veriler üzerinde hızla kesme, biçme ve dönüştürme işlemleri yapabilir, eksik verileri temizleyebilir veya farklı veri kaynaklarından gelen bilgileri kolayca birleştirebilirsiniz. Bunu mümkün kılan ise Pandas'ın temel veri yapıları olan Series ve DataFrame'dir. Series, tek boyutlu ve etiketli bir veri dizisidir; DataFrame ise bu serilerin bir araya gelmesiyle oluşan iki boyutlu bir veri tablosudur, tıpkı diğer programlarda olduğu gibi.\n",
    "\n",
    "Bir Pandas DataFrame'i, her bir sütunu farklı veri tipleri içerebilen ve satırlar ile sütunlar şeklinde düzenlenmiş bir veri seti olarak düşünebilirsiniz. İşte bu yapı, veri analizlerinizde size Excel tablolarını andıran bir esneklik sunarken, programatik gücüyle de çok daha karmaşık veri işleme görevlerini üstlenebilir. Örneğin, bir satış raporu datasını analiz ederken, belirli kriterlere göre satışları gruplayabilir, toplam satış miktarları gibi hesaplamalar yapabilir veya zamana göre değişimleri gözlemleyebilirsiniz.\n",
    "\n",
    "Pandas, veri setleriniz üzerinde tam kontrol sağlayarak, veri analizi sürecinizi baştan sona kadar destekler. Veri yüklemek, işlemek, manipüle etmek ve sonuçları görselleştirmek için ihtiyacınız olan her şeyi bir arada sunar. Bu kapsamlı özellikler sayesinde Pandas hem eğitim hem de profesyonel çalışmalarda önemli bir yer tutmaktadır. Eğer verilerle iç içe bir çalışma yapıyorsanız, Pandas sizi Verilerin Efendisi yapacaktır."
   ]
  },
  {
   "cell_type": "markdown",
   "metadata": {},
   "source": [
    "## Series"
   ]
  },
  {
   "cell_type": "markdown",
   "metadata": {},
   "source": [
    "Pandas serileri, temel veri yapılarından biridir. Bir Pandas serisi, tek boyutlu etiketli bir dizidir. Bu dizi her türlü veri türünü (tam sayılar, stringler, floating point sayılar, Python objeleri vb.) içerebilir ve her bir veri noktası bir indeks ile ilişkilendirilir. Bu indeks varsayılan olarak 0'dan başlayan sayısal indekslerdir, ancak zaman damgaları gibi özel indeksler veya stringler (dict yapısı) gibi başka türden etiketler de kullanılabilir."
   ]
  },
  {
   "cell_type": "markdown",
   "metadata": {},
   "source": [
    "Standart liste üzerinden bir Pandas Series objesi oluşturulabilir."
   ]
  },
  {
   "cell_type": "code",
   "execution_count": null,
   "metadata": {},
   "outputs": [],
   "source": [
    "import pandas as pd  \n",
    "\n",
    "std_list = [1, 2, 3, 4]\n",
    "\n",
    "pd_series = pd.Series(std_list)\n",
    "\n",
    "print(pd_series)\n"
   ]
  },
  {
   "cell_type": "code",
   "execution_count": null,
   "metadata": {},
   "outputs": [],
   "source": [
    "print(type(std_list))\n",
    "print(type(pd_series))\n",
    "\n",
    "pd_series[0]"
   ]
  },
  {
   "cell_type": "markdown",
   "metadata": {},
   "source": [
    "Pandas serileri sözlük yapısı şeklinde de kullanılabilir."
   ]
  },
  {
   "cell_type": "code",
   "execution_count": null,
   "metadata": {},
   "outputs": [],
   "source": [
    "import pandas as pd\n",
    "\n",
    "std_list = [1, 2, 3, 4]\n",
    "keys = [\"a\", \"b\", \"c\", \"d\"]\n",
    "\n",
    "pd_series = pd.Series(std_list, index=keys)\n",
    "\n",
    "print(pd_series)"
   ]
  },
  {
   "cell_type": "code",
   "execution_count": null,
   "metadata": {},
   "outputs": [],
   "source": [
    "import pandas as pd \n",
    "\n",
    "std_dict = {\"a\" : 1, \"b\" : 2, \"c\" : 3, \"d\": 4}\n",
    "pd_series = pd.Series(std_dict)\n",
    "\n",
    "print(pd_series)\n",
    "print()\n",
    "print(pd_series[\"a\"])"
   ]
  },
  {
   "cell_type": "code",
   "execution_count": null,
   "metadata": {},
   "outputs": [],
   "source": [
    "import pandas as pd\n",
    "\n",
    "\n",
    "std_list = [1, 2, 3, \"a\"]\n",
    "\n",
    "pd_series = pd.Series(std_list)\n",
    "print(pd_series)"
   ]
  },
  {
   "cell_type": "code",
   "execution_count": null,
   "metadata": {},
   "outputs": [],
   "source": [
    "import pandas as pd\n",
    "\n",
    "std_dict = {\"a\" : 1, \"b\" : 2, \"c\" : 3, \"d\": 4}\n",
    "\n",
    "pd_series = pd.Series(std_dict, index= [\"a\", \"c\"])\n",
    "\n",
    "print(pd_series)\n",
    "print(pd_series[\"a\"])"
   ]
  },
  {
   "cell_type": "markdown",
   "metadata": {},
   "source": [
    "### Fonksiyonlar"
   ]
  },
  {
   "cell_type": "markdown",
   "metadata": {},
   "source": [
    "Pandas serilerinde kullanılan bazı temel fonksiyonlar aşağıda verilmiştir. (Bu fonksiyonların çoğu ufak değişiklikler ile DataFrame yapılarında da kullanılabilir.)\n",
    "\n",
    "**Temel istatistikler**:\n",
    "   - `mean()`: Ortalama değeri hesaplar.\n",
    "   - `median()`: Medyan değeri hesaplar.\n",
    "   - `sum()`: Serideki değerlerin toplamını hesaplar.\n",
    "   - `max()`: Serideki maksimum değeri döner.\n",
    "   - `min()`: Serideki minimum değeri döner.\n",
    "   - `std()`: Standart sapmayı hesaplar.\n",
    "   - `var()`: Varyansı hesaplar.\n"
   ]
  },
  {
   "cell_type": "code",
   "execution_count": null,
   "metadata": {},
   "outputs": [],
   "source": [
    "import pandas as pd\n",
    "\n",
    "veri = pd.Series([10, 20, 30, 40, 50, 10, 20, 30, 40, 50])\n",
    "\n",
    "\n",
    "ortalama = veri.mean()\n",
    "medyan = veri.median()\n",
    "toplam = veri.sum()\n",
    "maksimum = veri.max()\n",
    "minimum = veri.min()\n",
    "standart_sapma = veri.std()\n",
    "varyans = veri.var()\n",
    "\n",
    "\n",
    "print(\"ortalama         :\", ortalama)\n",
    "print(\"medyan           :\", medyan)\n",
    "print(\"toplam           :\", toplam)\n",
    "print(\"maksimum         :\", maksimum)\n",
    "print(\"minimum          :\", minimum)\n",
    "print(\"standart sapma   :\", standart_sapma)\n",
    "print(\"varyans          :\", varyans)\n",
    "\n"
   ]
  },
  {
   "cell_type": "markdown",
   "metadata": {},
   "source": [
    "**Veri dönüştürme**:\n",
    "   - `abs()`: Serideki tüm değerlerin mutlak değerini hesaplar.\n",
    "   - `round()`: Serideki sayısal değerleri belirli bir basamağa kadar yuvarlar.\n",
    "   - `astype()`: Serinin veri tipini değiştirir."
   ]
  },
  {
   "cell_type": "code",
   "execution_count": null,
   "metadata": {},
   "outputs": [],
   "source": [
    "import pandas as pd\n",
    "veri = pd.Series([-1.987, 2.456, -3.125, 4.567, -5.678])\n",
    "\n",
    "# Mutlak değer hesaplama\n",
    "mutlak_degerler = veri.abs()\n",
    "\n",
    "# Yuvarlama işlemi (2 basamak)\n",
    "yuvarlanmis_degerler = veri.round(2)\n",
    "\n",
    "# Veri tipini değiştirme (float'dan integer'a)\n",
    "tamsayi_degerler = veri.astype(int)\n",
    "\n",
    "# Sonuçları yazdır\n",
    "print(\"--------------------------------------------\")\n",
    "print(\"Mutlak Değerler\")\n",
    "print(mutlak_degerler)\n",
    "print(\"--------------------------------------------\")\n",
    "print(\"Yuvarlanmış Değerler\")\n",
    "print(yuvarlanmis_degerler)\n",
    "print(\"--------------------------------------------\")\n",
    "print(\"Tam Sayı Değerler\")\n",
    "print(tamsayi_degerler)\n",
    "print(\"--------------------------------------------\")\n"
   ]
  },
  {
   "cell_type": "markdown",
   "metadata": {},
   "source": [
    "**Filtreleme ve sorgulama**:\n",
    "\n",
    "   - `where()`: Koşullara göre serideki değerleri filtreler, koşulu karşılamayanları belirli bir değer ile değiştirebilir.\n",
    "   - `isin()`: Serinin elemanlarının, belirli bir değer listesinde olup olmadığını döner.\n"
   ]
  },
  {
   "cell_type": "code",
   "execution_count": null,
   "metadata": {},
   "outputs": [],
   "source": [
    "import pandas as pd\n",
    "\n",
    "veri = pd.Series([10, 20, 30, 40, 50, 60, 70, 80, 90, 100])\n",
    "\n",
    "# Mantıksal filtreleme\n",
    "filtrelenmis_veri = veri[veri > 50]  # 50'den büyük değerleri filtrele\n",
    "\n",
    "# where(): Koşulu karşılamayanları NaN ile değiştir\n",
    "where_filtrelenmis_veri = veri.where(veri > 50)\n",
    "\n",
    "# isin(): Belirli bir değer listesinde olup olmadığını kontrol et\n",
    "isin_filtrelenmis_veri = veri.isin([20, 50, 80])\n",
    "\n",
    "# Sonuçları yazdır\n",
    "print(\"--------------------------------------------\")\n",
    "print(\"Filtrelenmiş Veri:\")\n",
    "print(filtrelenmis_veri)\n",
    "print(\"--------------------------------------------\")\n",
    "print(\"Where ile Filtrelenmiş Veri:\")\n",
    "print(where_filtrelenmis_veri)\n",
    "print(\"--------------------------------------------\")\n",
    "print(\"isin() ile Filtrelenmiş Veri:\")\n",
    "print(isin_filtrelenmis_veri)\n",
    "print(\"--------------------------------------------\")\n"
   ]
  },
  {
   "cell_type": "markdown",
   "metadata": {},
   "source": [
    "#### filter()\n",
    "\n",
    "Pandas serilerinde `.filter()` fonksiyonu, serideki belirli indeksleri seçmek için kullanılır fakat DataFrame yapılarındaki kadar işlevsel değildir.  \n",
    "`.filter()` fonksiyonunun parametreleri:\n",
    "\n",
    "1. **items**: Seçmek istediğiniz indekslerin listesi. Bu, serideki belirli indeksleri belirtmek için kullanılır.\n",
    "2. **like**: İndeks isimlerinin içermesi gereken belirli bir string. Bu, indeks isimlerinde belirli bir deseni aramak için kullanılır.\n",
    "3. **regex**: İndeksleri seçmek için kullanılabilecek düzenli ifade (regex). Bu, indeks isimlerinde belirli bir desene uyanları seçmek için kullanılır.\n",
    "\n",
    "\n"
   ]
  },
  {
   "cell_type": "code",
   "execution_count": null,
   "metadata": {},
   "outputs": [],
   "source": [
    "# items parametresi\n",
    "import pandas as pd\n",
    "\n",
    "ps = pd.Series(range(10), index=['a', 'b', 'c', 'd', 'e', 'f', 'g', 'h', 'i', 'j'])\n",
    "filtered_ps = ps.filter(items=['a', 'c', 'g'])\n",
    "print(filtered_ps)\n"
   ]
  },
  {
   "cell_type": "code",
   "execution_count": null,
   "metadata": {},
   "outputs": [],
   "source": [
    "\n",
    "# like parametresi\n",
    "\n",
    "import pandas as pd\n",
    "\n",
    "ps = pd.Series(range(12), index=[\n",
    "    'ocak', 'şubat', 'mart', 'nisan', \n",
    "    'mayıs', 'haziran', 'temmuz', 'ağustos', \n",
    "    'eylül', 'ekim', \"kasım\", \"aralık\"\n",
    "    ])\n",
    "filtered_ps = ps.filter(like='e' or \"k\")\n",
    "print(filtered_ps)\n",
    "\n"
   ]
  },
  {
   "cell_type": "markdown",
   "metadata": {},
   "source": [
    "## Dataframe\n",
    "\n",
    "\n",
    "Birden fazla serinin yan yana gelerek oluşturduğu tablo tipi veri."
   ]
  },
  {
   "cell_type": "code",
   "execution_count": null,
   "metadata": {},
   "outputs": [],
   "source": [
    "import pandas as pd\n",
    "\n",
    "list1 = [111, 222, 333]\n",
    "list2 = [444, 544, 666]\n",
    "\n",
    "df = pd.DataFrame( {\"sütun_1\": list1, \"sütun_2\": list2}, index= [\"satır_1\", \"satır_2\", \"satır_3\"])\n",
    "print(df)\n"
   ]
  },
  {
   "cell_type": "code",
   "execution_count": null,
   "metadata": {},
   "outputs": [],
   "source": [
    "print(df['sütun_1'])  # 'sütun_1' adlı sütunu seçer\n"
   ]
  },
  {
   "cell_type": "code",
   "execution_count": null,
   "metadata": {},
   "outputs": [],
   "source": [
    "print(df[['sütun_1', 'sütun_2']])  # 'sütun_1' ve 'sütun_2' adlı sütunları seçer\n"
   ]
  },
  {
   "cell_type": "code",
   "execution_count": null,
   "metadata": {},
   "outputs": [],
   "source": [
    "print(df.loc['satır_1'])  # 'satır_1' adlı satırı seçer\n"
   ]
  },
  {
   "cell_type": "code",
   "execution_count": null,
   "metadata": {},
   "outputs": [],
   "source": [
    "print(df.loc['satır_1', 'sütun_1'])  # 'satır_1' satırındaki 'sütun_1' sütununun değerini seçer\n"
   ]
  },
  {
   "cell_type": "code",
   "execution_count": null,
   "metadata": {},
   "outputs": [],
   "source": [
    "# 'satır_1' ve 'satır_2' satırlarını ve 'sütun_1', 'sütun_2' sütunlarını seçer\n",
    "print(df.loc[['satır_1', 'satır_2'], ['sütun_1', 'sütun_2']])  "
   ]
  },
  {
   "cell_type": "code",
   "execution_count": null,
   "metadata": {},
   "outputs": [],
   "source": [
    "# 'satir_2' ye kadar olan satırları seçmek için dilimleme işlemi yapılabilir.\n",
    "print(df.loc[:'satır_2', :])\n",
    "\n"
   ]
  },
  {
   "cell_type": "code",
   "execution_count": null,
   "metadata": {},
   "outputs": [],
   "source": [
    "# df[\"yeni_sütun_adi\"] ile yeni sütun eklenebilir.\n",
    "df[\"sütun_3\"] = pd.Series([777, 888, 999], index= [\"satır_1\", \"satır_2\", \"satır_3\"])\n",
    "print(df)"
   ]
  },
  {
   "cell_type": "markdown",
   "metadata": {},
   "source": [
    "*drop()* fonksiyonu ile istenen satır veya sütun silinebilir.\n",
    "- axis= 1 ile sütunlar, axis= 0 ile satırlar seçilir\n",
    "- inplace= True denirse orijinal df değiştirilir, varsayılanda değişim olmaz sadece görüntüsünü alır."
   ]
  },
  {
   "cell_type": "code",
   "execution_count": null,
   "metadata": {},
   "outputs": [],
   "source": [
    "df.drop(\"sütun_2\", axis= 1, inplace=)"
   ]
  },
  {
   "cell_type": "code",
   "execution_count": null,
   "metadata": {},
   "outputs": [],
   "source": [
    "df.drop(\"satır_2\", axis= 0)"
   ]
  },
  {
   "cell_type": "markdown",
   "metadata": {},
   "source": [
    "# Okuma"
   ]
  },
  {
   "cell_type": "code",
   "execution_count": 89,
   "metadata": {},
   "outputs": [
    {
     "name": "stdout",
     "output_type": "stream",
     "text": [
      "         model  year  price transmission  mileage fuelType  tax   mpg  \\\n",
      "0       Fiesta  2017  12000    Automatic    15944   Petrol  150  57.7   \n",
      "1        Focus  2018  14000       Manual     9083   Petrol  150  57.7   \n",
      "2        Focus  2017  13000       Manual    12456   Petrol  150  57.7   \n",
      "3       Fiesta  2019  17500       Manual    10460   Petrol  145  40.3   \n",
      "4       Fiesta  2019  16500    Automatic     1482   Petrol  145  48.7   \n",
      "...        ...   ...    ...          ...      ...      ...  ...   ...   \n",
      "17961    B-MAX  2017   8999       Manual    16700   Petrol  150  47.1   \n",
      "17962    B-MAX  2014   7499       Manual    40700   Petrol   30  57.7   \n",
      "17963    Focus  2015   9999       Manual     7010   Diesel   20  67.3   \n",
      "17964       KA  2018   8299       Manual     5007   Petrol  145  57.7   \n",
      "17965    Focus  2015   8299       Manual     5007   Petrol   22  57.7   \n",
      "\n",
      "       engineSize  \n",
      "0             1.0  \n",
      "1             1.0  \n",
      "2             1.0  \n",
      "3             1.5  \n",
      "4             1.0  \n",
      "...           ...  \n",
      "17961         1.4  \n",
      "17962         1.0  \n",
      "17963         1.6  \n",
      "17964         1.2  \n",
      "17965         1.0  \n",
      "\n",
      "[17966 rows x 9 columns]\n"
     ]
    }
   ],
   "source": [
    "import pandas as pd\n",
    "# kaynak: https://www.kaggle.com/datasets/adhurimquku/ford-car-price-prediction\n",
    "df  = pd.read_csv(\"dataset/ford.csv\")\n",
    "\n",
    "print(df)"
   ]
  },
  {
   "cell_type": "markdown",
   "metadata": {},
   "source": [
    "df' yi doğrudan yazdırmak görsel karmaşaya sebep olabilir. Bu sebeple ilk 5 (veya istenen sayıda) elemanı yazdırmak için *head()* fonksiyonu kullanılır."
   ]
  },
  {
   "cell_type": "code",
   "execution_count": null,
   "metadata": {},
   "outputs": [],
   "source": [
    "df.head()"
   ]
  },
  {
   "cell_type": "code",
   "execution_count": null,
   "metadata": {},
   "outputs": [],
   "source": [
    "df.info()"
   ]
  },
  {
   "cell_type": "code",
   "execution_count": null,
   "metadata": {},
   "outputs": [],
   "source": [
    "import pandas as pd\n",
    "dosya_yolu = \"dataset/excel.xlsx\"\n",
    "sayfa_adi = \"Sheet2\" \n",
    "\n",
    "df  = pd.read_excel(dosya_yolu, sayfa_adi)\n",
    "\n",
    "df.head()"
   ]
  },
  {
   "cell_type": "markdown",
   "metadata": {},
   "source": [
    "# Filtreleme\n",
    "Pandas'da filtreleme ve sorgulama işlemleri, veri setlerinden belirli koşulları karşılayan verileri seçmek için kullanılır. Bu işlemler, veri analizi sürecinde veri kümesini daraltmak, ilgili verileri çekmek ve istenmeyen verileri elemek için oldukça önemlidir. İşte Pandas'da kullanılan bazı temel filtreleme ve sorgulama yöntemleri:\n",
    "\n",
    "### 1. Boolean Indexing\n",
    "Munpy array veya Pandas series yapılarındaki ile benzer şekilde çalışır. Bir koşula bağlı olarak doğru (`True`) veya yanlış (`False`) değerler üreten bir boolean ifade kullanır. Sonuç olarak, doğru (`True`) değerleri karşılayan satırlar seçilir.\n"
   ]
  },
  {
   "cell_type": "code",
   "execution_count": 90,
   "metadata": {},
   "outputs": [
    {
     "data": {
      "text/html": [
       "<div>\n",
       "<style scoped>\n",
       "    .dataframe tbody tr th:only-of-type {\n",
       "        vertical-align: middle;\n",
       "    }\n",
       "\n",
       "    .dataframe tbody tr th {\n",
       "        vertical-align: top;\n",
       "    }\n",
       "\n",
       "    .dataframe thead th {\n",
       "        text-align: right;\n",
       "    }\n",
       "</style>\n",
       "<table border=\"1\" class=\"dataframe\">\n",
       "  <thead>\n",
       "    <tr style=\"text-align: right;\">\n",
       "      <th></th>\n",
       "      <th>model</th>\n",
       "      <th>year</th>\n",
       "      <th>price</th>\n",
       "      <th>transmission</th>\n",
       "      <th>mileage</th>\n",
       "      <th>fuelType</th>\n",
       "      <th>tax</th>\n",
       "      <th>mpg</th>\n",
       "      <th>engineSize</th>\n",
       "    </tr>\n",
       "  </thead>\n",
       "  <tbody>\n",
       "    <tr>\n",
       "      <th>0</th>\n",
       "      <td>Fiesta</td>\n",
       "      <td>2017</td>\n",
       "      <td>12000</td>\n",
       "      <td>Automatic</td>\n",
       "      <td>15944</td>\n",
       "      <td>Petrol</td>\n",
       "      <td>150</td>\n",
       "      <td>57.7</td>\n",
       "      <td>1.0</td>\n",
       "    </tr>\n",
       "    <tr>\n",
       "      <th>1</th>\n",
       "      <td>Focus</td>\n",
       "      <td>2018</td>\n",
       "      <td>14000</td>\n",
       "      <td>Manual</td>\n",
       "      <td>9083</td>\n",
       "      <td>Petrol</td>\n",
       "      <td>150</td>\n",
       "      <td>57.7</td>\n",
       "      <td>1.0</td>\n",
       "    </tr>\n",
       "    <tr>\n",
       "      <th>2</th>\n",
       "      <td>Focus</td>\n",
       "      <td>2017</td>\n",
       "      <td>13000</td>\n",
       "      <td>Manual</td>\n",
       "      <td>12456</td>\n",
       "      <td>Petrol</td>\n",
       "      <td>150</td>\n",
       "      <td>57.7</td>\n",
       "      <td>1.0</td>\n",
       "    </tr>\n",
       "    <tr>\n",
       "      <th>3</th>\n",
       "      <td>Fiesta</td>\n",
       "      <td>2019</td>\n",
       "      <td>17500</td>\n",
       "      <td>Manual</td>\n",
       "      <td>10460</td>\n",
       "      <td>Petrol</td>\n",
       "      <td>145</td>\n",
       "      <td>40.3</td>\n",
       "      <td>1.5</td>\n",
       "    </tr>\n",
       "    <tr>\n",
       "      <th>4</th>\n",
       "      <td>Fiesta</td>\n",
       "      <td>2019</td>\n",
       "      <td>16500</td>\n",
       "      <td>Automatic</td>\n",
       "      <td>1482</td>\n",
       "      <td>Petrol</td>\n",
       "      <td>145</td>\n",
       "      <td>48.7</td>\n",
       "      <td>1.0</td>\n",
       "    </tr>\n",
       "  </tbody>\n",
       "</table>\n",
       "</div>"
      ],
      "text/plain": [
       "     model  year  price transmission  mileage fuelType  tax   mpg  engineSize\n",
       "0   Fiesta  2017  12000    Automatic    15944   Petrol  150  57.7         1.0\n",
       "1    Focus  2018  14000       Manual     9083   Petrol  150  57.7         1.0\n",
       "2    Focus  2017  13000       Manual    12456   Petrol  150  57.7         1.0\n",
       "3   Fiesta  2019  17500       Manual    10460   Petrol  145  40.3         1.5\n",
       "4   Fiesta  2019  16500    Automatic     1482   Petrol  145  48.7         1.0"
      ]
     },
     "execution_count": 90,
     "metadata": {},
     "output_type": "execute_result"
    }
   ],
   "source": [
    "import pandas as pd\n",
    "df  = pd.read_csv(\"dataset/ford.csv\")\n",
    "mantiksal_filtreli = df[df[\"mileage\"] < 70000]\n",
    "mantiksal_filtreli.head()"
   ]
  },
  {
   "cell_type": "markdown",
   "metadata": {},
   "source": [
    "\n",
    "### 2. `isin()` Metodu\n",
    "Bu metod, bir sütundaki değerlerin, belirli bir değer listesi içerisinde olup olmadığını kontrol eder. Listede yer alan değerler için `True`, diğer durumlar için `False` döner.\n"
   ]
  },
  {
   "cell_type": "code",
   "execution_count": 94,
   "metadata": {},
   "outputs": [
    {
     "data": {
      "text/html": [
       "<div>\n",
       "<style scoped>\n",
       "    .dataframe tbody tr th:only-of-type {\n",
       "        vertical-align: middle;\n",
       "    }\n",
       "\n",
       "    .dataframe tbody tr th {\n",
       "        vertical-align: top;\n",
       "    }\n",
       "\n",
       "    .dataframe thead th {\n",
       "        text-align: right;\n",
       "    }\n",
       "</style>\n",
       "<table border=\"1\" class=\"dataframe\">\n",
       "  <thead>\n",
       "    <tr style=\"text-align: right;\">\n",
       "      <th></th>\n",
       "      <th>model</th>\n",
       "      <th>year</th>\n",
       "      <th>price</th>\n",
       "      <th>transmission</th>\n",
       "      <th>mileage</th>\n",
       "      <th>fuelType</th>\n",
       "      <th>tax</th>\n",
       "      <th>mpg</th>\n",
       "      <th>engineSize</th>\n",
       "    </tr>\n",
       "  </thead>\n",
       "  <tbody>\n",
       "    <tr>\n",
       "      <th>0</th>\n",
       "      <td>Fiesta</td>\n",
       "      <td>2017</td>\n",
       "      <td>12000</td>\n",
       "      <td>Automatic</td>\n",
       "      <td>15944</td>\n",
       "      <td>Petrol</td>\n",
       "      <td>150</td>\n",
       "      <td>57.7</td>\n",
       "      <td>1.0</td>\n",
       "    </tr>\n",
       "    <tr>\n",
       "      <th>1</th>\n",
       "      <td>Focus</td>\n",
       "      <td>2018</td>\n",
       "      <td>14000</td>\n",
       "      <td>Manual</td>\n",
       "      <td>9083</td>\n",
       "      <td>Petrol</td>\n",
       "      <td>150</td>\n",
       "      <td>57.7</td>\n",
       "      <td>1.0</td>\n",
       "    </tr>\n",
       "    <tr>\n",
       "      <th>2</th>\n",
       "      <td>Focus</td>\n",
       "      <td>2017</td>\n",
       "      <td>13000</td>\n",
       "      <td>Manual</td>\n",
       "      <td>12456</td>\n",
       "      <td>Petrol</td>\n",
       "      <td>150</td>\n",
       "      <td>57.7</td>\n",
       "      <td>1.0</td>\n",
       "    </tr>\n",
       "    <tr>\n",
       "      <th>3</th>\n",
       "      <td>Fiesta</td>\n",
       "      <td>2019</td>\n",
       "      <td>17500</td>\n",
       "      <td>Manual</td>\n",
       "      <td>10460</td>\n",
       "      <td>Petrol</td>\n",
       "      <td>145</td>\n",
       "      <td>40.3</td>\n",
       "      <td>1.5</td>\n",
       "    </tr>\n",
       "    <tr>\n",
       "      <th>4</th>\n",
       "      <td>Fiesta</td>\n",
       "      <td>2019</td>\n",
       "      <td>16500</td>\n",
       "      <td>Automatic</td>\n",
       "      <td>1482</td>\n",
       "      <td>Petrol</td>\n",
       "      <td>145</td>\n",
       "      <td>48.7</td>\n",
       "      <td>1.0</td>\n",
       "    </tr>\n",
       "  </tbody>\n",
       "</table>\n",
       "</div>"
      ],
      "text/plain": [
       "     model  year  price transmission  mileage fuelType  tax   mpg  engineSize\n",
       "0   Fiesta  2017  12000    Automatic    15944   Petrol  150  57.7         1.0\n",
       "1    Focus  2018  14000       Manual     9083   Petrol  150  57.7         1.0\n",
       "2    Focus  2017  13000       Manual    12456   Petrol  150  57.7         1.0\n",
       "3   Fiesta  2019  17500       Manual    10460   Petrol  145  40.3         1.5\n",
       "4   Fiesta  2019  16500    Automatic     1482   Petrol  145  48.7         1.0"
      ]
     },
     "execution_count": 94,
     "metadata": {},
     "output_type": "execute_result"
    }
   ],
   "source": [
    "kategoriler = [\" Focus\", \" Fiesta\"] # verilerde model isimlerinden önce bir boşluk var.\n",
    "kategorik_secim = df[df[\"model\"].isin(kategoriler)]\n",
    "kategorik_secim.head()"
   ]
  },
  {
   "cell_type": "markdown",
   "metadata": {},
   "source": [
    "### 3. `query()` Metodu\n",
    "Bu metod, SQL sorgusu tipinde str ifadeler ile filtreleme yapabilmenizi. Bu, daha okunaklı ve daha az karmaşık sorgular yazmayı mümkün kılar.\n"
   ]
  },
  {
   "cell_type": "code",
   "execution_count": 98,
   "metadata": {},
   "outputs": [
    {
     "data": {
      "text/html": [
       "<div>\n",
       "<style scoped>\n",
       "    .dataframe tbody tr th:only-of-type {\n",
       "        vertical-align: middle;\n",
       "    }\n",
       "\n",
       "    .dataframe tbody tr th {\n",
       "        vertical-align: top;\n",
       "    }\n",
       "\n",
       "    .dataframe thead th {\n",
       "        text-align: right;\n",
       "    }\n",
       "</style>\n",
       "<table border=\"1\" class=\"dataframe\">\n",
       "  <thead>\n",
       "    <tr style=\"text-align: right;\">\n",
       "      <th></th>\n",
       "      <th>model</th>\n",
       "      <th>year</th>\n",
       "      <th>price</th>\n",
       "      <th>transmission</th>\n",
       "      <th>mileage</th>\n",
       "      <th>fuelType</th>\n",
       "      <th>tax</th>\n",
       "      <th>mpg</th>\n",
       "      <th>engineSize</th>\n",
       "    </tr>\n",
       "  </thead>\n",
       "  <tbody>\n",
       "    <tr>\n",
       "      <th>173</th>\n",
       "      <td>Kuga</td>\n",
       "      <td>2017</td>\n",
       "      <td>16995</td>\n",
       "      <td>Automatic</td>\n",
       "      <td>3700</td>\n",
       "      <td>Petrol</td>\n",
       "      <td>145</td>\n",
       "      <td>38.2</td>\n",
       "      <td>1.5</td>\n",
       "    </tr>\n",
       "    <tr>\n",
       "      <th>178</th>\n",
       "      <td>Fiesta</td>\n",
       "      <td>2017</td>\n",
       "      <td>11798</td>\n",
       "      <td>Manual</td>\n",
       "      <td>4262</td>\n",
       "      <td>Petrol</td>\n",
       "      <td>0</td>\n",
       "      <td>65.7</td>\n",
       "      <td>1.0</td>\n",
       "    </tr>\n",
       "    <tr>\n",
       "      <th>268</th>\n",
       "      <td>Focus</td>\n",
       "      <td>2017</td>\n",
       "      <td>13998</td>\n",
       "      <td>Semi-Auto</td>\n",
       "      <td>4735</td>\n",
       "      <td>Petrol</td>\n",
       "      <td>125</td>\n",
       "      <td>51.4</td>\n",
       "      <td>1.0</td>\n",
       "    </tr>\n",
       "    <tr>\n",
       "      <th>368</th>\n",
       "      <td>Grand Tourneo Connect</td>\n",
       "      <td>2017</td>\n",
       "      <td>13998</td>\n",
       "      <td>Manual</td>\n",
       "      <td>4856</td>\n",
       "      <td>Diesel</td>\n",
       "      <td>145</td>\n",
       "      <td>61.4</td>\n",
       "      <td>1.5</td>\n",
       "    </tr>\n",
       "    <tr>\n",
       "      <th>369</th>\n",
       "      <td>B-MAX</td>\n",
       "      <td>2017</td>\n",
       "      <td>11298</td>\n",
       "      <td>Semi-Auto</td>\n",
       "      <td>1397</td>\n",
       "      <td>Petrol</td>\n",
       "      <td>165</td>\n",
       "      <td>44.1</td>\n",
       "      <td>1.6</td>\n",
       "    </tr>\n",
       "  </tbody>\n",
       "</table>\n",
       "</div>"
      ],
      "text/plain": [
       "                      model  year  price transmission  mileage fuelType  tax  \\\n",
       "173                    Kuga  2017  16995    Automatic     3700   Petrol  145   \n",
       "178                  Fiesta  2017  11798       Manual     4262   Petrol    0   \n",
       "268                   Focus  2017  13998    Semi-Auto     4735   Petrol  125   \n",
       "368   Grand Tourneo Connect  2017  13998       Manual     4856   Diesel  145   \n",
       "369                   B-MAX  2017  11298    Semi-Auto     1397   Petrol  165   \n",
       "\n",
       "      mpg  engineSize  \n",
       "173  38.2         1.5  \n",
       "178  65.7         1.0  \n",
       "268  51.4         1.0  \n",
       "368  61.4         1.5  \n",
       "369  44.1         1.6  "
      ]
     },
     "execution_count": 98,
     "metadata": {},
     "output_type": "execute_result"
    }
   ],
   "source": [
    "# 2018' den eski araçlardan 120000 milden fazla veya 5000 milden az yol yapmış olnaların listelenmesi. \n",
    "df_sorgu = df.query('year < 2018 and (mileage  > 120000 or mileage < 5000)')\n",
    "df_sorgu.head()"
   ]
  },
  {
   "cell_type": "markdown",
   "metadata": {},
   "source": [
    "Tüm araçların fiyat ve mil ortalamalarını hesaplayalım."
   ]
  },
  {
   "cell_type": "code",
   "execution_count": 99,
   "metadata": {},
   "outputs": [
    {
     "name": "stdout",
     "output_type": "stream",
     "text": [
      "Fiyat ortalama: 12279.534843593454\n",
      "Mil ortalama: 23362.608760992985\n"
     ]
    }
   ],
   "source": [
    "df_fiyat = df[\"price\"]\n",
    "df_mil = df[\"mileage\"]\n",
    "print(\"Fiyat ortalama:\", df_fiyat.mean())\n",
    "print(\"Mil ortalama:\", df_mil.mean())"
   ]
  },
  {
   "cell_type": "code",
   "execution_count": 102,
   "metadata": {},
   "outputs": [
    {
     "name": "stdout",
     "output_type": "stream",
     "text": [
      "price      12279.534844\n",
      "mileage    23362.608761\n",
      "dtype: float64\n"
     ]
    }
   ],
   "source": [
    "# Birden fazla sütunun ortalaması aynı anda hesaplanabilir.\n",
    "df_fiyat_mil = df[[\"price\", \"mileage\"]]\n",
    "print(df_fiyat_mil.mean())"
   ]
  },
  {
   "cell_type": "markdown",
   "metadata": {},
   "source": [
    "2017 ve üstü araçların fiyat ortalaması"
   ]
  },
  {
   "cell_type": "code",
   "execution_count": 104,
   "metadata": {},
   "outputs": [
    {
     "data": {
      "text/html": [
       "<div>\n",
       "<style scoped>\n",
       "    .dataframe tbody tr th:only-of-type {\n",
       "        vertical-align: middle;\n",
       "    }\n",
       "\n",
       "    .dataframe tbody tr th {\n",
       "        vertical-align: top;\n",
       "    }\n",
       "\n",
       "    .dataframe thead th {\n",
       "        text-align: right;\n",
       "    }\n",
       "</style>\n",
       "<table border=\"1\" class=\"dataframe\">\n",
       "  <thead>\n",
       "    <tr style=\"text-align: right;\">\n",
       "      <th></th>\n",
       "      <th>model</th>\n",
       "      <th>year</th>\n",
       "      <th>price</th>\n",
       "      <th>transmission</th>\n",
       "      <th>mileage</th>\n",
       "      <th>fuelType</th>\n",
       "      <th>tax</th>\n",
       "      <th>mpg</th>\n",
       "      <th>engineSize</th>\n",
       "    </tr>\n",
       "  </thead>\n",
       "  <tbody>\n",
       "    <tr>\n",
       "      <th>0</th>\n",
       "      <td>Fiesta</td>\n",
       "      <td>2017</td>\n",
       "      <td>12000</td>\n",
       "      <td>Automatic</td>\n",
       "      <td>15944</td>\n",
       "      <td>Petrol</td>\n",
       "      <td>150</td>\n",
       "      <td>57.7</td>\n",
       "      <td>1.0</td>\n",
       "    </tr>\n",
       "    <tr>\n",
       "      <th>1</th>\n",
       "      <td>Focus</td>\n",
       "      <td>2018</td>\n",
       "      <td>14000</td>\n",
       "      <td>Manual</td>\n",
       "      <td>9083</td>\n",
       "      <td>Petrol</td>\n",
       "      <td>150</td>\n",
       "      <td>57.7</td>\n",
       "      <td>1.0</td>\n",
       "    </tr>\n",
       "    <tr>\n",
       "      <th>2</th>\n",
       "      <td>Focus</td>\n",
       "      <td>2017</td>\n",
       "      <td>13000</td>\n",
       "      <td>Manual</td>\n",
       "      <td>12456</td>\n",
       "      <td>Petrol</td>\n",
       "      <td>150</td>\n",
       "      <td>57.7</td>\n",
       "      <td>1.0</td>\n",
       "    </tr>\n",
       "    <tr>\n",
       "      <th>3</th>\n",
       "      <td>Fiesta</td>\n",
       "      <td>2019</td>\n",
       "      <td>17500</td>\n",
       "      <td>Manual</td>\n",
       "      <td>10460</td>\n",
       "      <td>Petrol</td>\n",
       "      <td>145</td>\n",
       "      <td>40.3</td>\n",
       "      <td>1.5</td>\n",
       "    </tr>\n",
       "    <tr>\n",
       "      <th>4</th>\n",
       "      <td>Fiesta</td>\n",
       "      <td>2019</td>\n",
       "      <td>16500</td>\n",
       "      <td>Automatic</td>\n",
       "      <td>1482</td>\n",
       "      <td>Petrol</td>\n",
       "      <td>145</td>\n",
       "      <td>48.7</td>\n",
       "      <td>1.0</td>\n",
       "    </tr>\n",
       "  </tbody>\n",
       "</table>\n",
       "</div>"
      ],
      "text/plain": [
       "     model  year  price transmission  mileage fuelType  tax   mpg  engineSize\n",
       "0   Fiesta  2017  12000    Automatic    15944   Petrol  150  57.7         1.0\n",
       "1    Focus  2018  14000       Manual     9083   Petrol  150  57.7         1.0\n",
       "2    Focus  2017  13000       Manual    12456   Petrol  150  57.7         1.0\n",
       "3   Fiesta  2019  17500       Manual    10460   Petrol  145  40.3         1.5\n",
       "4   Fiesta  2019  16500    Automatic     1482   Petrol  145  48.7         1.0"
      ]
     },
     "execution_count": 104,
     "metadata": {},
     "output_type": "execute_result"
    }
   ],
   "source": [
    "# 2017 ve üstü araçların olduğu yeni df\n",
    "# df[\"year\"] > 2017 komutu mantıksal liste oluşturur.\n",
    "df_2017_ust = df[df[\"year\"] >= 2017]\n",
    "\n",
    "df_2017_ust.head()\n"
   ]
  },
  {
   "cell_type": "code",
   "execution_count": 109,
   "metadata": {},
   "outputs": [
    {
     "name": "stdout",
     "output_type": "stream",
     "text": [
      "--------------------------------------------\n",
      "0    12000\n",
      "1    14000\n",
      "2    13000\n",
      "3    17500\n",
      "4    16500\n",
      "Name: price, dtype: int64\n",
      "--------------------------------------------\n",
      "Ortalama = 13884.555402670983\n",
      "--------------------------------------------\n"
     ]
    }
   ],
   "source": [
    "\n",
    "print(\"--------------------------------------------\")\n",
    "df_fiyat = df_2017_ust[\"price\"]\n",
    "print(df_fiyat.head())\n",
    "print(\"--------------------------------------------\")\n",
    "print(\"Ortalama =\", df_fiyat.mean())\n",
    "print(\"--------------------------------------------\")"
   ]
  }
 ],
 "metadata": {
  "kernelspec": {
   "display_name": "Python 3",
   "language": "python",
   "name": "python3"
  },
  "language_info": {
   "codemirror_mode": {
    "name": "ipython",
    "version": 3
   },
   "file_extension": ".py",
   "mimetype": "text/x-python",
   "name": "python",
   "nbconvert_exporter": "python",
   "pygments_lexer": "ipython3",
   "version": "3.12.3"
  }
 },
 "nbformat": 4,
 "nbformat_minor": 2
}
