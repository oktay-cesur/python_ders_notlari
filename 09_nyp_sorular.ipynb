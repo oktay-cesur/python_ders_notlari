{
 "cells": [
  {
   "cell_type": "markdown",
   "metadata": {},
   "source": [
    "## Problem 1: Banka Hesabı Sınıfı\n",
    "Bir BankaHesabi sınıfı tanımlayın. Bu sınıfın aşağıdaki özellikleri ve metodları olmalıdır:\n",
    "\n",
    "Özellikler:\n",
    "\n",
    "hesap_sahibi: \n",
    "\n",
    "- Hesap sahibinin adı.\n",
    "- bakiye: Hesabın başlangıç bakiyesi, varsayılan değer 0 olmalıdır.\n",
    "  \n",
    "Metodlar:\n",
    "\n",
    "- --init--(self, hesap_no, bakiye=0): Başlangıç durumunu ayarlar.\n",
    "- para_yatir(self, miktar): Hesaba para yatırır.\n",
    "- para_cek(self, miktar): Hesaptan para çeker, bakiye yetersizse bir uyarı mesajı gösterir.\n",
    "- para_aktar(self,miktar,alıcı): Bir hesaptan diğerine para aktarır. Bakiye yetersizse uyarı mesajı gösterir.\n",
    "- --str--(self): Hesap detaylarını döndüren bir metot."
   ]
  },
  {
   "cell_type": "markdown",
   "metadata": {},
   "source": [
    "## Problem 2: Kitaplık Sistemi\n",
    "Bir kitaplık sistemi için Kitap ve Kitaplik sınıfları tasarlayın. Kitap sınıfı, kitaplar hakkında bilgi tutarken, Kitaplik sınıfı bir kitap koleksiyonunu yönetmelidir.\n",
    "\n",
    "Kitap sınıfı:\n",
    "\n",
    "Özellikler:\n",
    "-  ad, yazar, fiyat\n",
    "\n",
    "Metodlar:\n",
    "-   --init-- (self, ad, yazar, isbn)\n",
    "\n",
    "Kitaplik sınıfı:\n",
    "\n",
    "Özellikler:\n",
    "-  kitaplar (Kitap nesnelerinin listesi)\n",
    "\n",
    "Metodlar:\n",
    "\n",
    "- kitap_ekle(self, kitap): Kitaplık listesine yeni bir Kitap nesnesi ekler.\n",
    "\n",
    "- kitap_sil(self, isbn): Belirtilen ISBN numarasına sahip kitabı kitaplık listesinden siler.\n",
    "\n",
    "- kitaplari_listele(self): Kitaplık listesindeki tüm kitapları ve detaylarını listeler.\n",
    "- fiyat_bul(self,kitap_adi): Adı verilen kitabın fiyatını döndürür.\n"
   ]
  },
  {
   "cell_type": "markdown",
   "metadata": {},
   "source": [
    "## Problem 3: Basit sosyal medya\n",
    "\n",
    "Basit bir sosyal medya profili simüle eden bir Profil sınıfı oluşturun. Bu sınıf, kullanıcının adını, kullanıcı adını ve takipçi ve takip edilenlerin listelerini içermelidir. Profil sınıfına, takipçi ekleyen ve çıkaran metodlar ekleyin."
   ]
  },
  {
   "cell_type": "markdown",
   "metadata": {},
   "source": [
    "## Problem 4: Online Satranç Oyunu\n",
    "Oyuncular, taşlar ve satranç tahtası için sınıflar oluşturun. Oyuncu sınıfı, oyuncunun ismi ve rengi (beyaz veya siyah) gibi özellikleri içersin. Taşlar (Piyon, Kale, At, Fil, Vezir, Şah) için ayrı sınıflar oluşturun ve hepsi genel bir Tas sınıfından türesin. SatrancTahtasi sınıfı, taşların konumlarını ve oyunun durumunu (sıradaki oyuncu, şah-mat durumu vb.) yöneten metodlara sahip olsun."
   ]
  },
  {
   "cell_type": "markdown",
   "metadata": {},
   "source": [
    "## Problem 5: Hastane Randevu Sistemi\n",
    "Hastalar, doktorlar ve randevular için sınıflar tasarlayın. Hasta sınıfı, hastanın ismi, TC kimlik numarası ve geçmiş randevuları gibi özellikleri içersin. Doktor sınıfı, doktorun ismi, uzmanlık alanı ve mevcut randevu listesi gibi özelliklere sahip olsun. Randevu sınıfı, randevunun tarihi, saati, ilgili doktor ve hasta bilgilerini içersin. Hastaların doktorlarla randevu alıp iptal edebildiği metodlar ekleyin."
   ]
  },
  {
   "cell_type": "markdown",
   "metadata": {},
   "source": [
    "## Problem 6: Elektronik Cihaz Mağazası\n",
    "\n",
    "Elektronik cihazların genel özelliklerini içeren bir ElektronikCihaz sınıfından türeyen Telefon, Tablet, ve Bilgisayar gibi alt sınıflar oluşturun. ElektronikCihaz sınıfı marka, model ve güç tüketimi gibi ortak özellikleri içersin. Her alt sınıf kendi özel özelliklerine sahip olsun, örneğin Telefon sınıfı için ekran boyutu ve kamera çözünürlüğü."
   ]
  },
  {
   "cell_type": "markdown",
   "metadata": {},
   "source": [
    "## Problem 7: Oyun Karakterleri\n",
    "\n",
    "Bir oyun için karakterlerin temel özelliklerini içeren bir Karakter sınıfından türeyen Savasci, Büyücü, ve Okçu gibi alt sınıflar tasarlayın. Karakter sınıfı sağlık, güç ve savunma gibi ortak özellikleri içersin. Savasci için kılıç ustalığı seviyesi, Büyücü için büyü gücü, Okçu için ise ok sayısı gibi özel özellikler ekleyin."
   ]
  },
  {
   "cell_type": "markdown",
   "metadata": {},
   "source": [
    "## Problem 8: Online Ders Platformu\n",
    "Kullanici sınıfından türeyen Öğrenci, Öğretmen, ve Yönetici gibi alt sınıflar oluşturun. Kullanici sınıfı kullanıcı adı, e-posta ve parola gibi ortak özellikleri içersin. Öğrenci için alınan dersler ve notlar, Öğretmen için verilen dersler ve uzmanlık alanları, Yönetici için ise yönetim yetkileri ve rapor erişim hakları gibi özel özellikler ekleyin.\n",
    "\n",
    "Eklemeler:\n",
    "\n",
    "- Tüm kullanıcılar için ortak bir giriş fonksiyonu."
   ]
  },
  {
   "cell_type": "markdown",
   "metadata": {},
   "source": [
    "## Problem 9: Sipariş Yönetim Sistemi\n",
    "Ürün sınıfından türeyen Gıda, Elektronik, ve Giysi gibi alt sınıflar tasarlayın. Ürün sınıfı ürün adı, fiyatı ve stok miktarı gibi ortak özellikleri içersin. Gıda için son kullanma tarihi ve içerik bilgileri, Elektronik için garanti süresi ve teknik özellikler, Giysi için ise beden ve renk gibi özel özellikler ekleyin."
   ]
  },
  {
   "cell_type": "markdown",
   "metadata": {},
   "source": [
    "Problem 9: Hayvan sesleri:\n",
    "Hayvan adında bir temel sınıf oluşturun ve bu sınıftan Aslan, Kaplan ve Fil gibi alt sınıflar türetin. Her bir alt sınıf için ses_cikar metodunu farklı şekillerde uygulayın."
   ]
  },
  {
   "cell_type": "markdown",
   "metadata": {},
   "source": [
    "## Problem 10: Araç Yönetim Sistemi\n",
    "Bir araç yönetim sistemi için sınıflar hiyerarşisi tasarlayın. Temel bir Arac sınıfınız olsun ve bu sınıftan türeyen BinekArac, Kamyon, Motorsiklet gibi alt sınıflarınız olsun. Her araç türü için özgü özellikleri (yükleme kapasitesi, koltuk sayısı, iki teker/üç teker vb.) ve fonksiyonları (yakıt tüketimi hesaplama, vergi hesaplama vb.) tanımlayın.\n"
   ]
  },
  {
   "cell_type": "markdown",
   "metadata": {},
   "source": [
    "##  Problem 11: Okul Yönetim Sistemi\n",
    "Bir okul için Personel, Ogretmen, Mudur ve Ogrenci sınıflarını içeren bir kalıtım hiyerarşisi oluşturun. Personel temel sınıfı, tüm sınıfların ortak özelliklerini (ad, soyad, kimlik numarası vb.) içermelidir. Ogretmen ve Mudur sınıfları Personel sınıfından türemeli, Ogrenci sınıfı ise farklı özelliklere (öğrenci numarası, sınıfı, notlar vb.) sahip olmalıdır. Her bir sınıf için uygun metodları (ders verme, sınav yapma, not girişi vb.) ekleyin.\n"
   ]
  },
  {
   "cell_type": "markdown",
   "metadata": {},
   "source": [
    "##  Problem 12: Geometrik Şekiller\n",
    "Sekil adında bir temel sınıf oluşturun ve bu sınıftan Daire, Dikdortgen ve Ucgen gibi geometrik şekilleri temsil eden sınıfları türetin. Her şekil için alan ve çevre hesaplama metodlarını tanımlayın. Sekil sınıfında, tüm şekillerin ortak özelliklerini (renk, çizgi kalınlığı vb.) tanımlayın.\n"
   ]
  },
  {
   "cell_type": "markdown",
   "metadata": {},
   "source": [
    "##  Problem 13: Çalışanlar ve Departmanlar\n",
    "Bir şirketin çalışan yönetim sistemini modelleyin. Calisan adında bir temel sınıf oluşturun ve bu sınıftan Yonetici, Muhendis, Muhasebeci gibi farklı çalışan türlerini temsil eden alt sınıfları türetin. Her çalışan türü için özgü özellikler (departman, unvan, sorumlu olduğu kişiler vb.) ve fonksiyonlar (rapor oluşturma, proje yönetimi vb.) ekleyin.\n"
   ]
  },
  {
   "cell_type": "markdown",
   "metadata": {},
   "source": [
    "##  Problem 14: Bilgisayar Sistemleri\n",
    "Bilgisayar adında bir temel sınıf oluşturun ve bu sınıftan Dizustu, Masaustu, Sunucu gibi farklı bilgisayar türlerini temsil eden alt sınıfları türetin. Her bilgisayar türü için özgü özellikler (batarya ömrü, soğutma sistemi, işlemci gücü vb.) ve fonksiyonları (enerji tasarrufu modu, performans testi vb.) tanımlayın."
   ]
  }
 ],
 "metadata": {
  "kernelspec": {
   "display_name": "Python 3",
   "language": "python",
   "name": "python3"
  },
  "language_info": {
   "codemirror_mode": {
    "name": "ipython",
    "version": 3
   },
   "file_extension": ".py",
   "mimetype": "text/x-python",
   "name": "python",
   "nbconvert_exporter": "python",
   "pygments_lexer": "ipython3",
   "version": "3.11.7"
  }
 },
 "nbformat": 4,
 "nbformat_minor": 2
}
