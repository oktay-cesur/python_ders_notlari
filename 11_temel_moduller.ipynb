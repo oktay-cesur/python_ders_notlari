{
 "cells": [
  {
   "cell_type": "code",
   "execution_count": null,
   "metadata": {},
   "outputs": [],
   "source": [
    "import os\n",
    "import sys\n",
    "\n",
    "print(\"os.name:\", os.name)\n",
    "# nt = windows\n",
    "# posix = macos veya linux\n",
    "\n",
    "print(\"os.sep:\", os.sep)\n",
    "# Sep komutu işletim sisteminin dosya ayracını verir.\n",
    "\n",
    "ayrac = os.sep\n",
    "klasor_adi = \"dosyalar\"\n",
    "dosya_adi = \"dosya.txt\"\n",
    "\n",
    "\n",
    "dosya_yolu = klasor_adi+ayrac+dosya_adi\n",
    "\n",
    "print(dosya_yolu)\n",
    "\n"
   ]
  },
  {
   "cell_type": "code",
   "execution_count": null,
   "metadata": {},
   "outputs": [],
   "source": [
    "import os\n",
    "import sys\n",
    "\n",
    "print(\"os.name:\", os.name)\n",
    "# nt = windows\n",
    "# posix = macos veya linux\n",
    "\n",
    "print(\"os.sep:\", os.sep)\n",
    "# Sep komutu işletim sisteminin dosya ayracını verir.\n",
    "\n",
    "ayrac = os.sep\n",
    "klasor_adi = \"dosyalar\"\n",
    "dosya_adi = \"dosya.txt\"\n",
    "\n",
    "\n",
    "dosya_yolu = klasor_adi+ayrac+dosya_adi\n",
    "\n",
    "print(dosya_yolu)\n",
    "\n"
   ]
  },
  {
   "cell_type": "code",
   "execution_count": null,
   "metadata": {},
   "outputs": [],
   "source": [
    "\n",
    "dosyalar = [\"birinci_seviye\", \"ikinci_seviye\", \"üçüncü_deviye\", \"dördüncü_seviye\"]\n",
    "\n",
    "seviyeler = os.sep.join(dosyalar)\n",
    "\n",
    "print(seviyeler)"
   ]
  },
  {
   "cell_type": "code",
   "execution_count": null,
   "metadata": {},
   "outputs": [],
   "source": [
    "print(\"os.getcwd():\", os.getcwd())\n",
    "\n",
    "with open(\"dosya.txt\", \"w\") as dosya:\n",
    "    dosya.write(\"abc\")"
   ]
  },
  {
   "cell_type": "code",
   "execution_count": null,
   "metadata": {},
   "outputs": [],
   "source": [
    "os.chdir(r\"C:\\Users\\oktay\\Desktop\")\n",
    "\n",
    "with open(\"dosya.txt\", \"w\") as dosya:\n",
    "    dosya.write(\"abc\")\n",
    "    \n"
   ]
  },
  {
   "cell_type": "code",
   "execution_count": null,
   "metadata": {},
   "outputs": [],
   "source": [
    "os.chdir(os.getcwd())\n",
    "\n",
    "with open(\"dosya.txt\", \"w\") as dosya:\n",
    "    dosya.write(\"xyz\")"
   ]
  },
  {
   "cell_type": "code",
   "execution_count": null,
   "metadata": {},
   "outputs": [],
   "source": [
    "dosyalar = os.listdir(os.getcwd())\n",
    "\n",
    "for dosya in dosyalar:\n",
    "    print(dosya)"
   ]
  },
  {
   "cell_type": "code",
   "execution_count": null,
   "metadata": {},
   "outputs": [],
   "source": [
    "dosyalar = os.listdir(r\"C:\\Users\\oktay\\Desktop\")\n",
    "\n",
    "for dosya in dosyalar:\n",
    "    print(dosya)"
   ]
  },
  {
   "cell_type": "code",
   "execution_count": null,
   "metadata": {},
   "outputs": [],
   "source": [
    "# txt uzantılı dosyaları ayıklayalım. \n",
    "\n",
    "dosyalar = os.listdir(os.getcwd())\n",
    "\n",
    "for dosya in dosyalar:\n",
    "    if dosya.endswith(\".txt\"):\n",
    "        print(dosya)"
   ]
  },
  {
   "cell_type": "code",
   "execution_count": null,
   "metadata": {},
   "outputs": [],
   "source": [
    "# txt uzantılı dosyaları ayıklayalım. \n",
    "\n",
    "dosyalar = os.listdir(os.getcwd())\n",
    "\n",
    "for dosya in dosyalar:\n",
    "    if dosya.endswith(\".txt\"):\n",
    "        print(dosya)"
   ]
  },
  {
   "cell_type": "code",
   "execution_count": null,
   "metadata": {},
   "outputs": [],
   "source": [
    "os.listdir(\"..\")  # Bir üst klasörü verir.\n",
    "os.listdir(\".\") # Bulunduğu konumu verir."
   ]
  },
  {
   "cell_type": "code",
   "execution_count": null,
   "metadata": {},
   "outputs": [],
   "source": [
    "os.curdir \n",
    "\n",
    "os.chdir(r\"C:\\Users\\oktay\\Desktop\")\n",
    "\n",
    "os.listdir()"
   ]
  },
  {
   "cell_type": "code",
   "execution_count": null,
   "metadata": {},
   "outputs": [],
   "source": [
    "os.startfile(\"dosya.txt\") # dosya yolu verilen programı açar. Windowsta çalışır.\n",
    "\n"
   ]
  },
  {
   "cell_type": "code",
   "execution_count": null,
   "metadata": {},
   "outputs": [],
   "source": [
    "os.startfile(\".\")"
   ]
  },
  {
   "cell_type": "code",
   "execution_count": null,
   "metadata": {},
   "outputs": [],
   "source": [
    "os.startfile(\"www.google.com\")"
   ]
  },
  {
   "cell_type": "code",
   "execution_count": null,
   "metadata": {},
   "outputs": [],
   "source": [
    "os.mkdir(\"yeni klasör\") # mevcut konumda bir dizin oluşturur."
   ]
  },
  {
   "cell_type": "code",
   "execution_count": null,
   "metadata": {},
   "outputs": [],
   "source": [
    "masa_ustu = r\"C:\\Users\\oktay\\Desktop\"\n",
    "\n",
    "os.mkdir(r\"yeni klasör\\alt\")"
   ]
  },
  {
   "cell_type": "code",
   "execution_count": null,
   "metadata": {},
   "outputs": [],
   "source": [
    "os.mkdir(r\"yeni klasör2\\alt\") # yeni klasör2 olmadığı için dizini oluşturamadı."
   ]
  },
  {
   "cell_type": "code",
   "execution_count": null,
   "metadata": {},
   "outputs": [],
   "source": [
    "# Üst dosyayı da oluştrmak için makedirs\n",
    "os.makedirs(r\"yeni klasör3\\alt\") # yeni klasör3' ü kendisi oluşturdu."
   ]
  },
  {
   "cell_type": "markdown",
   "metadata": {},
   "source": [
    "## isimler"
   ]
  },
  {
   "cell_type": "code",
   "execution_count": null,
   "metadata": {},
   "outputs": [],
   "source": [
    "# os.rename(\"mevcut_adi\", \"yeni_adi\")\n",
    "\n",
    "os.rename(\"yeni klasör\", \"abc\")"
   ]
  },
  {
   "cell_type": "code",
   "execution_count": null,
   "metadata": {},
   "outputs": [],
   "source": [
    "os.rename(\"abc\", \"xyz\")"
   ]
  },
  {
   "cell_type": "code",
   "execution_count": null,
   "metadata": {},
   "outputs": [],
   "source": [
    "os.replace(\"abc\", \"xyz\")"
   ]
  },
  {
   "cell_type": "code",
   "execution_count": null,
   "metadata": {},
   "outputs": [],
   "source": [
    "os.remove(\"xyz\")"
   ]
  },
  {
   "cell_type": "code",
   "execution_count": null,
   "metadata": {},
   "outputs": [],
   "source": [
    "os.rmdir(\"xyz\") # dizinin içi boşsa siler\n"
   ]
  },
  {
   "cell_type": "code",
   "execution_count": null,
   "metadata": {},
   "outputs": [],
   "source": [
    "os.rmdir(\"abc\") "
   ]
  },
  {
   "cell_type": "code",
   "execution_count": null,
   "metadata": {},
   "outputs": [],
   "source": [
    "os.makedirs(r\"abc\\alt1\\alt2\\alt3\")"
   ]
  },
  {
   "cell_type": "code",
   "execution_count": null,
   "metadata": {},
   "outputs": [],
   "source": [
    "os.removedirs(r\"abc\\alt1\\alt2\\alt3\") "
   ]
  },
  {
   "cell_type": "code",
   "execution_count": null,
   "metadata": {},
   "outputs": [],
   "source": [
    "dosya_bilgileri = os.stat(\"dosya.txt\")\n",
    "print(dosya_bilgileri)\n",
    "\n",
    "\n",
    "print(\"Oluşturulma tarihi: \",dosya_bilgileri.st_ctime)\n",
    "print(\"Son erişim tarihi: \",dosya_bilgileri.st_atime)\n",
    "print(\"Dosya boyutu: \",dosya_bilgileri.st_size) # bayt cinsinden\n",
    "\n",
    "\n",
    "epoc_time = \"01/01/1970\""
   ]
  },
  {
   "cell_type": "code",
   "execution_count": null,
   "metadata": {},
   "outputs": [],
   "source": [
    "\n",
    "os.system(\"notepad.exe\")"
   ]
  },
  {
   "cell_type": "code",
   "execution_count": null,
   "metadata": {},
   "outputs": [],
   "source": [
    "excel_yol = r\"C:\\Program Files\\Microsoft Office\\root\\Office16\\EXCEL.EXE\"\n",
    "\n",
    "os.system(excel_yol)"
   ]
  },
  {
   "cell_type": "markdown",
   "metadata": {},
   "source": [
    "# sys modülü"
   ]
  },
  {
   "cell_type": "code",
   "execution_count": null,
   "metadata": {},
   "outputs": [],
   "source": [
    "import sys"
   ]
  },
  {
   "cell_type": "code",
   "execution_count": null,
   "metadata": {},
   "outputs": [],
   "source": [
    "print(\"1\")\n",
    "\n",
    "sys.exit()\n",
    "\n",
    "print(\"1\")"
   ]
  },
  {
   "cell_type": "code",
   "execution_count": null,
   "metadata": {},
   "outputs": [],
   "source": [
    "import sys\n",
    "print(\"sys.version: \", sys.version)\n",
    "print(\"sys.version_info: \", sys.version_info)\n",
    "print(\"sys.platform :\", sys.platform)\n",
    "\n",
    "#  Farklı pyton sürümleri arası işlemler yapabilemeyi sağlar."
   ]
  },
  {
   "cell_type": "code",
   "execution_count": null,
   "metadata": {},
   "outputs": [],
   "source": [
    "sys.version_info.major"
   ]
  },
  {
   "cell_type": "code",
   "execution_count": null,
   "metadata": {},
   "outputs": [],
   "source": [
    "if sys.platform == \"win32\":\n",
    "    print(\"Kullandığınız işletim sistemi Windows\")\n",
    "elif sys.platform == \"darwin\":\n",
    "    print(\"Kullandığınız işletim sistemi MacOs\")\n",
    "elif sys.platform.startswith(\"linux\"):\n",
    "    print(\"Kullandığınız işletim sistemi Linux\")\n",
    "else:\n",
    "    print(f\"Kullandığınız işletim sistemi {sys.platform}\")"
   ]
  },
  {
   "cell_type": "code",
   "execution_count": null,
   "metadata": {},
   "outputs": [],
   "source": [
    "# Bellek kontrolü\n",
    "\n",
    "sayi = 1000434\n",
    "sayi2 = 1000434\n",
    "sayi3 = 1000434\n",
    "print(sys.getrefcount(1000434))"
   ]
  },
  {
   "cell_type": "code",
   "execution_count": null,
   "metadata": {},
   "outputs": [],
   "source": [
    "sys.getsizeof(15) # nesnenin bellekte kapladığı alanı"
   ]
  },
  {
   "cell_type": "code",
   "execution_count": null,
   "metadata": {},
   "outputs": [],
   "source": [
    "import deneme\n",
    "\n",
    "deneme.yazdir()\n"
   ]
  },
  {
   "cell_type": "code",
   "execution_count": null,
   "metadata": {},
   "outputs": [],
   "source": [
    "import sys\n",
    "\n",
    "sys.path.append(r\"C:\\Users\\oktay\\Desktop\")\n"
   ]
  },
  {
   "cell_type": "code",
   "execution_count": null,
   "metadata": {},
   "outputs": [],
   "source": [
    "for i in sys.path:\n",
    "    print(i)"
   ]
  },
  {
   "cell_type": "code",
   "execution_count": null,
   "metadata": {},
   "outputs": [],
   "source": [
    "import dosya\n",
    "\n",
    "dosya.yazdir()"
   ]
  },
  {
   "cell_type": "code",
   "execution_count": null,
   "metadata": {},
   "outputs": [],
   "source": [
    "import os\n",
    "\n",
    "os.path.abspath(\"test1\")\n"
   ]
  },
  {
   "cell_type": "code",
   "execution_count": null,
   "metadata": {},
   "outputs": [],
   "source": [
    "os.path.dirname(\"deneme.py\")\n"
   ]
  },
  {
   "cell_type": "code",
   "execution_count": null,
   "metadata": {},
   "outputs": [],
   "source": [
    "os.path.dirname(os.path.abspath(\"test1\"))"
   ]
  },
  {
   "cell_type": "code",
   "execution_count": null,
   "metadata": {},
   "outputs": [],
   "source": [
    "os.path.exists(\"alt\") # Mevcut çalışılan dizinde adı girilen klasör veya dosyanın varlığını kontrol eder."
   ]
  },
  {
   "cell_type": "code",
   "execution_count": null,
   "metadata": {},
   "outputs": [],
   "source": [
    "# Girilen parametreye ait varlığın dosya olup olmadığını kontrol eder.\n",
    "\n",
    "print(\"os.path.isfile('test1'): \",os.path.isfile(\"test1\"))\n",
    "print(\"os.path.isfile('deneme.py'): \",os.path.isfile(\"deneme.py\"))\n",
    "print(\"--------------------------------\")\n",
    "print(\"os.path.isdir('test1'): \",os.path.isdir(\"test1\"))\n",
    "print(\"os.path.isdir('deneme.py'): \",os.path.isdir(\"deneme.py\"))"
   ]
  },
  {
   "cell_type": "code",
   "execution_count": null,
   "metadata": {},
   "outputs": [],
   "source": [
    "dosyalar = [\"birinci_seviye\", \"ikinci_seviye\", \"üçüncü_deviye\", \"dördüncü_seviye\"]\n",
    "\n",
    "seviyeler = os.path.join(\"birinci_seviye\", \"ikinci_seviye\", \"üçüncü_deviye\", \"dördüncü_seviye\" )\n",
    "\n",
    "print(type(seviyeler))"
   ]
  },
  {
   "cell_type": "code",
   "execution_count": null,
   "metadata": {},
   "outputs": [],
   "source": [
    "dosya_yolu = os.path.abspath(\"deneme.py\")\n",
    "\n",
    "yol_elemanlari = str(os.path.split(dosya_yolu))\n",
    "\n",
    "print(yol_elemanlari)"
   ]
  },
  {
   "cell_type": "code",
   "execution_count": null,
   "metadata": {},
   "outputs": [],
   "source": [
    "os.path.splitext(\"deneme.py\")"
   ]
  },
  {
   "cell_type": "code",
   "execution_count": null,
   "metadata": {},
   "outputs": [],
   "source": [
    "\n"
   ]
  },
  {
   "cell_type": "code",
   "execution_count": null,
   "metadata": {},
   "outputs": [],
   "source": [
    "import os\n",
    "\n",
    "ana_dizin = os.getcwd()+r\"\\abc\"\n",
    "dosyalar = []\n",
    "klasorler = []\n",
    "print(ana_dizin)"
   ]
  },
  {
   "cell_type": "code",
   "execution_count": null,
   "metadata": {},
   "outputs": [],
   "source": [
    "dosyalar = []\n",
    "klasorler = []\n",
    "def tarama(dizin):\n",
    "\n",
    "    os.chdir(dizin)\n",
    "    for oge in os.listdir(dizin):\n",
    "        if os.path.isfile(oge) == True:\n",
    "            tam_yol = os.path.abspath(oge)\n",
    "            dosyalar.append(tam_yol)\n",
    "        elif os.path.isdir(oge) == True:\n",
    "            tam_yol = os.path.abspath(oge)\n",
    "            klasorler.append(tam_yol)        "
   ]
  },
  {
   "cell_type": "code",
   "execution_count": null,
   "metadata": {},
   "outputs": [],
   "source": [
    "tarama(ana_dizin)"
   ]
  },
  {
   "cell_type": "markdown",
   "metadata": {},
   "source": [
    "# walk "
   ]
  },
  {
   "cell_type": "code",
   "execution_count": null,
   "metadata": {},
   "outputs": [],
   "source": [
    "import os\n",
    "\n",
    "dizin = r\"C:\\Users\\oktay\\OneDrive\\Dersler\\Moduller\\abc\"\n",
    "\n",
    "\n",
    "for kok, klasorler, dosyalar in os.walk(dizin):\n",
    "    print(\"************************\\n\")\n",
    "    print(f\"Mevcut Dizin: {kok}\")\n",
    "    print(\"Klasörler:\")\n",
    "    print(klasorler)\n",
    "    print(\"Dosyalar:\")\n",
    "    print(dosyalar)\n",
    "    \n"
   ]
  },
  {
   "cell_type": "code",
   "execution_count": null,
   "metadata": {},
   "outputs": [],
   "source": [
    "print([*os.walk(dizin, topdown= False)])"
   ]
  },
  {
   "cell_type": "code",
   "execution_count": null,
   "metadata": {},
   "outputs": [],
   "source": [
    "import os\n",
    "import random\n",
    "uzantilar = [\".txt\", \".py\", \".csv\"]\n",
    "def klasor_olustur(yol, seviye=0, max_seviye=3, max_klasor_sayisi=7):\n",
    "    if seviye < max_seviye:\n",
    "        klasor_sayisi = random.randint(1, max_klasor_sayisi)\n",
    "        dosya_sayisi = random.randint(1, 2*max_klasor_sayisi)\n",
    "        for _ in range(klasor_sayisi):\n",
    "            klasor_adi = f\"Klasor_{random.randint(1, 1000)}\"\n",
    "            yeni_yol = os.path.join(yol, klasor_adi)\n",
    "            os.makedirs(yeni_yol, exist_ok=True)\n",
    "            print(f\"Oluşturulan: {yeni_yol}\")\n",
    "            yeni_seviye = seviye + 1\n",
    "            klasor_olustur(yeni_yol, yeni_seviye, max_seviye, max_klasor_sayisi)\n",
    "        print(\"********************\")\n",
    "        for _ in range(dosya_sayisi):\n",
    "            os.chdir(yol)\n",
    "            if random.randint(1,2) == 1:\n",
    "                dosya_adi = f\"dolu_{random.randint(1, 1000)}{uzantilar[random.randint(0, 2)]}\"\n",
    "                with open(dosya_adi, \"w\") as f:\n",
    "                    f.write(\"# Bu bir Python betiğidir.\")\n",
    "            else:\n",
    "                dosya_adi = f\"bos_{random.randint(1, 1000)}{uzantilar[random.randint(0, 2)]}\"\n",
    "                with open(dosya_adi, \"w\") as f: \n",
    "                    pass      \n",
    "\n",
    "yol = r'C:\\Users\\oktay\\OneDrive\\Dersler\\Moduller\\test1'\n",
    "os.chdir(yol)\n",
    "klasor_olustur(yol)\n",
    "        "
   ]
  },
  {
   "cell_type": "code",
   "execution_count": null,
   "metadata": {},
   "outputs": [],
   "source": [
    "import os\n",
    "import random\n",
    "uzantilar = [\".txt\", \".py\", \".csv\"]\n",
    "def klasor_olustur(yol, seviye=0, max_seviye=3, max_klasor_sayisi=10):\n",
    "    if seviye < max_seviye: \n",
    "        klasor_sayisi = random.randint(1,max_klasor_sayisi)\n",
    "        dosya_sayisi = random.randint(1,max_klasor_sayisi)\n",
    "        for _ in range(klasor_sayisi): # Değişkenin kullanılmayacağı döngüler.\n",
    "            klasor_adi = r\"\\klasor_\"+str(random.randint(1,5000))\n",
    "            yeni_yol = yol + klasor_adi\n",
    "            os.makedirs(yeni_yol, exist_ok=True)\n",
    "            print(f\"Oluşturulan klasor: {yeni_yol}\")\n",
    "            yeni_seviye = seviye + 1\n",
    "            ###################\n",
    "            klasor_olustur(yeni_yol, yeni_seviye, max_seviye=3, max_klasor_sayisi=10)\n",
    "            ###################\n",
    "        \n",
    "        \n",
    "yol = r\"C:\\Users\\oktay\\OneDrive\\Dersler\\Moduller\\test1\"  \n",
    "os.chdir(yol)\n",
    "klasor_olustur(yol)"
   ]
  },
  {
   "cell_type": "markdown",
   "metadata": {},
   "source": [
    "# Datetime"
   ]
  },
  {
   "cell_type": "code",
   "execution_count": null,
   "metadata": {},
   "outputs": [],
   "source": [
    "from datetime import datetime\n",
    "\n",
    "dir(datetime)"
   ]
  },
  {
   "cell_type": "code",
   "execution_count": null,
   "metadata": {},
   "outputs": [],
   "source": [
    "su_an = datetime.now()\n",
    "print(\"Tam tarih  :\",su_an)\n",
    "print(\"Yıl        :\",su_an.year)\n",
    "print(\"Ay         :\",su_an.month)\n",
    "print(\"Gün        :\",su_an.day)\n",
    "print(\"Saat       :\",su_an.hour)\n",
    "print(\"Dakika     :\",su_an.minute)\n",
    "print(\"Saniye     :\",su_an.second)\n",
    "print(\"Mikro      :\",su_an.microsecond)\n",
    "\n",
    "print(\"***************************\")\n",
    "\n",
    "su_an = datetime.today()\n",
    "print(\"Tam tarih  :\",su_an)\n",
    "print(\"Yıl        :\",su_an.year)\n",
    "print(\"Ay         :\",su_an.month)\n",
    "print(\"Gün        :\",su_an.day)\n",
    "print(\"Saat       :\",su_an.hour)\n",
    "print(\"Dakika     :\",su_an.minute)\n",
    "print(\"Saniye     :\",su_an.second)\n",
    "print(\"Mikro      :\",su_an.microsecond)"
   ]
  },
  {
   "cell_type": "markdown",
   "metadata": {},
   "source": [
    "- %a kısa gün, %A tam gün\n",
    "- %b kısa ay, %B tam ay\n",
    "- %c tam tarih - nümerik\n",
    "- %d Gün nümerik\n",
    "- %m ay nümerik\n",
    "- %Y Tam yıl\n",
    "- %y yılın son iki basamağı\n",
    "- %x tarih\n",
    "- %X Saat"
   ]
  },
  {
   "cell_type": "code",
   "execution_count": null,
   "metadata": {},
   "outputs": [],
   "source": [
    "import locale\n",
    "\n",
    "locale.setlocale(locale.LC_ALL,\"\")\n"
   ]
  },
  {
   "cell_type": "code",
   "execution_count": null,
   "metadata": {},
   "outputs": [],
   "source": [
    "# strftime\n",
    "\n",
    "su_an = datetime.now()\n",
    "tarih = datetime.strftime(su_an, \"%X\")\n",
    "\n",
    "print(tarih)"
   ]
  },
  {
   "cell_type": "code",
   "execution_count": null,
   "metadata": {},
   "outputs": [],
   "source": [
    "tarih1 = datetime(2030,5,2)\n",
    "tarih2 = datetime(2025,2,12)\n",
    "print(tarih1, tarih2)\n",
    "\n",
    "fark = tarih1 - su_an\n",
    "\n",
    "print(fark.days)\n",
    "print(fark.seconds)\n",
    "\n"
   ]
  },
  {
   "cell_type": "code",
   "execution_count": null,
   "metadata": {},
   "outputs": [],
   "source": [
    "import datetime\n",
    "fark = datetime.timedelta(days=4)\n",
    "tarih1 = datetime.datetime(2030,5,2)\n",
    "tarih = tarih1 + fark\n",
    "print(tarih)"
   ]
  },
  {
   "cell_type": "code",
   "execution_count": null,
   "metadata": {},
   "outputs": [],
   "source": [
    "import datetime\n",
    "fark = datetime.timedelta(days=4)\n",
    "tarih1 = datetime.datetime(2030,5,2)\n",
    "tarih = tarih1 + fark\n",
    "print(tarih)"
   ]
  },
  {
   "cell_type": "code",
   "execution_count": null,
   "metadata": {},
   "outputs": [],
   "source": [
    "# Time\n",
    "# \n",
    "import time\n",
    "epoc_time = \"01-01-1970 00:00:00\"\n",
    "print(time.time())"
   ]
  },
  {
   "cell_type": "code",
   "execution_count": null,
   "metadata": {},
   "outputs": [],
   "source": [
    "time.gmtime()"
   ]
  },
  {
   "cell_type": "code",
   "execution_count": null,
   "metadata": {},
   "outputs": [],
   "source": [
    "baslangıc = time.time()\n",
    "for i in range(10):\n",
    "    print(\"Bilgi çekildi\",i)\n",
    "    time.sleep(5)\n",
    "bitis = time.time()\n",
    "\n",
    "fark = bitis - baslangıc\n",
    "print(fark)"
   ]
  },
  {
   "cell_type": "code",
   "execution_count": null,
   "metadata": {},
   "outputs": [],
   "source": []
  }
 ],
 "metadata": {
  "kernelspec": {
   "display_name": "Python 3",
   "language": "python",
   "name": "python3"
  },
  "language_info": {
   "codemirror_mode": {
    "name": "ipython",
    "version": 3
   },
   "file_extension": ".py",
   "mimetype": "text/x-python",
   "name": "python",
   "nbconvert_exporter": "python",
   "pygments_lexer": "ipython3",
   "version": "3.12.1"
  }
 },
 "nbformat": 4,
 "nbformat_minor": 2
}
