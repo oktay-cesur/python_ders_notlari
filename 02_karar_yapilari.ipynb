{
 "cells": [
  {
   "attachments": {},
   "cell_type": "markdown",
   "metadata": {},
   "source": [
    "# Karar Yapıları\n",
    "\n",
    "Program içerisinde koşullara göre yapılacak işlemi seçmemizi sağlayan yapılardır.\n",
    "\n",
    "*if - else if - else*\n",
    "\n",
    "Python' da karar yapıları ve döngüleri anlamak için önce girinti sistemini çözmek gerekir."
   ]
  },
  {
   "attachments": {},
   "cell_type": "markdown",
   "metadata": {},
   "source": [
    "Python girintileri kod bloğu olarak algılar. Eğer önceki satırda kod bloğu ile işlem yapılacak bir kod yazılmamışsa o satırda hata verir."
   ]
  },
  {
   "cell_type": "code",
   "execution_count": 23,
   "metadata": {},
   "outputs": [],
   "source": [
    "#   İki değişken de girintisiz tanımlandı.\n",
    "x = 3\n",
    "y = 4"
   ]
  },
  {
   "cell_type": "code",
   "execution_count": 27,
   "metadata": {},
   "outputs": [
    {
     "ename": "IndentationError",
     "evalue": "unexpected indent (3716198905.py, line 2)",
     "output_type": "error",
     "traceback": [
      "\u001b[1;36m  Cell \u001b[1;32mIn[27], line 2\u001b[1;36m\u001b[0m\n\u001b[1;33m    x = 3\u001b[0m\n\u001b[1;37m    ^\u001b[0m\n\u001b[1;31mIndentationError\u001b[0m\u001b[1;31m:\u001b[0m unexpected indent\n"
     ]
    }
   ],
   "source": [
    "#   İki değişken de girintili tanımlandı.\n",
    "#   Burada x' in atandığı satırda hata verdi.\n",
    " x = 3\n",
    " y = 4"
   ]
  },
  {
   "cell_type": "code",
   "execution_count": 29,
   "metadata": {},
   "outputs": [
    {
     "ename": "IndentationError",
     "evalue": "unexpected indent (288653079.py, line 4)",
     "output_type": "error",
     "traceback": [
      "\u001b[1;36m  Cell \u001b[1;32mIn[29], line 4\u001b[1;36m\u001b[0m\n\u001b[1;33m    y = 4\u001b[0m\n\u001b[1;37m    ^\u001b[0m\n\u001b[1;31mIndentationError\u001b[0m\u001b[1;31m:\u001b[0m unexpected indent\n"
     ]
    }
   ],
   "source": [
    "#   x değişken de girintisiz tanımlandı.\n",
    "#   y değişken de girintili tanımlandı.\n",
    "#   Burada y' in atandığı satırda hata verdi.\n",
    "x = 3\n",
    " y = 4"
   ]
  },
  {
   "cell_type": "code",
   "execution_count": 2,
   "metadata": {},
   "outputs": [
    {
     "name": "stdout",
     "output_type": "stream",
     "text": [
      "Bitti\n"
     ]
    }
   ],
   "source": [
    "x = 3\n",
    "\n",
    "# if yazdıktan sonra 4 karakterlik boşluk ile bir alt bloğa giriş yapılır.\n",
    "\n",
    "if x==5:\n",
    "    print(\"Doğru\")\n",
    "    \n",
    "print(\"Bitti\")"
   ]
  },
  {
   "attachments": {},
   "cell_type": "markdown",
   "metadata": {},
   "source": [
    "### Soru 1\n",
    "Ekrana girilecek iki sayıdan ilki diğerini bölüyorsa \"Bölünür\", bölünmüyorsa \"bölünmez\" yazdıran kodları yazın.\n"
   ]
  },
  {
   "cell_type": "code",
   "execution_count": null,
   "metadata": {},
   "outputs": [],
   "source": [
    "bolen = input()\n",
    "bolunen = input()\n",
    "\n",
    "bolen = int(bolen)\n",
    "bolunen = int(bolunen)\n",
    "\n",
    "if bolunen % bolen  == 0:\n",
    "    print(\"bölünür\")\n",
    "else:\n",
    "    print(\"bölünmez\")"
   ]
  },
  {
   "attachments": {},
   "cell_type": "markdown",
   "metadata": {},
   "source": [
    "## elif-else"
   ]
  },
  {
   "cell_type": "code",
   "execution_count": 14,
   "metadata": {},
   "outputs": [
    {
     "name": "stdout",
     "output_type": "stream",
     "text": [
      "3\n"
     ]
    }
   ],
   "source": [
    "x = 20\n",
    "\n",
    "if x < 5:\n",
    "    print(1)\n",
    "elif x > 5 and x < 15:\n",
    "    print(2)\n",
    "else:\n",
    "    print(3)"
   ]
  },
  {
   "attachments": {},
   "cell_type": "markdown",
   "metadata": {},
   "source": [
    "*if*  durumu içerisinde doğrudan *True-False* değerleri kullanılabilir. Hatta genel anlamda if durumu ifadenin sadece doğruluk yanlışlık değerine göre işlem yapar."
   ]
  },
  {
   "cell_type": "code",
   "execution_count": null,
   "metadata": {},
   "outputs": [],
   "source": [
    "if False:\n",
    "    print(1)\n",
    "elif False and True:\n",
    "    print(2)\n",
    "elif False or True:\n",
    "    print(3)\n",
    "else:\n",
    "    print(4)"
   ]
  },
  {
   "attachments": {},
   "cell_type": "markdown",
   "metadata": {},
   "source": [
    "## Sıralama\n",
    "Koşul blokları arasında sıralama önemlidir."
   ]
  },
  {
   "cell_type": "code",
   "execution_count": 20,
   "metadata": {},
   "outputs": [
    {
     "name": "stdout",
     "output_type": "stream",
     "text": [
      "4\n",
      "Bitti\n"
     ]
    }
   ],
   "source": [
    "if False:\n",
    "    print(1)\n",
    "elif False:\n",
    "    print(2)\n",
    "elif False:\n",
    "    print(3)\n",
    "elif True:\n",
    "    print(4)\n",
    "elif False:\n",
    "    print(5)\n",
    "elif True:\n",
    "    print(6)\n",
    "elif False:\n",
    "    print(7)    \n",
    "else:\n",
    "    print(8)\n",
    "    \n",
    "print(\"Bitti\")"
   ]
  },
  {
   "attachments": {},
   "cell_type": "markdown",
   "metadata": {},
   "source": [
    "*if-elif* koşullarının hiçbiri sağlanmıyorsa sonuç doğrudan *else* bloğuna düşer"
   ]
  },
  {
   "cell_type": "code",
   "execution_count": 21,
   "metadata": {},
   "outputs": [
    {
     "name": "stdout",
     "output_type": "stream",
     "text": [
      "8\n",
      "Bitti\n"
     ]
    }
   ],
   "source": [
    "if False:\n",
    "    print(1)\n",
    "elif False:\n",
    "    print(2)\n",
    "elif False:\n",
    "    print(3)\n",
    "elif False:\n",
    "    print(4)\n",
    "elif False:\n",
    "    print(5)\n",
    "elif False:\n",
    "    print(6)\n",
    "elif False:\n",
    "    print(7)    \n",
    "else:\n",
    "    print(8)\n",
    "    \n",
    "print(\"Bitti\")"
   ]
  },
  {
   "cell_type": "code",
   "execution_count": 26,
   "metadata": {},
   "outputs": [
    {
     "name": "stdout",
     "output_type": "stream",
     "text": [
      "2\n"
     ]
    }
   ],
   "source": [
    "if 0:\n",
    "    print(1)\n",
    "elif 1.1:\n",
    "    print(2)\n",
    "elif 0:\n",
    "    print(3)   \n",
    "else:\n",
    "    print(4)"
   ]
  },
  {
   "attachments": {},
   "cell_type": "markdown",
   "metadata": {},
   "source": [
    "### Soru 2\n",
    "Girilen notun harf karşılığını \"Aldığınız not ##\" şeklinde çıktı olarak veren programı yazınız.\n",
    "> 0  - 40   -> F\n",
    "> \n",
    "> 40 - 54   -> D\n",
    "> \n",
    "> 55 - 74   -> C\n",
    "> \n",
    "> 75 - 84   -> B\n",
    "> \n",
    "> 85 - 100  -> A"
   ]
  },
  {
   "cell_type": "code",
   "execution_count": 30,
   "metadata": {},
   "outputs": [
    {
     "name": "stdout",
     "output_type": "stream",
     "text": [
      "Geçersiz not\n"
     ]
    }
   ],
   "source": [
    "notu = int(input(\"Notunuzu girin: \")) \n",
    "\n",
    "  \n",
    "\n",
    "if notu >= 0 and notu < 40: \n",
    "    print(\"Aldığınız not F\") \n",
    "    \n",
    "elif notu >= 40 and notu < 55: \n",
    "    print(\"Aldığınız not D\") \n",
    "    \n",
    "elif notu >= 55 and notu < 75: \n",
    "    print(\"Aldığınız not C\") \n",
    "    \n",
    "elif notu >= 75 and notu < 85: \n",
    "    print(\"Aldığınız not B\") \n",
    "    \n",
    "elif notu >= 85 and notu <= 100: \n",
    "    print(\"Aldığınız not A\") \n",
    "    \n",
    "else: \n",
    "    print(\"Geçersiz not\") "
   ]
  },
  {
   "attachments": {},
   "cell_type": "markdown",
   "metadata": {},
   "source": [
    "### Soru 3\n",
    "Soru 2 de yapılan işlem üzerine eklemeler.\n",
    "1. Çıktıyı \"Aldığınız not ## ve bu notun karşılığı ## \" şeklinde versin."
   ]
  },
  {
   "cell_type": "code",
   "execution_count": 32,
   "metadata": {},
   "outputs": [
    {
     "name": "stdout",
     "output_type": "stream",
     "text": [
      "Aldığınız not 75 ve bu notun karşılığı B\n"
     ]
    }
   ],
   "source": [
    "notu = int(input(\"Notunuzu girin: \")) \n",
    "\n",
    "if notu >= 0 and notu < 40: \n",
    "    harf = \"F\"\n",
    "    print(f\"Aldığınız not {notu} ve bu notun karşılığı {harf}\") \n",
    "    \n",
    "elif notu >= 40 and notu < 55: \n",
    "    harf = \"D\"\n",
    "    print(f\"Aldığınız not {notu} ve bu notun karşılığı {harf}\") \n",
    "    \n",
    "elif notu >= 55 and notu < 75: \n",
    "    harf = \"C\"\n",
    "    print(f\"Aldığınız not {notu} ve bu notun karşılığı {harf}\") \n",
    "    \n",
    "elif notu >= 75 and notu < 85: \n",
    "    harf = \"B\"\n",
    "    print(f\"Aldığınız not {notu} ve bu notun karşılığı {harf}\") \n",
    "    \n",
    "elif notu >= 85 and notu <= 100:\n",
    "    harf = \"A\" \n",
    "    print(f\"Aldığınız not {notu} ve bu notun karşılığı {harf}\")  \n",
    "    \n",
    "else: \n",
    "    print(\"Geçersiz not\") "
   ]
  },
  {
   "attachments": {},
   "cell_type": "markdown",
   "metadata": {},
   "source": [
    "## match-case\n"
   ]
  },
  {
   "cell_type": "code",
   "execution_count": 33,
   "metadata": {},
   "outputs": [
    {
     "name": "stdout",
     "output_type": "stream",
     "text": [
      "1\n"
     ]
    }
   ],
   "source": [
    "var = \"a\"\n",
    "\n",
    "match var:\n",
    "    case \"a\":\n",
    "        print(1)\n",
    "    case \"b\":\n",
    "        print(2)\n",
    "    case _:\n",
    "        print(\"Boş\")"
   ]
  },
  {
   "attachments": {},
   "cell_type": "markdown",
   "metadata": {},
   "source": [
    "## Tenary\n",
    "\n",
    "Doğru yanlış iki sonuçlu işlem yapılacak durumlarda kullanılır. Tek satırda atama yapmayı saplar."
   ]
  },
  {
   "cell_type": "code",
   "execution_count": 2,
   "metadata": {},
   "outputs": [],
   "source": [
    "a = 30\n",
    "b = 25\n",
    "\n",
    "min = a if a < b else b\n",
    "\n",
    "\n",
    "if a < b:\n",
    "    min_1 = a\n",
    "else:\n",
    "    min_1 =b"
   ]
  },
  {
   "cell_type": "code",
   "execution_count": 6,
   "metadata": {},
   "outputs": [],
   "source": [
    "x = \"İlk\" if True else \"Son\"\n",
    "y = \"İlk\" if False else \"Son\""
   ]
  }
 ],
 "metadata": {
  "kernelspec": {
   "display_name": "Python 3",
   "language": "python",
   "name": "python3"
  },
  "language_info": {
   "codemirror_mode": {
    "name": "ipython",
    "version": 3
   },
   "file_extension": ".py",
   "mimetype": "text/x-python",
   "name": "python",
   "nbconvert_exporter": "python",
   "pygments_lexer": "ipython3",
   "version": "3.11.2"
  },
  "orig_nbformat": 4
 },
 "nbformat": 4,
 "nbformat_minor": 2
}
