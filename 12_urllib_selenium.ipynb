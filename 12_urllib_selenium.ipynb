{
 "cells": [
  {
   "cell_type": "code",
   "execution_count": null,
   "metadata": {},
   "outputs": [],
   "source": [
    "from urllib.request import urlopen\n",
    "from bs4 import BeautifulSoup\n",
    "\n",
    "url = \"https://www.python.org/\"\n",
    "\n",
    "response = urlopen(url)\n",
    "baslik = response.headers\n",
    "\n",
    "print(f\"Status: {response.status}\")\n",
    "print(f\"Reason: {response.reason}\")\n",
    "\n",
    "print(\"bağlantı durumu : \",baslik[\"Connection\"])\n",
    "print()\n",
    "print(baslik)\n",
    "\n",
    "icerik = response.read()\n",
    "print(icerik.decode('utf-8'))\n",
    "\n",
    "\n"
   ]
  },
  {
   "cell_type": "code",
   "execution_count": null,
   "metadata": {},
   "outputs": [],
   "source": [
    "from urllib.request import urlopen\n",
    "from bs4 import BeautifulSoup\n",
    "\n",
    "url = \"https://www.python.org/\"\n",
    "\n",
    "response = urlopen(url)\n",
    "baslik = response.headers\n",
    "icerik = response.read()\n",
    "\n",
    "soup = BeautifulSoup(icerik,\"html.parser\")\n",
    "\n",
    "divler = soup.find_all(\"div\")\n",
    "linkler = soup.find_all(\"a\")\n",
    "for link in linkler:\n",
    "    print(link.get_text())"
   ]
  },
  {
   "cell_type": "code",
   "execution_count": null,
   "metadata": {},
   "outputs": [],
   "source": [
    "for link in linkler:\n",
    "    print(link.get(\"class\"))"
   ]
  },
  {
   "cell_type": "code",
   "execution_count": null,
   "metadata": {},
   "outputs": [],
   "source": [
    "for link in linkler:\n",
    "    sınıf = link.get('class')\n",
    "    if sınıf:\n",
    "        if \"readmore\" in sınıf:\n",
    "            print(link)"
   ]
  },
  {
   "cell_type": "code",
   "execution_count": null,
   "metadata": {},
   "outputs": [],
   "source": [
    "div = soup.find_all(\"div\",attrs= {\"class\": \"blog-widget\"})[0]\n",
    "link_liste = []\n",
    "linkler = div.find_all(\"a\")\n",
    "for link in linkler:\n",
    "    link_liste.append(link.get(\"href\"))\n",
    "    print(link.get(\"href\"))\n"
   ]
  },
  {
   "cell_type": "markdown",
   "metadata": {},
   "source": [
    "# Guthenberg"
   ]
  },
  {
   "cell_type": "code",
   "execution_count": null,
   "metadata": {},
   "outputs": [],
   "source": [
    "from urllib.request import urlopen\n",
    "from bs4 import BeautifulSoup\n",
    "\n",
    "url = \"https://www.gutenberg.org/browse/recent/last7\"\n",
    "\n",
    "response = urlopen(url)\n",
    "icerik = response.read()\n",
    "soup = BeautifulSoup(icerik,\"html.parser\")\n",
    "\n",
    "# Tek nesne olduğundan find_all yerine find kullandık.\n",
    "# Find komutu bulduğu ilk nesneyi döndürür.\n",
    "tag_div = soup.find(\"div\", attrs={\"class\": \"pgdbrecent\"})  \n",
    "\n",
    "tags_yazar = tag_div.find_all(\"h2\")\n",
    "yazarlar =[yazar.get_text() for yazar in tags_yazar]\n",
    "kitaplar =[]    \n",
    "tags_kitap = tag_div.find_all(\"ul\")\n",
    "sayac = 0\n",
    "for tag_kitap in tags_kitap:\n",
    "    yazar_adi = yazarlar[sayac]\n",
    "    sayac += 1\n",
    "    tags_kitap_li = tag_kitap.find_all(\"li\")\n",
    "    for tag_kitap_li in tags_kitap_li:\n",
    "        kitap_adi = tag_kitap_li.get_text()\n",
    "        kitaplar.append((kitap_adi, yazar_adi))\n",
    "        print((kitap_adi, yazar_adi))\n",
    "\n",
    "\n"
   ]
  },
  {
   "cell_type": "code",
   "execution_count": null,
   "metadata": {},
   "outputs": [],
   "source": [
    "from urllib.request import urlopen\n",
    "from bs4 import BeautifulSoup\n",
    "\n",
    "\n",
    "\n",
    "def baglanti_listesi_olustur(url = \"https://www.gutenberg.org/browse/recent/last7\"):\n",
    "    baglanti_list =[]\n",
    "    response = urlopen(url)\n",
    "    icerik = response.read()\n",
    "    soup = BeautifulSoup(icerik,\"html.parser\")\n",
    "\n",
    "    tag_div = soup.find(\"div\", attrs={\"class\": \"pgdbrecent\"})  \n",
    "    tags_linkler = tag_div.find_all(\"li\")\n",
    "\n",
    "\n",
    "    for tag_linkler in tags_linkler:\n",
    "        baglanti = tag_linkler.find(\"a\").get(\"href\")\n",
    "        baglanti_list.append(baglanti)\n",
    "        \n",
    "    return baglanti_list\n",
    "        \n",
    "baglanti_listesi = baglanti_listesi_olustur()\n",
    "\n",
    "for baglanti in baglanti_listesi:\n",
    "    url = \"https://www.gutenberg.org\"\n",
    "    yeni_baglanti= url+baglanti\n",
    "    print(yeni_baglanti)\n",
    "    response = urlopen(yeni_baglanti)\n",
    "    icerik = response.read()\n",
    "    soup = BeautifulSoup(icerik,\"html.parser\")   \n",
    "    \n",
    "    tag_yazar = soup.find(\"a\", attrs={\"itemprop\" : \"creator\"})\n",
    "    yazar_adi = tag_yazar.get_text()\n",
    "    print(yazar_adi)\n",
    "     "
   ]
  },
  {
   "cell_type": "markdown",
   "metadata": {},
   "source": [
    "# Selenium"
   ]
  },
  {
   "cell_type": "code",
   "execution_count": null,
   "metadata": {},
   "outputs": [],
   "source": [
    "from selenium import webdriver\n",
    "from selenium.webdriver.common.by import By\n",
    "import time\n",
    "\n",
    "driver = webdriver.Firefox()\n",
    "driver.implicitly_wait(10)\n",
    "url = \"https://www.gutenberg.org/browse/recent/last7\"\n",
    "driver.get(url)\n",
    "\n",
    "\n",
    "elements = driver.find_elements(By.XPATH, \"/html/body/div[1]/div/div[2]/ul/li/a\" )\n",
    "time.sleep(2)\n",
    "elements[20].click()\n",
    "time.sleep(2)  \n",
    "driver.quit()"
   ]
  },
  {
   "cell_type": "code",
   "execution_count": null,
   "metadata": {},
   "outputs": [],
   "source": [
    "from selenium import webdriver\n",
    "from selenium.webdriver.common.by import By\n",
    "from selenium.webdriver.common.keys import Keys\n",
    "import time\n",
    "\n",
    "driver = webdriver.Firefox()\n",
    "driver.get(\"https://www.calculator.net/bmi-calculator.html\")\n",
    "\n",
    "time.sleep(1)\n",
    "kadın_secim = driver.find_element(By.XPATH,'//*[@id=\"calinputtable\"]/tbody/tr[2]/td[2]/label[2]')\n",
    "kadın_secim.click()\n",
    "time.sleep(1)\n",
    "\n",
    "\n",
    "yas_kutusu = driver.find_element(By.XPATH, '//*[@id=\"cage\"]')\n",
    "yas_kutusu.clear()\n",
    "time.sleep(1)\n",
    "yas_kutusu.send_keys(25)\n",
    "\n",
    "\n",
    "boy_kutusu = driver.find_element(By.XPATH, '//*[@id=\"cheightmeter\"]')\n",
    "boy_kutusu.clear()\n",
    "time.sleep(1)\n",
    "boy_kutusu.send_keys(170)\n",
    "\n",
    "\n",
    "time.sleep(1)\n",
    "hesapla_buton = driver.find_element(By.XPATH,'//*[@id=\"content\"]/div[4]/div[2]/table/tbody/tr/td/form/table[4]/tbody/tr/td/input[3]')\n",
    "hesapla_buton.click()\n",
    "\n",
    "time.sleep(3)\n",
    "driver.quit()"
   ]
  }
 ],
 "metadata": {
  "kernelspec": {
   "display_name": "Python 3",
   "language": "python",
   "name": "python3"
  },
  "language_info": {
   "codemirror_mode": {
    "name": "ipython",
    "version": 3
   },
   "file_extension": ".py",
   "mimetype": "text/x-python",
   "name": "python",
   "nbconvert_exporter": "python",
   "pygments_lexer": "ipython3",
   "version": "3.11.7"
  }
 },
 "nbformat": 4,
 "nbformat_minor": 2
}
