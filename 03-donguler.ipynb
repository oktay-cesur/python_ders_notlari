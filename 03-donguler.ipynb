{
 "cells": [
  {
   "attachments": {},
   "cell_type": "markdown",
   "metadata": {},
   "source": [
    "# Döngüler"
   ]
  },
  {
   "attachments": {},
   "cell_type": "markdown",
   "metadata": {},
   "source": [
    "## *while* döngüsü\n",
    "\n",
    "İçeri yazılan koşul doğru olduğu sürece çalışan döngü tipidir. Sayaç mantığıyla biteceği zamanı bizim belirlememiz gerekir."
   ]
  },
  {
   "cell_type": "code",
   "execution_count": null,
   "metadata": {},
   "outputs": [],
   "source": [
    "sayac = 0\n",
    "\n",
    "while sayac<10:\n",
    "    sayac += 1\n",
    "    print(sayac)"
   ]
  },
  {
   "attachments": {},
   "cell_type": "markdown",
   "metadata": {},
   "source": [
    "while true sonsuza kadar çalışacak bir döngü yazmamızı sağlar. Bu döngüden çıkabilmek için if-break yapısını kullanmamız gerekir."
   ]
  },
  {
   "cell_type": "code",
   "execution_count": null,
   "metadata": {},
   "outputs": [],
   "source": [
    "sayac = 0\n",
    "\n",
    "while True:\n",
    "    sayac += 1\n",
    "    print(sayac)\n",
    "    if sayac > 1000:\n",
    "        break"
   ]
  },
  {
   "attachments": {},
   "cell_type": "markdown",
   "metadata": {},
   "source": [
    "### Soru 1\n",
    "\n",
    "Ekrandan girilen bir sayının faktöriyelini hesaplayıp çıktı olarak veren programı yazınız."
   ]
  },
  {
   "cell_type": "code",
   "execution_count": null,
   "metadata": {},
   "outputs": [],
   "source": [
    "sayi = int(input(\"Bir sayı girin\"))\n",
    "\n",
    "sayac = 1\n",
    "faktoriyel = 1\n",
    "\n",
    "while sayac <= sayi:\n",
    "    faktoriyel = faktoriyel * sayac\n",
    "    sayac +=1\n",
    "    \n",
    "print(faktoriyel)"
   ]
  },
  {
   "attachments": {},
   "cell_type": "markdown",
   "metadata": {},
   "source": [
    "## *for* döngüsü\n",
    "\n",
    "Burada üzerinde işlem yapılacak **küme** önceden belirlidir. Sayaç sayı olmak zorunda değildir. Sıralı şekilde sayaç mantığıyla işlem yapmak için *range()* komutu kullanılır.\n"
   ]
  },
  {
   "cell_type": "code",
   "execution_count": null,
   "metadata": {},
   "outputs": [],
   "source": [
    "#   range(n) komutu ile 0' dan başlayıp n-1' e kadar olan sayılar listelenir.\n",
    "x = range(5)\n",
    "type(x)"
   ]
  },
  {
   "cell_type": "code",
   "execution_count": null,
   "metadata": {},
   "outputs": [],
   "source": [
    "for sayac in range(5):  # 0' dan 4' e kadar olan sayıları sıra ile seçmemizi sağlayacak.\n",
    "    print(sayac)"
   ]
  },
  {
   "cell_type": "code",
   "execution_count": null,
   "metadata": {},
   "outputs": [],
   "source": [
    "ciftrakam = [0,2,4,6,8]\n",
    "\n",
    "\n",
    "for i in ciftrakam:\n",
    "    print(i)"
   ]
  },
  {
   "cell_type": "code",
   "execution_count": null,
   "metadata": {},
   "outputs": [],
   "source": [
    "harfler = [\"a\", \"b\", \"c\", \"d\"]\n",
    "\n",
    "for i in harfler:\n",
    "    print(i)"
   ]
  },
  {
   "attachments": {},
   "cell_type": "markdown",
   "metadata": {},
   "source": [
    "### Soru 2\n",
    "Faktöriyel hesabını for döngüsüyle yapalım."
   ]
  },
  {
   "cell_type": "code",
   "execution_count": null,
   "metadata": {},
   "outputs": [],
   "source": [
    "sayi = int(input(\"Bir sayı girin\"))\n",
    "\n",
    "faktoriyel = 1\n",
    "\n",
    "for i in range(sayi):\n",
    "    faktoriyel *= i+1\n",
    "    \n",
    "print(faktoriyel)\n"
   ]
  },
  {
   "attachments": {},
   "cell_type": "markdown",
   "metadata": {},
   "source": [
    "### Soru 3\n",
    "ilk satıra 1 tane, ikinci satıra 2 tane, ... son satıra 10 tane \"-\" çıktısı veren programı yazın."
   ]
  },
  {
   "cell_type": "code",
   "execution_count": null,
   "metadata": {},
   "outputs": [],
   "source": [
    "yildiz = \"\"\n",
    "\n",
    "for i in range(10):\n",
    "    yildiz += \"-\"\n",
    "    print(yildiz)"
   ]
  },
  {
   "cell_type": "code",
   "execution_count": null,
   "metadata": {},
   "outputs": [],
   "source": [
    "for i in range(10):\n",
    "    print((i+1)*\"-\")"
   ]
  },
  {
   "attachments": {},
   "cell_type": "markdown",
   "metadata": {},
   "source": [
    "### Soru 4\n",
    "\n",
    "0-100 arasında sayi girişi yapılabilen ve bu girilen sayıyı not olarak alıp bu notun harf karşılığını \"Aldığınız not ## ve bu sayin karşılığı ## \" şeklinde çıktı olarak veren programı yazınız.\n",
    "> 0  - 40   -> F\n",
    "> \n",
    "> 40 - 54   -> D\n",
    "> \n",
    "> 55 - 74   -> C\n",
    "> \n",
    "> 75 - 84   -> B\n",
    "> \n",
    "> 85 - 100  -> A"
   ]
  },
  {
   "cell_type": "code",
   "execution_count": null,
   "metadata": {},
   "outputs": [],
   "source": [
    "while True:\n",
    "    sayi = int(input(\"Lütfen geçerli bir not girin: \")) \n",
    "    if sayi <= 100 and sayi >= 0:\n",
    "        break\n",
    "\n",
    "if sayi >= 0 and sayi < 40: \n",
    "    harf = \"F\"\n",
    "    print(f\"Aldığınız not {sayi} ve bu notun karşılığı {harf}\") \n",
    "    \n",
    "elif sayi >= 40 and sayi < 55: \n",
    "    harf = \"D\"\n",
    "    print(f\"Aldığınız not {sayi} ve bu notun karşılığı {harf}\") \n",
    "    \n",
    "elif sayi >= 55 and sayi < 75: \n",
    "    harf = \"C\"\n",
    "    print(f\"Aldığınız not {sayi} ve bu notun karşılığı {harf}\") \n",
    "    \n",
    "elif sayi >= 75 and sayi < 85: \n",
    "    harf = \"B\"\n",
    "    print(f\"Aldığınız not {sayi} ve bu notun karşılığı {harf}\") \n",
    "    \n",
    "elif sayi >= 85 and sayi <= 100:\n",
    "    harf = \"A\" \n",
    "    print(f\"Aldığınız not {sayi} ve bu notun karşılığı {harf}\")  \n",
    "    \n",
    "else: \n",
    "    print(\"Geçersiz not\") "
   ]
  }
 ],
 "metadata": {
  "kernelspec": {
   "display_name": "Python 3",
   "language": "python",
   "name": "python3"
  },
  "language_info": {
   "codemirror_mode": {
    "name": "ipython",
    "version": 3
   },
   "file_extension": ".py",
   "mimetype": "text/x-python",
   "name": "python",
   "nbconvert_exporter": "python",
   "pygments_lexer": "ipython3",
   "version": "3.11.2"
  },
  "orig_nbformat": 4
 },
 "nbformat": 4,
 "nbformat_minor": 2
}
