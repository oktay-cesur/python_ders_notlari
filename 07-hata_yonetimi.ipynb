{
 "cells": [
  {
   "attachments": {},
   "cell_type": "markdown",
   "metadata": {},
   "source": [
    "# Hata Yönetimi\n",
    "\n",
    "Kodlama yaparken ne tip hatalarla karşılaşabiliriz?\n",
    "- Yazım Hatası (Syntax error)\n",
    "- Mantık Hatası\n",
    "- İstisnalar.\n",
    "\n",
    "\n",
    "İstisnaları yönetmek için try-except yapısı kullanılır."
   ]
  },
  {
   "attachments": {},
   "cell_type": "markdown",
   "metadata": {},
   "source": [
    "Kullanıcının yaptığı girişin sayı olup olmadığını kontrol eden kodu yazınız.    "
   ]
  },
  {
   "cell_type": "code",
   "execution_count": null,
   "metadata": {},
   "outputs": [],
   "source": [
    "# Yazım hatası örneği\n",
    "print (\"merhaba\")"
   ]
  },
  {
   "cell_type": "code",
   "execution_count": null,
   "metadata": {},
   "outputs": [],
   "source": [
    "# Mantık hatası örneği.\n",
    "# 1' den 4'e kadar olan sayıların toplamını bulan kodu yazınız.\n",
    "toplam = 0\n",
    "for i in range(4):\n",
    "    toplam += i\n",
    "\n",
    "# range(4) kodu 4 sayı seçer fakat bunlar 0,1,2,3 sayılarıdır. Burada 1' den 4'e kadar toplam isteniyorsa sayacın bir arttırılması gerekir.\n",
    "    \n",
    "print(toplam)\n"
   ]
  },
  {
   "cell_type": "code",
   "execution_count": null,
   "metadata": {},
   "outputs": [],
   "source": [
    "def bolme(bolunen, bolen):\n",
    "    return bolunen / bolen\n",
    "\n",
    "ciro = 8\n",
    "satis = 0 # Bir önceki aydan kalan ödemeler.\n",
    "\n",
    "if satis != 0: \n",
    "# Ciro ve satışın paralel ilerleyeceğini düşünen bir yazılımcı satış değişkenini kontrol ettirme ihtiyacı hissetmemiş.\n",
    "    bolme(ciro, satis)\n",
    "else:\n",
    "    print(\"Satış sayısı sıfır.\")\n",
    "# bölme işleminde bölen sıfır olamaz. Burada ZeroDivisionError hatası verir."
   ]
  },
  {
   "cell_type": "code",
   "execution_count": null,
   "metadata": {},
   "outputs": [],
   "source": [
    "while True:\n",
    "    try: \n",
    "        giris = int(input(\"Bir sayı giriniz.\"))\n",
    "        break\n",
    "    except:\n",
    "        print(\"Lütfen bir sayı giriniz.\")\n",
    "        \n",
    "print(giris)\n"
   ]
  },
  {
   "cell_type": "code",
   "execution_count": null,
   "metadata": {},
   "outputs": [],
   "source": [
    "while True:\n",
    "    giris = input(\"Bir sayı giriniz.\")\n",
    "    if type(int(giris)) != int:\n",
    "        print(\"Lütfen bir tam sayı giriniz.\")\n",
    "    else:\n",
    "        giris = int(giris)\n",
    "        break     \n",
    "        \n",
    "print(giris)\n"
   ]
  },
  {
   "attachments": {},
   "cell_type": "markdown",
   "metadata": {},
   "source": [
    "Verilen sayının karesini hesaplayan fonksiyonu yazınız."
   ]
  },
  {
   "cell_type": "code",
   "execution_count": null,
   "metadata": {},
   "outputs": [],
   "source": [
    "def kare_al(sayi):\n",
    "    return sayi**3 # Burada kare yerine küp aldık.as_integer_ratio\n",
    "# Sözdizimi hatalı olmadığından program çalıştı fakat kodlamada kurgulama sırasında hata yaptığımızdan sonuç istediğimiz gibi olmadı.\n",
    "# Bu durum mantık hatasına örnektir."
   ]
  },
  {
   "cell_type": "code",
   "execution_count": null,
   "metadata": {},
   "outputs": [],
   "source": [
    "kare_al(2)"
   ]
  },
  {
   "attachments": {},
   "cell_type": "markdown",
   "metadata": {},
   "source": [
    "Kullanıcının girdiği iki sayıdan ilkini ikincisine bölen ve sonucu yazdıran kodu yazınız."
   ]
  },
  {
   "cell_type": "code",
   "execution_count": null,
   "metadata": {},
   "outputs": [],
   "source": [
    "# Burada ikinci sayı sıfır olduğunda sıfıra bölme hatası vermekte, diğer dıurumlarda istendiği gibi çalışmaktadır. \n",
    "\n",
    "sayi1 = int(input(\"İlk sayıyı giriniz\"))\n",
    "sayi2 = int(input(\"İkinci sayıyı giriniz\"))\n",
    "\n",
    "sonuc = sayi1/sayi2\n",
    "print(sonuc)"
   ]
  },
  {
   "cell_type": "code",
   "execution_count": null,
   "metadata": {},
   "outputs": [],
   "source": [
    "try:\n",
    "    sayi1 = int(input(\"İlk sayıyı giriniz\"))\n",
    "    sayi2 = int(input(\"İkinci sayıyı giriniz\"))\n",
    "\n",
    "    sonuc = sayi1/sayi2\n",
    "    print(sonuc)\n",
    "    del sonuc\n",
    "except ZeroDivisionError:\n",
    "    print(\"Sıfıra bölme yapılamaz. Lütfen paydayı sıfırdan farklı seçiniz.\")\n",
    "except ValueError:\n",
    "    print(\"Lütfen tam sayı değerleri giriniz.\")\n",
    "\n"
   ]
  },
  {
   "cell_type": "code",
   "execution_count": null,
   "metadata": {},
   "outputs": [],
   "source": [
    "# Bazı istatistik metotlarında sıfıra bölme durumunda pay ve payda bir arttırılıp devam edilir.\n",
    "\n",
    "\n",
    "try:\n",
    "    sayi1 = int(input(\"İlk sayıyı giriniz\"))\n",
    "    sayi2 = int(input(\"İkinci sayıyı giriniz\"))\n",
    "    sonuc = sayi1/sayi2\n",
    "except ZeroDivisionError:\n",
    "    sayi1 +=1\n",
    "    sayi2 +=1\n",
    "    sonuc = sayi1/sayi2  \n",
    "except ValueError:\n",
    "    print(\"Lütfen tam sayı değerleri giriniz.\")\n",
    "print(sonuc)"
   ]
  },
  {
   "attachments": {},
   "cell_type": "markdown",
   "metadata": {},
   "source": [
    "## try- except - as\n",
    "\n",
    "Hatanın açıklamasına ulaşmayı sağlar"
   ]
  },
  {
   "cell_type": "code",
   "execution_count": null,
   "metadata": {},
   "outputs": [],
   "source": [
    "while True:\n",
    "    try: \n",
    "        giris = int(input(\"Bir sayı giriniz.\"))\n",
    "        break\n",
    "    except ValueError as degerhatası:\n",
    "        print(degerhatası)\n",
    "\n",
    "        \n",
    "print(giris)"
   ]
  },
  {
   "attachments": {},
   "cell_type": "markdown",
   "metadata": {},
   "source": [
    "Kullanıcı girişinin hem sayısal olmasını hem de sıfıra bölme olmaması durumunu kontrol eden try-except yapısını oluşturun.\n"
   ]
  },
  {
   "cell_type": "code",
   "execution_count": null,
   "metadata": {},
   "outputs": [],
   "source": [
    "while True:\n",
    "    try: \n",
    "        giris1 = int(input(\"Bir sayı giriniz.\"))\n",
    "        giris2 = int(input(\"Bir sayı giriniz.\"))\n",
    "        \n",
    "        sonuc = giris1/giris2\n",
    "        \n",
    "        break\n",
    "    except ValueError:\n",
    "        print(\"Lütfen sayısal bir değer giriniz.\")\n",
    "    except ZeroDivisionError:\n",
    "        print(\"Sıfıra bölme yapılamaz.\")\n",
    "\n",
    "        \n",
    "print(sonuc)"
   ]
  },
  {
   "cell_type": "code",
   "execution_count": null,
   "metadata": {},
   "outputs": [],
   "source": [
    "while True:\n",
    "    try: \n",
    "        giris1 = int(input(\"Bir sayı giriniz.\"))\n",
    "        giris2 = int(input(\"Bir sayı giriniz.\"))\n",
    "        \n",
    "        sonuc = giris1/giris2\n",
    "        \n",
    "        break\n",
    "    except (ValueError, ZeroDivisionError):\n",
    "        print(\"Hatalı giriş yaptınız\")\n",
    "    except: \n",
    "        print(\"Bilinmeyen hata\")\n",
    "\n",
    "\n",
    "        \n",
    "print(sonuc)"
   ]
  },
  {
   "cell_type": "code",
   "execution_count": null,
   "metadata": {},
   "outputs": [],
   "source": [
    "\n",
    "\n",
    "while True:\n",
    "    try: \n",
    "        giris1 = int(input(\"Bir sayı giriniz.\"))\n",
    "        giris2 = int(input(\"Bir sayı giriniz.\"))\n",
    "    except ValueError:\n",
    "        print(\"Sayısal değer\")\n",
    "    else:\n",
    "        try: \n",
    "            sonuc = giris1/giris2\n",
    "            print(giris1/giris2)\n",
    "            break\n",
    "        except ZeroDivisionError:\n",
    "            print(\"Sıfıra bölme\")\n",
    "            \n",
    "\n",
    "        \n",
    "print(sonuc)"
   ]
  },
  {
   "cell_type": "code",
   "execution_count": null,
   "metadata": {},
   "outputs": [],
   "source": [
    "# En fazla 3 deneme hakkı verelim.\n",
    "sayac = 0\n",
    "while True:\n",
    "    sayac +=1\n",
    "    if sayac==4:\n",
    "        print(\"3 deneme hakkıknı kullandınız. Lütfen daha sonra tekrar deneyiniz.\")\n",
    "        break\n",
    "    try: \n",
    "        giris1 = int(input(\"Bir sayı giriniz.\"))\n",
    "        giris2 = int(input(\"Bir sayı giriniz.\"))\n",
    "        \n",
    "        sonuc = giris1/giris2\n",
    "        print(sonuc)\n",
    "        break\n",
    "    except ValueError:\n",
    "        print(\"Lütfen sayısal bir değer giriniz.\")\n",
    "    except ZeroDivisionError:\n",
    "        print(\"Sıfıra bölme yapılamaz.\")\n",
    "\n",
    "        \n"
   ]
  },
  {
   "attachments": {},
   "cell_type": "markdown",
   "metadata": {},
   "source": [
    "## try -except - finally\n"
   ]
  },
  {
   "attachments": {},
   "cell_type": "markdown",
   "metadata": {},
   "source": [
    "Kullanıcı girisinin tam sayı olmasını kontrol edip karesini hesaplatan, sonuç ne olursa olsun kullanılan değişkenleri silen fonksiyonu yazınız."
   ]
  },
  {
   "cell_type": "code",
   "execution_count": null,
   "metadata": {},
   "outputs": [],
   "source": [
    "try: \n",
    "    giris = int(input(\"Bir sayı giriniz.\"))\n",
    "    giris=giris**2\n",
    "    \n",
    "except:\n",
    "    print(\"Lütfen bir sayı giriniz.\")\n",
    "        \n",
    "finally:\n",
    "    del giris"
   ]
  },
  {
   "cell_type": "code",
   "execution_count": null,
   "metadata": {},
   "outputs": [],
   "source": [
    "giris"
   ]
  },
  {
   "cell_type": "code",
   "execution_count": null,
   "metadata": {},
   "outputs": [],
   "source": [
    "# hata durumu ne olursa olsun dosya ile olan bağlantıyı kapatıyoruz.\n",
    "\n",
    "try:\n",
    "   dosya = open(\"deneme1.py\", \"r\")\n",
    "except IOError:\n",
    "   print(\"bir hata oluştu!\")\n",
    "finally:\n",
    "   dosya.close()"
   ]
  },
  {
   "cell_type": "code",
   "execution_count": null,
   "metadata": {},
   "outputs": [],
   "source": []
  },
  {
   "cell_type": "code",
   "execution_count": null,
   "metadata": {},
   "outputs": [],
   "source": [
    "pay = 15\n",
    "payda = 0\n",
    "\n",
    "try:\n",
    "    print(pay/payda)\n",
    "except:\n",
    "    print(\"Payda sıfır olmamalı.\")"
   ]
  },
  {
   "cell_type": "markdown",
   "metadata": {},
   "source": [
    "## Raise"
   ]
  },
  {
   "cell_type": "code",
   "execution_count": null,
   "metadata": {},
   "outputs": [],
   "source": [
    "pay = 5\n",
    "payda = 2\n",
    "\n",
    "try:\n",
    "    print(pay/payda)\n",
    "    if pay == 5:\n",
    "        raise Exception(\"Bu pay değeri ilerleyen adımlarda mantık hatasına sebep olur\")\n",
    "except:\n",
    "    print(\"Payda sıfır olmamalı.\")"
   ]
  },
  {
   "cell_type": "code",
   "execution_count": null,
   "metadata": {},
   "outputs": [],
   "source": [
    "pay = 5\n",
    "payda = 2\n",
    "\n",
    "\n",
    "print(pay/payda)\n",
    "if pay == 5:\n",
    "    raise Exception(\"Bu pay değeri ilerleyen adımlarda mantık hatasına sebep olur\")"
   ]
  },
  {
   "cell_type": "code",
   "execution_count": null,
   "metadata": {},
   "outputs": [],
   "source": [
    "pay = 5\n",
    "payda = 2\n",
    "\n",
    "\n",
    "print(pay/payda)\n",
    "\n",
    "assert pay != 5, \"Bu pay değeri ilerleyen adımlarda mantık hatasına sebep olur\""
   ]
  }
 ],
 "metadata": {
  "kernelspec": {
   "display_name": "Python 3",
   "language": "python",
   "name": "python3"
  },
  "language_info": {
   "codemirror_mode": {
    "name": "ipython",
    "version": 3
   },
   "file_extension": ".py",
   "mimetype": "text/x-python",
   "name": "python",
   "nbconvert_exporter": "python",
   "pygments_lexer": "ipython3",
   "version": "3.10.9"
  },
  "orig_nbformat": 4
 },
 "nbformat": 4,
 "nbformat_minor": 2
}
